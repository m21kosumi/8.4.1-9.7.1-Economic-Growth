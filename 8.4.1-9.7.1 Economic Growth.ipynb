{
 "cells": [
  {
   "cell_type": "markdown",
   "metadata": {},
   "source": [
    "# Economic Growth"
   ]
  },
  {
   "cell_type": "markdown",
   "metadata": {},
   "source": [
    "# 8.4.1 モデルについて"
   ]
  },
  {
   "cell_type": "markdown",
   "metadata": {},
   "source": [
    "あるcomposite goodを生産し、消費する経済を考える.\n",
    "\n",
    "・毎年、財は数量$s$で始まり、うち$x$が投資に、残り$(s-x)$が消費に充てられる.\n",
    "\n",
    "・また、social benefitとして$u(s-x)$が生じる.\n",
    "\n",
    "・毎年はじめに利用できる財の量はcontinuous-valued Markov processによって以下のようにコントロールされる\n",
    "\n",
    "$$s_{t+1} = \\gamma x_t + \\epsilon_{t+1}h(x_t)$$\n",
    "\n",
    "・$\\gamma$はcapital survival rate(1-減価償却率)、$h$は総生産関数、$\\epsilon$は正の生産ショック(平均が1)を表す.\n",
    "\n",
    "ここでは、現在、そして将来にわたるsocial benefitの総和を最大化するような消費と投資のpolicyについて考える."
   ]
  },
  {
   "cell_type": "markdown",
   "metadata": {},
   "source": [
    "・このモデルはinfinite horizonである.$ｘ$は投資量を決定するアクションである.\n",
    "\n",
    "$$s\\in[0,\\infty), x\\in[0,s]$$\n",
    "\n",
    "・状態遷移関数(state transition function)は次のように表される.\n",
    "\n",
    "$$g(s,x,\\epsilon)=\\gamma x + \\epsilon h(x)$$\n",
    "\n",
    "・reward functionは次のように表される.\n",
    "\n",
    "$$f(s,x)=u(s-x)$$"
   ]
  },
  {
   "cell_type": "markdown",
   "metadata": {},
   "source": [
    "ストック$s$が与えられたとき、現在と将来のsocial benefitの和はBellman equationを満たす.\n",
    "\n",
    "$$V(s)=\\max_{0\\leq x \\leq s}\\{u(s-x) + \\delta E_\\epsilon V(\\gamma x +\\epsilon h(x))\\}$$"
   ]
  },
  {
   "cell_type": "markdown",
   "metadata": {},
   "source": [
    "$u'(0)=\\infty$と$h(0)=0$を仮定すると、最適条件ではconstraintsは拘束力を持たない"
   ]
  },
  {
   "cell_type": "code",
   "execution_count": 1,
   "metadata": {
    "collapsed": true,
    "scrolled": true
   },
   "outputs": [],
   "source": [
    "using QuantEcon\n",
    "using BasisMatrices\n",
    "using Optim"
   ]
  },
  {
   "cell_type": "code",
   "execution_count": 2,
   "metadata": {
    "collapsed": true,
    "scrolled": false
   },
   "outputs": [],
   "source": [
    "using Interpolations"
   ]
  },
  {
   "cell_type": "code",
   "execution_count": 3,
   "metadata": {
    "collapsed": true,
    "scrolled": false
   },
   "outputs": [],
   "source": [
    "using Plots"
   ]
  },
  {
   "cell_type": "code",
   "execution_count": 4,
   "metadata": {
    "collapsed": true
   },
   "outputs": [],
   "source": [
    "struct GrowthModel\n",
    "    alpha::Float64\n",
    "    beta::Float64\n",
    "    gamma::Float64\n",
    "    sigma::Float64\n",
    "    delta::Float64 #discount factor\n",
    "    s_vec::Vector{Float64}\n",
    "end"
   ]
  },
  {
   "cell_type": "code",
   "execution_count": 5,
   "metadata": {
    "collapsed": true
   },
   "outputs": [],
   "source": [
    "n = 500 #ここを大きくするとdpsimulのspathが7.5に近づく\n",
    "smin = 0\n",
    "smax = 10\n",
    "fspace = Basis(ChebParams(n, smin, smax))\n",
    "\n",
    "snodes = nodes(fspace);"
   ]
  },
  {
   "cell_type": "code",
   "execution_count": 6,
   "metadata": {
    "scrolled": false
   },
   "outputs": [
    {
     "data": {
      "text/plain": [
       "GrowthModel(0.2, 0.5, 0.9, 0.1, 0.9, [2.4674e-5, 0.000222064, 0.000616838, 0.00120898, 0.00199846, 0.00298526, 0.00416933, 0.00555063, 0.00712909, 0.00890467  …  9.9911, 9.99287, 9.99445, 9.99583, 9.99701, 9.998, 9.99879, 9.99938, 9.99978, 9.99998])"
      ]
     },
     "execution_count": 6,
     "metadata": {},
     "output_type": "execute_result"
    }
   ],
   "source": [
    "GM = GrowthModel(0.2, 0.5, 0.9,0.1,0.9, snodes[1])"
   ]
  },
  {
   "cell_type": "code",
   "execution_count": 7,
   "metadata": {},
   "outputs": [
    {
     "data": {
      "text/plain": [
       "update_bellman! (generic function with 1 method)"
      ]
     },
     "execution_count": 7,
     "metadata": {},
     "output_type": "execute_result"
    }
   ],
   "source": [
    "function update_bellman!(GM::GrowthModel,V::Vector)\n",
    "    a,b,g,sigma,d = GM.alpha, GM.beta, GM.gamma, GM.sigma, GM.delta\n",
    "    V_func = LinInterp(GM.s_vec, V)\n",
    "    V_new = similar(V)\n",
    "    x_opt = similar(V)\n",
    "    \n",
    "    nshocks = 3\n",
    "    e,w = qnwlogn(nshocks,-(sigma^2)/2,sigma^2)\n",
    "    \n",
    "    for (s_idx,s) in enumerate(GM.s_vec)\n",
    "        objective(x) = -(((s - x)^(1 - a)/(1 - a)) + d * dot(V_func.(g*x + e*(x^b)), w))\n",
    "        opt = optimize(objective, 1e-10, s)\n",
    "        V_new[s_idx] = - opt.minimum\n",
    "        x_opt[s_idx] = opt.minimizer\n",
    "    end\n",
    "    return V_new,x_opt\n",
    "end"
   ]
  },
  {
   "cell_type": "code",
   "execution_count": 8,
   "metadata": {
    "collapsed": true,
    "scrolled": false
   },
   "outputs": [],
   "source": [
    "V = Vector{Float64}(length(GM.s_vec))\n",
    "for i in 1:length(GM.s_vec)\n",
    "V[i] = 5\n",
    "end"
   ]
  },
  {
   "cell_type": "code",
   "execution_count": 9,
   "metadata": {
    "collapsed": true
   },
   "outputs": [],
   "source": [
    "n = 500\n",
    "V_computed = similar(V)\n",
    "x_opt = similar(V)\n",
    "resid1 = Vector{Float64}(n)\n",
    "\n",
    "for i in 1:n\n",
    "    V_func =  LinInterp(snodes[1], V)\n",
    "    V_computed, x_opt = update_bellman!(GM,V)\n",
    "    for j in 1:length(V_computed)\n",
    "        resid1[j] =  V_computed[j] - V[j]\n",
    "    end\n",
    "    copy!(V, V_computed)\n",
    "end"
   ]
  },
  {
   "cell_type": "code",
   "execution_count": 10,
   "metadata": {
    "scrolled": false
   },
   "outputs": [
    {
     "data": {
      "text/html": [
       "<img src=\"data:image/png;base64,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\" />"
      ]
     },
     "execution_count": 10,
     "metadata": {},
     "output_type": "execute_result"
    }
   ],
   "source": [
    "x_per = similar(V)\n",
    "for i in 1:length(x_per)\n",
    "    x_per[i] = x_opt[i] / GM.s_vec[i]\n",
    "end\n",
    "\n",
    "plot(GM.s_vec, x_per,xlim=(5,10),ylim=(0.65,0.9))"
   ]
  },
  {
   "cell_type": "code",
   "execution_count": 11,
   "metadata": {
    "scrolled": false
   },
   "outputs": [
    {
     "data": {
      "text/html": [
       "<img src=\"data:image/png;base64,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\" />"
      ]
     },
     "execution_count": 11,
     "metadata": {},
     "output_type": "execute_result"
    }
   ],
   "source": [
    "plot(resid1)"
   ]
  },
  {
   "cell_type": "markdown",
   "metadata": {
    "collapsed": true
   },
   "source": [
    "LQapprox部分の実装"
   ]
  },
  {
   "cell_type": "markdown",
   "metadata": {},
   "source": [
    "方法１"
   ]
  },
  {
   "cell_type": "code",
   "execution_count": 155,
   "metadata": {
    "scrolled": false
   },
   "outputs": [
    {
     "data": {
      "text/plain": [
       "([0.0 -2.84217e-14; 0.0 -51.2464], [-1.0 9.0374], 0.0)"
      ]
     },
     "execution_count": 155,
     "metadata": {},
     "output_type": "execute_result"
    }
   ],
   "source": [
    "GM::GrowthModel\n",
    "a,b,gamma,sigma,d = GM.alpha, GM.beta, GM.gamma, GM.sigma, GM.delta\n",
    "\n",
    "estar = 1 #教科書訂正\n",
    "xstar = ((1 - d*gamma)/(d*b))^(1/(b - 1))\n",
    "sstar = gamma*xstar + xstar^b\n",
    "cstar = sstar - xstar\n",
    "\n",
    "gx = gamma+b*((xstar)^(b-1))\n",
    "f = (cstar^(-a))/(1-a)\n",
    "fs = cstar^(-a)\n",
    "fss = -a*(cstar^(-a-1))\n",
    "\n",
    "A = [0 gamma*xstar+(xstar^b)-sstar;\n",
    "     0                 1]\n",
    "B = [gx;\n",
    "     0]\n",
    "C = zeros(2,1)\n",
    "\n",
    "R = [-1/2*fss -1/2*fs;\n",
    "     -1/2*fs  -f]\n",
    "Q = -1/2*fss\n",
    "N = [1/2*fss 1/2*fs]\n",
    "\n",
    "lq = LQ(Q,R,A,B,C,N; bet=d)\n",
    "\n",
    "P, F, d =  stationary_values(lq)"
   ]
  },
  {
   "cell_type": "markdown",
   "metadata": {},
   "source": [
    "方法２:transition functionをreward functionに入れ込む"
   ]
  },
  {
   "cell_type": "code",
   "execution_count": 17,
   "metadata": {},
   "outputs": [
    {
     "data": {
      "text/plain": [
       "([0.0209329 -0.200212; -0.200212 -7.38542], [-0.560922 9.80736], 0.0)"
      ]
     },
     "execution_count": 17,
     "metadata": {},
     "output_type": "execute_result"
    }
   ],
   "source": [
    "GM::GrowthModel\n",
    "a,b,gamma,sigma,d = GM.alpha, GM.beta, GM.gamma, GM.sigma, GM.delta\n",
    "\n",
    "estar = 1 #教科書訂正\n",
    "xstar = ((1 - d*gamma)/(d*b))^(1/(b - 1))\n",
    "sstar = gamma*xstar + xstar^b\n",
    "cstar = sstar - xstar\n",
    "\n",
    "m1 = gamma*sstar + sstar^b -xstar\n",
    "m2 = gamma+b*(sstar)^(b-1)\n",
    "\n",
    "u = (m1^(1-a))/(1-a)\n",
    "us = (m1^(-a))*m2\n",
    "ux = -(m1^(-a))\n",
    "uss = m1^(-a)*(b-1)*sstar^(b-2) + m2^2*(-a)*m1^(-a-1)\n",
    "uxx = -a*(m1^(-a-1))\n",
    "usx = a*(m1^(-a-1))*m2\n",
    "\n",
    "A = zeros(2,2)\n",
    "B = [1;\n",
    "     0]\n",
    "C = zeros(2,1)\n",
    "\n",
    "R = [-1/2*uss -1/2*us;\n",
    "     -1/2*us -u]\n",
    "Q = -1/2*uxx\n",
    "\n",
    "N = [-1/2*usx -1/2*ux]\n",
    "\n",
    "lq = LQ(Q,R,A,B,C,N; bet=d)\n",
    "\n",
    "P, F, d =  stationary_values(lq)"
   ]
  },
  {
   "cell_type": "code",
   "execution_count": 45,
   "metadata": {
    "scrolled": false
   },
   "outputs": [
    {
     "data": {
      "text/plain": [
       "([5.0 -7.00275 … -1.72873e-24 -9.69682e-25; 1.0 0.0 … 0.0 0.0], [-7.00275 -3.928 … -1.72873e-24 -9.69682e-25], [0.0 0.0 … 0.0 0.0; 0.0 0.0 … 0.0 0.0])"
      ]
     },
     "execution_count": 45,
     "metadata": {},
     "output_type": "execute_result"
    }
   ],
   "source": [
    "s0 = [5.0;1.0]\n",
    "s_path,x_path = compute_sequence(lq,s0)"
   ]
  },
  {
   "cell_type": "code",
   "execution_count": 46,
   "metadata": {
    "scrolled": true
   },
   "outputs": [
    {
     "data": {
      "text/plain": [
       "2×101 Array{Float64,2}:\n",
       " 5.0  -7.00275  -3.928  -2.2033  -1.23588  …  -1.72873e-24  -9.69682e-25\n",
       " 1.0   0.0       0.0     0.0      0.0          0.0           0.0        "
      ]
     },
     "execution_count": 46,
     "metadata": {},
     "output_type": "execute_result"
    }
   ],
   "source": [
    "s_path"
   ]
  },
  {
   "cell_type": "code",
   "execution_count": 47,
   "metadata": {
    "scrolled": true
   },
   "outputs": [
    {
     "data": {
      "text/plain": [
       "1×100 Array{Float64,2}:\n",
       " 7.00275  3.928  2.2033  1.23588  0.693233  …  1.72873e-24  9.69682e-25"
      ]
     },
     "execution_count": 47,
     "metadata": {},
     "output_type": "execute_result"
    }
   ],
   "source": [
    "-x_path"
   ]
  },
  {
   "cell_type": "code",
   "execution_count": 50,
   "metadata": {
    "scrolled": true
   },
   "outputs": [],
   "source": [
    "slq = reshape(x_path,100,1);"
   ]
  },
  {
   "cell_type": "code",
   "execution_count": 49,
   "metadata": {
    "scrolled": false
   },
   "outputs": [
    {
     "data": {
      "text/html": [
       "<img src=\"data:image/png;base64,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\" />"
      ]
     },
     "execution_count": 49,
     "metadata": {},
     "output_type": "execute_result"
    }
   ],
   "source": [
    "plot(-slq)"
   ]
  },
  {
   "cell_type": "markdown",
   "metadata": {},
   "source": [
    "dpsimulの実装"
   ]
  },
  {
   "cell_type": "code",
   "execution_count": 16,
   "metadata": {},
   "outputs": [
    {
     "data": {
      "text/plain": [
       "GM_dpsimul (generic function with 1 method)"
      ]
     },
     "execution_count": 16,
     "metadata": {},
     "output_type": "execute_result"
    }
   ],
   "source": [
    "function GM_dpsimul(GM::GrowthModel,sinit,nyrs,sres,xres)\n",
    "    a,b,g,sigma,d = GM.alpha, GM.beta, GM.gamma, GM.sigma, GM.delta\n",
    "\n",
    "    nrep = length(sinit) #npath\n",
    "    nshocks = 3\n",
    "    e,w = qnwlogn(nshocks,-(sigma^2)/2,sigma^2)\n",
    "    ssim = zeros(nrep,nyrs+1)\n",
    "    xsim = zeros(nrep,nyrs+1)\n",
    "    \n",
    "    rv = DiscreteRV(w)\n",
    "    trans(x) = (g*x) + e[rand(rv)]*x^b #state transition function\n",
    "        \n",
    "    for t in 1:nyrs+1\n",
    "        li = LinInterp(sres, xres)\n",
    "        xx = Vector{Float64}(length(sinit))\n",
    "        for i in 1:length(sinit)\n",
    "            xx[i]=li(sinit[i])\n",
    "        end\n",
    "        ssim[:,t] = sinit\n",
    "        xsim[:,t]= xx\n",
    "        for i in 1:length(sinit) -1\n",
    "            sinit[i+1] = trans(xx[i])\n",
    "        end\n",
    "    end\n",
    "        \n",
    "    return ssim,xsim\n",
    "end"
   ]
  },
  {
   "cell_type": "code",
   "execution_count": 17,
   "metadata": {
    "scrolled": true
   },
   "outputs": [
    {
     "data": {
      "text/plain": [
       "5-element Array{Float64,1}:\n",
       " 0.995012\n",
       " 0.995012\n",
       " 1.18318 \n",
       " 0.995012\n",
       " 0.995012"
      ]
     },
     "execution_count": 17,
     "metadata": {},
     "output_type": "execute_result"
    }
   ],
   "source": [
    "nshocks = 3\n",
    "    e,w = qnwlogn(nshocks,-(sigma^2)/2,sigma^2)\n",
    "d = DiscreteRV(w);\n",
    "\n",
    "e[rand(d, 5)]"
   ]
  },
  {
   "cell_type": "code",
   "execution_count": 18,
   "metadata": {
    "collapsed": true,
    "scrolled": true
   },
   "outputs": [],
   "source": [
    "nyrs = 20\n",
    "npath = 2000\n",
    "sinit = 5*ones(npath,1) \n",
    "\n",
    "spath,xpath = GM_dpsimul(GM,sinit,nyrs,snodes[1],x_opt);"
   ]
  },
  {
   "cell_type": "code",
   "execution_count": 19,
   "metadata": {},
   "outputs": [
    {
     "data": {
      "text/plain": [
       "21-element Array{Float64,1}:\n",
       " 5.0    \n",
       " 5.60674\n",
       " 6.08086\n",
       " 6.43267\n",
       " 6.70124\n",
       " 6.90166\n",
       " 7.04129\n",
       " 7.12591\n",
       " 7.21394\n",
       " 7.27053\n",
       " 7.30821\n",
       " 7.33375\n",
       " 7.34927\n",
       " 7.36368\n",
       " 7.36579\n",
       " 7.3715 \n",
       " 7.38197\n",
       " 7.39427\n",
       " 7.40622\n",
       " 7.40542\n",
       " 7.40585"
      ]
     },
     "execution_count": 19,
     "metadata": {},
     "output_type": "execute_result"
    }
   ],
   "source": [
    "spath_x = vec(mean(spath,1))"
   ]
  },
  {
   "cell_type": "code",
   "execution_count": 20,
   "metadata": {
    "scrolled": false
   },
   "outputs": [
    {
     "data": {
      "text/html": [
       "<img src=\"data:image/png;base64,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\" />"
      ]
     },
     "execution_count": 20,
     "metadata": {},
     "output_type": "execute_result"
    }
   ],
   "source": [
    "plot(spath_x,ylim=(5.0,7.5))"
   ]
  },
  {
   "cell_type": "markdown",
   "metadata": {},
   "source": [
    "dpststの実装"
   ]
  },
  {
   "cell_type": "code",
   "execution_count": 38,
   "metadata": {},
   "outputs": [
    {
     "data": {
      "text/plain": [
       "dpstst (generic function with 1 method)"
      ]
     },
     "execution_count": 38,
     "metadata": {},
     "output_type": "execute_result"
    }
   ],
   "source": [
    "function dpstst(GM::GrowthModel,nsmooth,nnodes,scoord,x)\n",
    "    a,b,g,sigma,d = GM.alpha, GM.beta, GM.gamma, GM.sigma, GM.delta\n",
    "    smin = scoord[1]\n",
    "    smax = scoord[end]\n",
    "    swid = (smax - smin)/nnodes\n",
    "    smid = linspace(smin+swid/2,smax-swid/2,nnodes) \n",
    "    nshocks = 3\n",
    "    e,w = qnwlogn(nshocks,-(sigma^2)/2,sigma^2)\n",
    "    \n",
    "    m = length(w)\n",
    "    ss = gridmake(smid)\n",
    "    xx = similar(ss)\n",
    "    q = ones(length(ss))\n",
    "    li = LinInterp(scoord,x)\n",
    "    for t in 1:nsmooth\n",
    "        for k in 1:length(ss)\n",
    "            xx[k] = li(ss[k])\n",
    "        end\n",
    "        ss,xx,ee = gridmake([ss,xx],e)\n",
    "        for r in 1:length(ss)\n",
    "            ss[r] = g*xx[r] + xx[r]^b\n",
    "        end\n",
    "        for l in 1:length(ss)\n",
    "            q[l] = q[l]*w' #?\n",
    "        end\n",
    "    end\n",
    "    nobs = m^nsmooth\n",
    "    ss = reshape(ss,nnodes,nobs)\n",
    "    q = reshape(q,nnodes,nobs)\n",
    "        \n",
    "    p = zeros(nnodes,nnodes)\n",
    "    for j in 1:nobs\n",
    "        i = ceil((ss[:,j]-smin)/swid)\n",
    "        i = min(max(i,1),nnodes)\n",
    "        ind = (1:nnodes)'+(i-1)*nnodes\n",
    "        p[ind] = p[ind] + q[i,j]\n",
    "    end\n",
    "    mc = MarkovChain(p)\n",
    "    p = stationary_distributions(mc)\n",
    "    \n",
    "    return smid,p,xx\n",
    "end"
   ]
  },
  {
   "cell_type": "code",
   "execution_count": 39,
   "metadata": {
    "scrolled": false
   },
   "outputs": [
    {
     "ename": "LoadError",
     "evalue": "\u001b[91mMethodError: Cannot `convert` an object of type RowVector{Float64,Array{Float64,1}} to an object of type Float64\nThis may have arisen from a call to the constructor Float64(...),\nsince type constructors fall back to convert methods.\u001b[39m",
     "output_type": "error",
     "traceback": [
      "\u001b[91mMethodError: Cannot `convert` an object of type RowVector{Float64,Array{Float64,1}} to an object of type Float64\nThis may have arisen from a call to the constructor Float64(...),\nsince type constructors fall back to convert methods.\u001b[39m",
      "",
      "Stacktrace:",
      " [1] \u001b[1msetindex!\u001b[22m\u001b[22m\u001b[1m(\u001b[22m\u001b[22m::Array{Float64,1}, ::RowVector{Float64,Array{Float64,1}}, ::Int64\u001b[1m)\u001b[22m\u001b[22m at \u001b[1m.\\array.jl:549\u001b[22m\u001b[22m",
      " [2] \u001b[1mdpstst\u001b[22m\u001b[22m\u001b[1m(\u001b[22m\u001b[22m::GrowthModel, ::Int64, ::Int64, ::Array{Float64,1}, ::Array{Float64,1}\u001b[1m)\u001b[22m\u001b[22m at \u001b[1m.\\In[38]:24\u001b[22m\u001b[22m",
      " [3] \u001b[1minclude_string\u001b[22m\u001b[22m\u001b[1m(\u001b[22m\u001b[22m::String, ::String\u001b[1m)\u001b[22m\u001b[22m at \u001b[1m.\\loading.jl:515\u001b[22m\u001b[22m"
     ]
    }
   ],
   "source": [
    "h = 5\n",
    "nbins = 80\n",
    "ss,pi,xx = dpstst(GM,h,nbins,GM.s_vec,x_opt)"
   ]
  }
 ],
 "metadata": {
  "kernelspec": {
   "display_name": "Julia 0.6.0",
   "language": "julia",
   "name": "julia-0.6"
  },
  "language_info": {
   "file_extension": ".jl",
   "mimetype": "application/julia",
   "name": "julia",
   "version": "0.6.0"
  }
 },
 "nbformat": 4,
 "nbformat_minor": 2
}
