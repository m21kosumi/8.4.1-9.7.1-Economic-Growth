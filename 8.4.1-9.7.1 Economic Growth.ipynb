{
 "cells": [
  {
   "cell_type": "markdown",
   "metadata": {},
   "source": [
    "# Economic Growth"
   ]
  },
  {
   "cell_type": "markdown",
   "metadata": {},
   "source": [
    "# 8.4.1 モデルについて"
   ]
  },
  {
   "cell_type": "markdown",
   "metadata": {},
   "source": [
    "あるcomposite goodを生産し、消費する経済を考える.\n",
    "\n",
    "・毎年、財は数量$s$で始まり、うち$x$が投資に、残り$(s-x)$が消費に充てられる.\n",
    "\n",
    "・また、social benefitとして$u(s-x)$が生じる.\n",
    "\n",
    "・毎年はじめに利用できる財の量はcontinuous-valued Markov processによって以下のようにコントロールされる\n",
    "\n",
    "$$s_{t+1} = \\gamma x_t + \\epsilon_{t+1}h(x_t)$$\n",
    "\n",
    "・$\\gamma$はcapital survival rate(1-減価償却率)、$h$は総生産関数、$\\epsilon$は正の生産ショック(平均が1)を表す.\n",
    "\n",
    "ここでは、現在、そして将来にわたるsocial benefitの総和を最大化するような消費と投資のpolicyについて考える."
   ]
  },
  {
   "cell_type": "markdown",
   "metadata": {},
   "source": [
    "・このモデルはinfinite horizonである.$ｘ$は投資量を決定するアクションである.\n",
    "\n",
    "$$s\\in[0,\\infty), x\\in[0,s]$$\n",
    "\n",
    "・状態遷移関数(state transition function)は次のように表される.\n",
    "\n",
    "$$g(s,x,\\epsilon)=\\gamma x + \\epsilon h(x)$$\n",
    "\n",
    "・reward functionは次のように表される.\n",
    "\n",
    "$$f(s,x)=u(s-x)$$"
   ]
  },
  {
   "cell_type": "markdown",
   "metadata": {},
   "source": [
    "ストック$s$が与えられたとき、現在と将来のsocial benefitの和はBellman equationを満たす.\n",
    "\n",
    "$$V(s)=\\max_{0\\leq x \\leq s}\\{u(s-x) + \\delta E_\\epsilon V(\\gamma x +\\epsilon h(x))\\}$$"
   ]
  },
  {
   "cell_type": "markdown",
   "metadata": {},
   "source": [
    "$u'(0)=\\infty$と$h(0)=0$を仮定すると、最適条件ではconstraintsは拘束力を持たない"
   ]
  },
  {
   "cell_type": "code",
   "execution_count": 1,
   "metadata": {
    "collapsed": true,
    "scrolled": true
   },
   "outputs": [],
   "source": [
    "using QuantEcon\n",
    "using BasisMatrices\n",
    "using Optim"
   ]
  },
  {
   "cell_type": "code",
   "execution_count": 2,
   "metadata": {
    "collapsed": true,
    "scrolled": false
   },
   "outputs": [],
   "source": [
    "using Interpolations"
   ]
  },
  {
   "cell_type": "code",
   "execution_count": 3,
   "metadata": {
    "collapsed": true,
    "scrolled": false
   },
   "outputs": [],
   "source": [
    "using Plots"
   ]
  },
  {
   "cell_type": "code",
   "execution_count": 4,
   "metadata": {
    "collapsed": true
   },
   "outputs": [],
   "source": [
    "struct GrowthModel\n",
    "    alpha::Float64\n",
    "    beta::Float64\n",
    "    gamma::Float64\n",
    "    sigma::Float64\n",
    "    delta::Float64 #discount factor\n",
    "    s_vec::Vector{Float64}\n",
    "end"
   ]
  },
  {
   "cell_type": "code",
   "execution_count": 5,
   "metadata": {
    "collapsed": true
   },
   "outputs": [],
   "source": [
    "n = 500 #ここを大きくするとdpsimulのspathが7.5に近づく\n",
    "smin = 0\n",
    "smax = 10\n",
    "fspace = Basis(ChebParams(n, smin, smax))\n",
    "\n",
    "snodes = nodes(fspace);"
   ]
  },
  {
   "cell_type": "code",
   "execution_count": 6,
   "metadata": {
    "scrolled": false
   },
   "outputs": [
    {
     "data": {
      "text/plain": [
       "GrowthModel(0.2, 0.5, 0.9, 0.1, 0.9, [2.4674e-5, 0.000222064, 0.000616838, 0.00120898, 0.00199846, 0.00298526, 0.00416933, 0.00555063, 0.00712909, 0.00890467  …  9.9911, 9.99287, 9.99445, 9.99583, 9.99701, 9.998, 9.99879, 9.99938, 9.99978, 9.99998])"
      ]
     },
     "execution_count": 6,
     "metadata": {},
     "output_type": "execute_result"
    }
   ],
   "source": [
    "GM = GrowthModel(0.2, 0.5, 0.9,0.1,0.9, snodes[1])"
   ]
  },
  {
   "cell_type": "code",
   "execution_count": 7,
   "metadata": {},
   "outputs": [
    {
     "data": {
      "text/plain": [
       "update_bellman! (generic function with 1 method)"
      ]
     },
     "execution_count": 7,
     "metadata": {},
     "output_type": "execute_result"
    }
   ],
   "source": [
    "function update_bellman!(GM::GrowthModel,V::Vector)\n",
    "    a,b,g,sigma,d = GM.alpha, GM.beta, GM.gamma, GM.sigma, GM.delta\n",
    "    V_func = LinInterp(GM.s_vec, V)\n",
    "    V_new = similar(V)\n",
    "    x_opt = similar(V)\n",
    "    \n",
    "    nshocks = 3\n",
    "    e,w = qnwlogn(nshocks,-(sigma^2)/2,sigma^2)\n",
    "    \n",
    "    for (s_idx,s) in enumerate(GM.s_vec)\n",
    "        objective(x) = -(((s - x)^(1 - a)/(1 - a)) + d * dot(V_func.(g*x + e*(x^b)), w))\n",
    "        opt = optimize(objective, 1e-10, s)\n",
    "        V_new[s_idx] = - opt.minimum\n",
    "        x_opt[s_idx] = opt.minimizer\n",
    "    end\n",
    "    return V_new,x_opt\n",
    "end"
   ]
  },
  {
   "cell_type": "code",
   "execution_count": 8,
   "metadata": {
    "collapsed": true,
    "scrolled": false
   },
   "outputs": [],
   "source": [
    "V = Vector{Float64}(length(GM.s_vec))\n",
    "for i in 1:length(GM.s_vec)\n",
    "V[i] = 5\n",
    "end"
   ]
  },
  {
   "cell_type": "code",
   "execution_count": 9,
   "metadata": {
    "collapsed": true
   },
   "outputs": [],
   "source": [
    "n = 500\n",
    "V_computed = similar(V)\n",
    "x_opt = similar(V)\n",
    "resid1 = Vector{Float64}(n)\n",
    "\n",
    "for i in 1:n\n",
    "    V_func =  LinInterp(snodes[1], V)\n",
    "    V_computed, x_opt = update_bellman!(GM,V)\n",
    "    for j in 1:length(V_computed)\n",
    "        resid1[j] =  V_computed[j] - V[j]\n",
    "    end\n",
    "    copy!(V, V_computed)\n",
    "end"
   ]
  },
  {
   "cell_type": "code",
   "execution_count": 10,
   "metadata": {
    "scrolled": false
   },
   "outputs": [
    {
     "data": {
      "text/html": [
       "<img src=\"data:image/png;base64,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\" />"
      ]
     },
     "execution_count": 10,
     "metadata": {},
     "output_type": "execute_result"
    }
   ],
   "source": [
    "x_per = similar(V)\n",
    "for i in 1:length(x_per)\n",
    "    x_per[i] = x_opt[i] / GM.s_vec[i]\n",
    "end\n",
    "\n",
    "plot(GM.s_vec, x_per,xlim=(5,10),ylim=(0.65,0.9),xlabel=\"Wealth\",ylabel=(\"Investment(% of Wealth)\"),title=\"Optimal investment policy by Cheb\")"
   ]
  },
  {
   "cell_type": "code",
   "execution_count": 11,
   "metadata": {
    "scrolled": false
   },
   "outputs": [
    {
     "data": {
      "text/html": [
       "<img src=\"data:image/png;base64,iVBORw0KGgoAAAANSUhEUgAAAlgAAAGQCAYAAAByNR6YAAAABHNCSVQICAgIfAhkiAAAAAlwSFlzAAAPYQAAD2EBqD+naQAAIABJREFUeJzsnXl4FEX6x7/VM5P7DiQkIQFycSoqoCLK5YqsP8GDI6KyHivqgu66roonnruu18ruIqKoqKASQV1RlPsGUU6R+0pIyEEgk2Ryz3R3/f6o6Z4ZMrkgyQwz7+d5eMJM93RXd3V3ffv7vlXFOOccBEEQBEEQRJsheboABEEQBEEQvgYJLIIgiHbmhRdeAGMM69ata/FvGGMYPnx4u5XJHedSToIg3EMCiyAInyQ3NxeMMZd/JpMJSUlJmDhxIrZv3+7pIhIE4cMYPV0AgiCI9iQtLQ133nknAKC6uho7duzAokWL8L///Q+rVq3C0KFD270MDz30EG677TakpKS0+74IgvAOSGARBOHTpKen44UXXnD57p///CeeeuopPPfcc1i/fn27l6FTp07o1KlTu++HIAjvgUKEBEH4HX/84x8BADt27GiwrLKyEs8//zz69u2L4OBgREVF4frrr8emTZsarFtUVIS//OUvyMjI0Nft3bs3HnzwQVRUVOjrNZXb9MEHH6Bfv34ICgpCcnIynnjiCdTV1bktd/fu3dG9e3e3y4YPHw7GmMt3hYWFeP7553HllVciLi4OgYGB6N69O6ZOnYqSkpLGTg9BEG0AOVgEQfgtRqPrI9BsNmPo0KHYt28fhgwZggcffBAWiwXffvstRowYgUWLFuHmm28GANTU1GDIkCHIzc3FqFGjcMstt8BqtSInJwfz58/HY489hsjIyCb3//LLL2PGjBmIj4/HlClTYDKZkJ2djQMHDrTJ8W3YsAFvvfUWrr32WlxxxRUwmUzYtWsX3n33XSxfvhw7d+5stowEQZwbJLAIgvA7PvjgAwDA1Vdf7fL9ww8/jH379mHu3Lm477779O9fffVVDBw4EPfffz9Gjx6NoKAgrF69Gjk5OXjkkUfw9ttvu2ynqqoKJpOpyTIcPXoUL730EpKSkrBz507ExcUBEG7X5Zdf3haHiZEjR6K4uBhhYWEu33/66ae46667MGvWLDzzzDNtsi+CIFyhECFBED7N0aNH8cILL+CFF17A448/jpEjR+Lpp59GfHw83njjDX29M2fOIDs7GyNHjnQRVwAQFxeHxx9/HKdPn8aqVatclgUHBzfYZ1hYGAIDA5ss1+effw5ZlvHoo4/q4goAIiIi8Oyzz57LoTYgLi6ugbgCgMmTJyMiIqLBsRAE0XaQg0UQhE9z7NgxvPjiiy7fdenSBRs3bkR6err+3bZt26AoCurr6xskxQPAkSNHAAAHDx7EjTfeiKFDhyIhIQH//Oc/8euvv+LGG2/EsGHD0Lt37wa5UO749ddfAQDXXHNNg2XuvjtXvv76a7z33nvYuXMnysrKoCiKvqywsLDN9kMQhCsksAiC8Gmuv/56LFu2DABw+vRpfPLJJ5g+fTrGjh2LX375RXd4zGYzAGDz5s3YvHlzo9urrq4GAERGRmLr1q2YMWMGvvvuO/zwww8AgOTkZDz55JOYOnVqk+XSkuCd3SuN+Pj4Vh6le9566y089thj6Ny5M0aNGoWuXbvqjtvMmTNRX1/fJvshCKIhJLAIgvAbOnfujMceewwVFRV45ZVX8Oyzz2LmzJkARGgOAP72t7/hzTffbNH2UlJS8PHHH0NVVezZswcrVqzAf/7zH0ybNg3R0dGYNGlSo7/VkstLSkrQrVs3l2WnTp1y+xtJkmC1Wt0uc+61CACyLOPll19GQkICdu/e7SLkOOd4/fXXW3SMBEGcG5SDRRCE3/H0008jMTERs2fPRm5uLgBg0KBBYIzhp59+avX2JEnCJZdcgieeeAJffPEFAGDJkiVN/qZ///4AgI0bNzZY5u47AIiOjkZJSQlkWXb5vrq6Wg9hapw5cwYVFRUYPHhwA5ds+/btqK2tbfqgCII4L0hgEQThdwQHB2P69Omw2Wx4+eWXAYi8rIkTJ2LLli144403wDlv8Luff/4ZNTU1AIB9+/a5dZq074KCgposw+233w6DwYB//etfLmNSWSwWvPLKK25/M2jQINhsNnz22Wf6d5xzPPXUU3roUiMuLg7BwcHYuXOnXmYAKCsrw8MPP9xk2QiCOH8oREgQhF9y//3347XXXsOnn36Kp59+GmlpaZg9ezYOHTqEJ554AvPnz8fgwYMRFRWF/Px8bN++HUeOHEFRURFCQkKwcuVKPP744xgyZAgyMzMRGxuL48ePY8mSJQgKCsK0adOa3H96ejpmzJiB559/HhdffDEmTpwIo9GIr776ChdffDEOHTrU4DcPPfQQ5s2bh/vuuw8rV65E586dsXHjRlRUVKB///564jwgXLWpU6firbfeQv/+/TFmzBhYLBb8+OOP6NatGxITE9v8nBIE4YAcLIIg/JKgoCA89dRTkGVZ72UYExODLVu24PXXX0dAQAA+++wz/Pe//8XWrVvRt29ffPrpp/qUN9dffz2mTZsGi8WCr7/+Gm+//Ta2b9+OrKws7NixAwMHDmy2DDNmzMDcuXMRGxuL9957D4sWLcLEiRPx5Zdful2/X79+WLZsGQYMGIDFixdj/vz56NOnDzZv3oyoqKgG67/66qv4+9//DsYYZs+ejZUrV2LSpElYsWJFs+N0EQRxfjDuzgcnCIIgCIIgzhlysAiCIAiCINoYElgEQRAEQRBtDAksgiAIgiCINoYEFkEQBEEQRBtDAosgCIIgCKKNIYFFEARBEATRxpDA8gE457BYLG5HniYIgiAIouMhgeUDVFZWIjIyEpWVlZ4uit9x9gS7RMdB595ztNe5X1Oggs21oaiGXhYbg677CwcSWARxHiiK4uki+C107j1He537WvtmrVS1jULX/YUDCSyCIAjCK1DIuCJ8CBJYBEEQhFegqOIv6SzCFyCBRRAEQXgFmoNF/XUIX8Do6QIQBEEQBEAhwguRqqoqFBYWQlVVTxflvJEkCYmJiQgLC2uT7ZHAIgiCILwCVXOwPFsMooVs3boVjz76KKxWq6eL0mYEBATgX//6F6688srz3hYJLIIgCMIrUEhgXTBUVVXh0UcfxcCBAzFlyhSYTCZPF+m8sdlsmDt3Lh599FGsWLHivJ0sElgEQRCEV0AhwguHwsJCWK1WTJkyBRdddJGni9NmTJkyBVu2bEFhYSEyMzPPa1uU5E4QBEF4BZTkfuGg5Vz5gnPljHY8bZFTRgKLIAiC8AooREi0B7m5uRg+fDgiIyNxySWXdNh+SWARBEEQXoGikrQi2p6IiAi88sor+Pzzzzt0vySwCIIgCK+AQoTE+fDmm2/i/vvv1z+Xl5ejU6dOAICrr74aoaGhHVoeSnInCIIgvAIKEV74HLdwlLfDqA1RAUBqBGtynfvuuw+ZmZl4/fXXERUVhXnz5uGmm25CTExM2xeoBZDAIgiCILwCElgXNmfqODK+lNEekV4DA4rvNKJTUOMiKyoqCuPHj8dHH32Ev/71r3j33XeRnZ3d9oVpISSwCIIgCK+Ahmm4sOkUxHBkorHdHKymxJXGn//8Z4wdOxa9e/dG586dcemll7Z9YVoICSyCIAjCK9AneyahdcHSXBivvenVqxdSU1Nx//334/XXX/doWSjJnSAIgvAKKERItAVTpkyBLMsYP348AKCmpgZdu3bFhAkTsH//fnTt2hVPPfVUu5eDHCyCIAjCK6AQIdEWrF27FlOnTtUHDQ0JCcHJkyc7vBwksAiCIAivgIZpIM6HwsJCjBw5EjExMVi+fLmni0MCiyAIgvAOKERInA+JiYk4ePCgp4uhQzlYBEEQhFdAIULClyCBRRAEQXgFei9CzxaDaAGSJOSDoigeLknboh2PdnznAwksgiAIwiugHKwLh6ioKADwSPJ4e6IdT3R09Hlvi3KwCIIgCK+AQoQXDp06dcJll12Gd955B/Hx8QgKCvJ0kc6buro6zJo1CwMGDEBsbOx5b48EFkEQBOEVUJL7hYMkSXj++ecxadIk3HfffZ4uTpsREhKCOXPmtEmIkAQWQRBex7J8FdM2Kzh2m8nTRSE6EBJYFxZJSUlYtWoV8vLyIMuyp4tz3hiNRqSkpCAgIKBtttcmWyEIgmhDTlRxHK8EOOdgzLNTbxAdh5bkTlw4BAQEID093dPF8EooyZ0gCK+DnAz/RLFnt1OSO+ELkMAiCMLrUO0NLCU9+xckrAlfggQWQRBehyawVGpp/QoS1IQvQQKLIAivgxws/4TGwSJ8CRJYBEF4HeRg+SeqHiKkiicufEhgEQThdWidycjB8i+ovglfggQWQRBeh9Zdnxws/4KS3AlfggQWQRBeBzlY/ok+2TPVO+EDkMAiCMLroBws/4QENeFLkMAiCMLroF6E/gmFCAlfggQWQRBeBzlY/gkN00D4EiSwCILwOigHyz8hB4vwJUhgEQThdVAvQv+EJnsmfAkSWARBeB3kYPkn5GARvgQJLMJrKa3j2HqKXmn9EcrB8k8oB4vwJUhgEV7LvMMqbl6peLoYhAegXoT+CdU34UuQwCK8ljoZqJU9XQrCE5CD5Z9QiJDwJUhgEV6LwgGZnrR+CTlY/olijw1SiJDwBUhgEV6LCsBGKVh+iUIOll9CvQgJX4IEFuG1KCog0wPXLyEHyz+hECHhS5DAIrwWFeJBq5CN4Xc4hmmguvcnSGARvgQJLMJr0cIFlIflf1CSu39CjiXhS5DAIrwW7WFLYUL/g0KE/gmNg0X4EiSwCK9Fa2Qp0d3/UO0tLDlY/oXmWlO1E74ACSzCa9EdLHra+h0KOVh+CdU34UuQwCK8FgoR+i+Ug+WfUIiQ8CVIYBFeC4UI/RfKwfJPqBch4UuQwCK8FnKw/BetysnB8i9IUBO+BAkswmvREp0pB8v/IAfLPyEHi/AlmhVYR44cwVVXXYXMzEwMGjQI+/btc7ve999/j169eiEjIwO33norLBaLvuznn39G//79kZmZiZEjR6KgoKBF2y8pKcHo0aORkZGBfv36YcOGDfqympoaTJo0Cenp6cjMzMTixYv1Zaqq4uGHH0ZaWhrS09Mxa9Ysl7K+8sorSEtLQ1paGp555hmXZR9++CEyMjKQlpaGKVOmwGazeewYP/roI1x00UUwGo2YOXOm2/PuyygUIvRbKAfLP9F7EVK9E74Ab4YRI0bwefPmcc45X7RoER84cGCDdSorK3lcXBw/cOAA55zzadOm8ccee4xzzrmiKDwtLY2vWbOGc875G2+8wcePH9+i7d9zzz38+eef55xz/ssvv/CkpCRutVo555y/+OKL/K677uKcc378+HHeuXNnfubMGc4555988gkfOXIkl2WZl5aW8pSUFL53717OOefr16/nffr04VVVVbyuro4PGDCAf//99/p2EhISeFFREVdVlY8ZM4bPmjXLY8e4e/duvn//fj558mT+9ttvN1pHFRUVHACvqKhodJ0LkT+stXG8b+W/nlE9XZRGKS0t9XQRfJLxK0Xdf5urNLoOnXvP0V7nPvQjK8f7Vr4iv/F693four9waFJgnTp1ioeHh3ObzcY551xVVR4fH8+PHDnist6XX37Jr7/+ev3zvn37eFJSEudciIaePXvqyywWCw8MDOS1tbXNbj80NJQXFRXpvx00aBBfuXIl55zzPn368J9++klfNmHCBD537lzOOec33HAD/+KLL/Rljz/+OH/mmWc455xPnTqVv/rqq/qyd955h99xxx2cc85ff/11/sADD+jLli5dyocMGeKxY9S46667/FJg3blGNLI7TpPA8jduXSHq/pscEljeSHud++APhcBaTgKrUei6v3BoMkSYn5+PhIQEGI1GAABjDCkpKcjLy3NZLy8vD926ddM/d+/eHUVFRZBlucGy8PBwREREoLCwsMntl5aWwmazoUuXLi7b1fbtbp8dvay9j7G1WCwWl3/19fXntB1vwREipHiBv0E5WP4JDdNA+BJGTxeAaDuSk5NdPj/xxBOYPn26h0pz/tTVBwEwwVxeCbNR8XRx3FJWVubpIvgkdVZR95bKKpjNstt16Nx7jvY69woPA8BQWVkJs9k773lPQ9e9Z4iJiWn1b5oUWMnJybpLYzQawTlHXl4eUlJSXNZLSUnBypUr9c+5ubm6a5OSkoITJ07oyyorK1FRUYHExESEhYU1uv3Y2FgYjUYUFxfrDk9ubq6+b227CQkJ+rJRo0a5LBs8eHCjv3Muq/OyY8eONbqso4+xteTn5yMiIkL/HBgYiMDAwHPaljdgMMkAOILDwhET470dXs/lxiOaxqjVfWhYk3VP595ztMe5V7joVBQW7t33vKeh6/7CoMkrOC4uDpdddhkWLFgAAPjqq6/QtWtXpKenu6w3evRo7Ny5EwcPHgQAzJ49G7fddhsAYMCAAbDZbFi7di0A4L333sOYMWMQFBTU7PYnTJiAOXPmAAC2bduGgoICDBs2rMGynJwcrFu3DjfffLO+bO7cuVAUBWazGdnZ2cjKytKXzZ8/H9XV1aivr8dHH32kl3XcuHFYsmQJiouLwTnHnDlz9GWeOMbWEhER4fLvQhZXAE2V489QL0L/Q3WKC1K1Ez5Bc0laBw8e5FdeeSXPyMjgAwYM4Hv27OGcc/7cc8/xd999V1/v22+/5T179uRpaWn8pptu4uXl5fqyLVu28IsuuohnZGTwYcOG8by8vGa3zznnxcXF/LrrruPp6em8T58+ei89zjmvqqriEydO5KmpqTwjI4NnZ2fry2RZ5lOnTuU9evTgqampfObMmS7H9OKLL/IePXrwHj168CeffNJl2fvvv89TU1N5amoqv/fee/UefZ44xnnz5vGkpCQeEhLCIyMjeVJSEt+5c2eDOvLVJPeblotE5x/zvDfhlRJO24fRP4i6//QwJbl7I+1x7q2KyvG+SHJfesJ773lPQ9f9hQPjnNIJL3QsFgsiIyNRUVHhEiK80BmzXMb3eRxLRhkwppt3hgvMZjPZ9e3AqB9krCzg+HiYAXdluq97Oveeoz3OfZ3METxP5Nstvd6AG1K88573NHTdXzjQFUx4LVp4iKbK8T+oF6H/4VzXVO2EL0ACi/BaKAfLf6EcLP/DRWBRvRM+AAkswmuhqXL8F63KFWpp/QZyKwlfgwQW4bVQiNB/IQfL/6AQIeFrkMAivBYKEfovlIPlfyhOL1JU7YQvQAKL8Fq0By5NleN/KORg+R0kpglfgwQW4bVoL7QUIvQ/yMHyPyjJnfA1SGARXgslufsvlIPlf1AOFuFrkMAivBaVcrD8FtXexJKD5T9QXRO+BgkswmvRuuhTiND/IAfL/3BJcqd6J3wAEliE1+JIcvdsOYiOh3Kw/A8KERK+BgkswmvRk9zpaet3UC9C/4PENOFrkMAivBbNwaIQof9BDpb/QQ4W4WuQwCK8Fk1XUYjQ/6AcLP+DhmkgfA0SWITXQg6W/0IOlv9B804SvgYJLMJroaly/BdNU5OD5T/QVDmEr0ECi/BatMaVQoT+BzlY/geFCAlfgwQW4bXoDhbZGH4H9SL0P0hME74GCSzCa6GpcvwXcrD8D+pFSPgaJLAIr4WmyvFfqBeh/0ECi/A1SGARXosjROjZchAdDzlY/odKOViEj0ECi/BaKMndf6FehP4HiWnC1yCBRXgtNEyD/0IOlv9BwzQQvgYJLMJroRCh/+LoRUhNrb9AOViEr0ECi/BaKETov5CD5X9QXRO+BgkswmshB8t/oV6E/gcNNEr4GiSwCK+FhmnwX8jB8j8oREj4GiSwCK+FBhr1X8jB8h+43a4iMU34GiSwCK9F4QADhQg9wfSfFdy+RvbY/rUqp0bXtymr55A+kPFVjurai5DqnfABSGARXon2VhtoAGR62nY4uVUcxyye27/W2JKD5dscKhcVvL6IU4iQ8DlIYBFeifawDTRQiNAT2FSg1oP2ETlYFw6cc/xaem4VVVwr/sYHU10TvgcJLMIrUZ0EFoUIOx6bCtR4LkJIOVgXEJ8d5bjkaxm7zrS+soprxG86BQGKk1NN1U74AkZPF4Ag3KE7WBI5WJ7AkwKLOzW05Gp4P7vs7lW1zCGyJlvOyWrxV+VCVDGIv5QVQPgC5GARXonWsAZRiNAj2FSg1kMCy9m1IgfL+ymvd+RLtpb8avFbqyry7ozUIhE+BF3OhFeiNazBRvHwJToWTzpYztVNDpb3U2ETf8/lRSi/Svy1KqKujXYDjKqd8AVIYBFeicPBYiSwPIBVFf9kD1hI5GBdWJTXi79WpfW/zXN2sDhgsLdIFCIkfAESWIRXojg7WOfw4CbOD5td2XgiTOjsWpGD5f2UW8Xf1r4Icc71HCxNYBlbl8JFEF4NCSzCK9FDhAYKEXoCLdxT6wFxq9W9xMjBuhCosIpKqm/ltVKrOH6jhQgNFCIkfAgSWIRXcnaSO6eYQYeiCSxP5GFposrIyMG6EKg4RwfL2R212ZPc9RBh2xSNIDwKCSzCKyio5kjPtqGkVjxanZPcAepJ2NF4g8AySeRgXQjoIcJWOljO15aeg0UhQsKHIIFFeAXHLWJqlrwq14lfg+xdvylM2LE4BJbnktyNEjlY3o5V4fq10tp71EVgOYUIGSjJnfANSGARXkGd4vpXm4su2J71SonuHYueg+UJB8v+1yS5DtlAeB+n6xz/b20OliawTBJgVblDYDGAU5CQ8AFIYBFewdkCS2tYg8nB8giaoPVEiFAT1ybJ8X/COznjJLCsrYznanNdRgZQiJDwTUhgEV6BLrDsDbrWsFKI0DN4NAfL/lc4WORkeDO1TiHkc83BigqgECHhm5DAIryCRh0se5I7hQg7Fl1geXCYBiPreAdrdYGKSiu17i2l3ql+KmzAsvyWV5hDYDGXXoTafIQEcaFDAovwChrNwbI7WK3N7yDOD4/mYDn3IuzA/Soqx/U/KvjyODXvLcX5vnxpp4rfL1NQVNOy86ddW+5ChFQDhC9AAovwCursoQZdYGm9CDUHi0KEHQbnHFrkx+O9CDuw3mvtYapKGzXvLUUTWMFOEz0XVrfstzVnCSzVKcmdIHwBEliEV6CFGursysqR5G7vRUgDInUYzprK4+NgdeB+tWP11CTXFyLaC1F4gOO7k9Utu1drZI4ACQgxUg4W4ZuQwCK8Ai25/ewQoZ7kbv/+dC2HuY6evu2J86CunpgqR9EFFutYB8t+DXrimC9UNAcrwuT4Lr/FAkuIKzFMgyawxAsV3eGEL0ACi/AKNGFVrye5i0ds8Fkhwvs2KnjkJ2oB2xPnDgXkYBFNod2v4c4Cq6plv61VxP0dIDH7OFhcJLlTiJDwEUhgEV5Bc0numsA6XQsU1HRs2fwNZwfLk8M0dHQvQhJYradO4TBJQJDTAFatdbAC7PONtmWIMMfCkbbQhku+sqGepgMgPITR0wUgCMCNwDprLkLHwJdcX4doH1wFlueS3DveweIuf4nmqVdEGD/AKck9r4UOli6wJHsOltp2vQiPWDiOV4r/l9QCyWHnuUGCOAdIYBFegZbcruVinT3Zs+ZgVcs08XN745KD5cEQYUfPRajlXnnimC9U6lUg0CBEkkZLHaxamSPEyBBgcB2moS0ihM5h7mqqT8JDUIiQ8AocDtbZkz1rvQjF5xoZKKvv6NL5F5rACjd5QQ5WBwosChG2njpFCKxAJweroBotGqy1RhYpAAHSWQKLnb+D5TwAarXtPDdGEOcICSzCK2g0RHhWL8IaGbDYAJmGbWg3nAWWJ8KxipPA6kgHiwRW69FDhPaW5KIYUWff5bVMYOm9CO3DNEhaiPA8693VwaJnBeEZSGARXsHZwzQ4uxgG5hgHS7P7y60dXEA/wuoksDwxgr7HHSzK8Wsx9QoQKDlysPpEMVwRx5B9vPk4vksOVluHCJ0drHMQzKsLVHybq0Lxoxe5ahvHXrP/HG9HQAKL8Aoac7Ak5kiCtalcd1fMdR1fRn/BZm9UwkzMJdTSUWhDdBhZB+dg2Z2OWnI8Wky94pqDFWIExqQwrC1s/hzWKo5ehC4DjbZBiNB6HiHCfWaO3/2g4OaVClYW+M+18NEhFVd/J4PTKK9tBgkswitoMNmz/R43MOhJsM7Jx2U0IW+74RIi9HAvQhqmwbupUziCDEzPwQo2MnQKAqpsaLahFjlYDAESGk72fJ6XXb3CdSestQ7WwuMqIgNE6HOPHzk6JXVAhZU6BbQlJLAIr0AXWPabW3EWWPYQgnPDZ6ZE93ZDE1hhJrSZg7WuUMVPp1q2MU1ghRhZu+WAbSpWsbHItTw1Tnl+58J3J1S/CLFwzvHBMRNKarmTgyXkTIgRCDUycDQ/In6NzO0hQgaZiymaDG00yKhVEdevkbUuB4tzjoXHVIzrznBJLPOL+tSosKddlNR6thy+BAkswivQh2lwFyK0hxCc36yoJ2H7YWuHHKznd6j4+67WCaxwkxDW7dGh4fkdKl4+qzznO1XOIz8pmL3f98cQKawBpu8Owsy9aoNhGoTAEv9vLjRX6zTQqPZZH2j0PMtoVUWZQlvZE7a0HjhqAUYnS+gXDewr9x+BZbFHBUpq/eeY2xsSWIRXcPYwDWqzDhY9BNoLZwerrRwkcz1HUQsf3Jq4jrBPINweIYv8Kt7ABT3fEGFJHWCx+f51qbk62cdU1Ml2gaWFCA1C1ADNn8cafaoc8blWadscrECDEHutycHSpvnpFgb0jWbYXwa/SXTXHSzKb20zSGARXkF9c0nuqusI2+RgtR+6wDKyNnOwyqxAUQunOHJ2sIC2H8eIc478aqDsLJGuXV/1iqNRzaviGL9KRnUzwqlG5qiyORopX+SxrQqW5qnYVybOxfFKYEsJR5DTOFguDlZzAss+DpZJE1gyb7MQYb1id7CMrRPoeVXi2FLCGPrFiBC1NiJ8W3CwnGPiKhl1MseqAhXTNntPl1WL/T47TSHCNoMEFuEV1CniQdtokrviaGgDDZSD1Z7owzQENB0iXHlSbXH4rqweOFXbMjcgyy1PAAAgAElEQVTAIbBEa9vWDtaZOnGdNeZgAY4w4YeHVHyVw7HjTNPl1holXxZYb/2m4sblCvaWcWSGixNUVm8fpkEPETKE6vXW9Dmrk10drDql7eYitKriuRFqat31k18t5laMCwZSQsVxFNa0nYM1e7+KRTkcy09yvPGritn7VRz0kjCkw8HyjvL4AiSwCK+gTgGiAxs6WAZJJME6hwi7hgJn6CHQbjgcrMYF1olKjlE/Kvj2RPP1UK9w1MhCOJ1uQfhBy2LSHaw2EliyynX3ChANirPgc869qpWF05V9TJRmb1kzAst+PVoa6d2qqByql3R/VzmHrPJzDn3tLQMGxKi683QuOVgq55A5EGhgjhwsxd6LsC1ChLqDxVBt4y0+//lV4vkiMYaYIPFdW7nlisqxyD4+2Kz9KlYXOkKt3oAjB8vDBfEhSGARHY6scvRbbHN5sNTJQFSAmxAhtHGwuC6w0sJZi8NNHQ3nHJd+bcNXOS17aL79m4Lxq7yrX7RzkrvM3btOufZQSku6sTs3UC2pt4YhwvMXJu/uV2D6UMaIpQry7WXncHWcamQh8rX/7zEDhypET7R9ZU1vv6QJB+twOUfYxzIiPpZxorJlxzLqBxmz9yuotnGkZ9uwqqBtGuEKK0en+TJMH8qI+ETWz0VzOF8D+8o4ekco+rkKchJJwYaWhQg14R7g5H5pSe7nQo3MkbbQhs3F4jyJHCyGUCPwxTEO04cy+iySmxWV+dUcyXbnKsqeA9hWbvnGYo7iWmBsN4ZV9vG1fp/MsPC4qg9pMfAbGZPWdOzzYMspFenZNj33auZeFRd/dW5x+RUnVaQttLncs89tV5C12ruecR0FCSyiw1lTyLGvDPguTzwMZVW8zUYFOHJ+VGcHyz4OlvbATotgKPbSni6FNcDuUmBTccvKt66IY2tJxx6LxcrxzDalUeHiSHIXDY27oRry7MnA+5pxdgDXBqqoBeEWXWC1YZL73IMqJCbq5ajFKZfvLIEV6ySwFh5TERsoGsTmuutrjZPFTbu04KiKAPuo9F+0wK2okzlWF3KsKuBYmsdxzAJsO90218iRCo6yeuBvF0mokVtWf4BrHdTIQO8IFTH2cxVoEGFCwO5gtSB3TgtDOyfIC4HFzilEuL+M43il4zzVK1zvRWhVhZg+VAFsOtX0hvOqgOQw8X+jxBBharsONQuPcXQLAz4bYcD84QasusGAh/pIOFgO/GYW6+w4w7HwWMc+D34pEdeY88uBVp7WsrZQ1MNSp6mSVpzkWJzDcaoNQ60XCiSwfIiqC6QH00J7I7PllCOpGBBvjGLAQd7QwbInuZsk8QD0pINVI3MUN/Kw0BqsY5aW1cUxC0dJbfODMrYlt65U8I/dKn5qRNjZVA6JifwYwH2YUHM+WjJOkHMyeUvqTe9FqOXynGeS+5EKjl2lwJ/7SlA4dPcAcG08a2SOTkGO/KHs4yrG9ZBwaSzD3jIRVjvp5PhYrByna127tldYHXWZWynCUguPqRjXg2FMN6Zf+01xqEKIsX1lHAvtISWtd1tTVNl4s13ste08epEEiUEPlzZH5Vl10DNCRXSAOFdCJDmPgyXWaYmD5RxerFXOfZgGzWHUjkfPwbKX5Yo4hm5haFa8ODtYgHA0zyVEWFDN9RkRAGDXGY6vclVkpUoIMzHcmSFheKKE3yUxRAcC2cdVlHdgz+gcp+dTY9dAhZtwd2E1dxl8OMciwu7a8057/i08rqJG5iio5thfzqFy4O29KsrqhdBqzpVWOdc7HDRGQTXHxiIVtfb9eOP8tCSwfIhTXho2c4Zzju/zOHpFATmVwtHQwoJR9jfietXhYjhPlVMjiwdmQgiDuV68pXqCJ35Wcc137lsPTXC0RGBxznHcIkRlRyVH51dxPfejtJF8KJsqOhwEOiUfN9iO/aF8xNL8aO+ag2VgrXSw2igHa/lJkS/0+MXigNYWcaRHiGXOjWetDHSy591sKOLIqQSyUhn6Rovr7e+7VPRd7Agz3bdBwXU/iMJpIUKF2yckt3L0WiRj2mYVRyzAbWkSbu0u4VczGhXnGlq+11EL8EO++H9+dfPn7aHNCm5Y1nSvtPxqjkADkBAi/jXXiGlUOQmsyAAgMZjrDlaQwTXJ3SiJ0dmbSnLXBZYEmCSHoDnXEKF2zjThr+VghRjFBlNCgZu7S1h+snGBa1U4CqrFEA0aMYHnFiK85GsZ8w6JsvxcouKyb2SU1gG3p7s2uQEGhnHdhfDWjqGNOlI2ynELR1q2jO9PiHPhfA1o9wXQUNTXKxwXfyXj7b2O36V/KeMvP6lIz5bxc4k4hqgAcd1O26ygzyIZVTagcxDw2q8q7lyr4MpvZbyws+kXjS+Pc2R+KTea0wgANyyTMfR7BW/uUdFvsYxPj5DAItoRbw2bvbZbwdPbxBO1pFYkOj/UR1x6m4qdBJb9jbhOBhQuXBTGRH5HveqYHDYhWKxf3MGCck2BirHLZSw8puKoBS5uhsZepy7szSXVFtU4EqtbkvzdFjg/TBtzO3SBZQ/duHOw8qo4OgcJMXSwoul9aiImIxIoaEUOVohRNDatGYnbHeZ6EfpLDGVIDBHHc1eGpC/TcA4RzjusIj4YGJYguusDwMeHVVhsojekxcqxJI/jV7OYu875XFps4k2+XgHmHFDRKQgYmciQam+8iptJItZEuspFWW9MYc3mStXIHF/lcuwxuzonZ5NfLZK4GWNIDm1+uxqVTo5Dv2gGxhz5as4ulOZ6hppaFiIMcPotcO5J7ppzkufkYAU6OVjJYQwpoU3fZ4crhEDuE+3sYLEGw3k0h1XhOFMHvXfg50c5EkOA/NuN6B/bUD5lpUk4Xgl8cliclC4hrdpdq9lVysEBfGZ3U50drHevNmD/eKP9e9fjXpbPUVoP7LT3qN1dKpyp/+4T23n/gIqcShF+rleAjw9zPWS+aYwRLw+Q8EM+R26VYxuNsf20uH8aC2HXK1x3LXMrOcqt8JremM40K7COHDmCq666CpmZmRg0aBD27dvndr3vv/8evXr1QkZGBm699VZYLBZ92c8//4z+/fsjMzMTI0eOREFBQYu2X1JSgtGjRyMjIwP9+vXDhg0b9GU1NTWYNGkS0tPTkZmZicWLF+vLVFXFww8/jLS0NKSnp2PWrFkuZX3llVeQlpaGtLQ0PPPMMy7LPvzwQ2RkZCAtLQ1TpkyBzeZ4SnjTMbqjowVHYxRWc5ek3Ce3qXh1t4qleY63tOuSJFwUA3yVo2LOAbGullT61m8qluVz/eLUHKxqTWCFiIdUS9yQ1rL4uIrSRnoo/nefiu/yxEMGcIQ4NZbnq1hfJIRHndJ8OMzZ5eqo0ZO1MoUYGx9QUHv7D2pCYOVXc1wVL+qhoBl3xVwvpkS5LJZhd2nLHSwDE+V0bqh/KVHx2m4Fv5k5VhUb8NpuBW/8qqC4hmPeIRUzf1NcxksDhDsYab+2+kWLHJ97ekowMBG+XFuoIsciOlHE2kOEe8uACT0kGCSG1HBxLnLtb/Sbijn++pOCekU04E9tU7DtDNfdrwqr+L3G+B4SjBJDnH3bTdX1pmIVP+Sr+rkdEs9wVTxrNpT3Q54Yh8umAkfcCN5vclS8uUfBrjNcH34gJazlIUJnB6uvXYDEBDpChM7jYAHNjz/lEiI0OL7XQoTl9cCSEy1P7N9r5jAyh4Olj4Nld0FTwoCYIGY/R02H9/s6CaxzcbA0UZFfLXovLspRMSFVQlKoe29qeAJDXDDwgd3xas3gvmX1HEvz3J+nbadVHHYjOrTjXHJChOqcRXZ0AENGpIgc/JjP8UuJ2PaaAhWv73HtUeucHhBmAj46LD6PTmYYYr9+w0xAhEm8XE3pJcLS2ja+zlHx1h7FbY9wrYzOnUsOl3NstU+3dajcMTm4Jqobc3nNdRzf5KjIq+J4/VcFr+1WsLZQxc4zHLtLOdYUiGfK6786dYDhHF8cVVEni5BoS0L77mhWYD3wwAO4//77cfjwYUyfPh133313g3Wqqqrwxz/+Ef/73/9w5MgRJCYm4uWXXwYgxM4dd9yBmTNn4vDhw7jhhhvwyCOPtGj7Tz75JK688kocOXIE8+bNw+23364LnjfffBOBgYE4evQoli9fjqlTp6K0tBQAsGDBAuzfvx+HDx/GL7/8gjfeeEMXNRs2bMAXX3yBPXv2YP/+/Vi+fDmWLl0KAMjJycFzzz2HjRs34ujRozh16hTef/99rzxGd3iLg/X2XhVjlyuwKhyFThf9K7uEwAo0AGkRwG2pErKPc7yyS0VyKDCqK0PXUOC9Ayo2FnMMtt+kziO5C4EltneyhY2DO1TOG+Q9FVZzTFit4K51ir7MOa5/uEIMhHhLd4Ye4cBmJ4FVK3OMX63gTB0w1e7ONRcmdH47c+4azd2UrbFjaCnaukU14vz3jHTfHVvlvFEHS1Ed5cqvAi7rpAmGpvddZhVux1XxDDvOcNQ6CaCz8yZklevDNEjMdRwjzjnuWq/gyW0q7lmv4J6twXhlt4qntqm4bY2Cezco+OtWFfOPuD4MLVaOSLs7enN3hrszGZJCRe5LYQ1w0woFk9cpMNcDfaIYLo4RocJ7e4p6NEgMfaId2/vrVgWfHOGYmMrwl34StpziOF0rnCZtf3vNHF1DgQGdGKb0EtvpbHdeGztfKueYtEbBMQtwexrDmBSGP/eVkBwqQpRN5a2sLhQuCdAwL86qcGStUfD4z2JoAC2Ju3UOlvh7RRzTj1N3sCTh+lwZxxBvP8YWCyyJ6aFowBEifPM3FTetUHCgBUn4tbIYeuOKONG72KZyPQdLm/4oOZQh2i6yG8up2lvGkRDiENnaMbY2B0sL9+dXi56DRTXAbamNB/6MEsPDfSTEBoqXTIu15TmZ7x9QMXaFeNaezeX/U9BzUcNK2GsW10qNLF4WnF8EIwNEeRJCxAtl1mqx7YmrFewxc1wZx3CkQqQF7C3jyIgA+scAnw4zIDEE6BstBOqf+0oY3ZXhHwMlTExlYIwhPoTh3kyGa7owlNQC41cpeOxnVXfuXMqoiTin+r/mexmDlyhQVK5/PzjOcQ03lqf45m8qbl2lYPJaBc9uF1NkZa1WcMdaGXeskTFxtYKXd6l4druK53eIC3NDMcftaxXMO6zikyMqJq05twFhmxRYJSUl2L59O+68804AwLhx45Cfn4+jR4+6rPfjjz/i0ksvRa9evQAAU6dOxRdffAEA2LFjB4xGI0aMGAFAiI3vvvsOdXV1zW7/yy+/xIMPPggAGDRoEBITE7F+/XoAQHZ2tr6sR48eGD58OL755ht92ZQpU2AwGBATE4OsrCy9PNnZ2Zg8eTJCQ0MRGBiIe++9V1+2ePFijB07Fl26dAFjDA8++KC+zNuO0R3NhR46ir1mjloFuHG5gqTPxQ3++uUStpZw/JDH0SdKNFpZaeKN5pF+EvJuN+HaJAn5t5tw5g/i34Yx4nVY60VYI3OEGhli7U7BhNUKHtt6bhf+H9YpeGCT6281R2ppPsdHhzi+P6Gi03wZG4pEcub+cuCjoQZ8fZ0RV8czrHOaLPiHfOEgbLvZiOn9hTuyrqjxh+SM7Qr+tFkIS4m5Du6X9LmM29c2fVxLTqjoPF92EStNkbpQxseHVRTVAl2Cgfhgpo/dpPH3XQoMH8io1wWWPWSriGTtvotl/HefCotVWPJpEUKkNOe+meuEEzCkiwSbCn3QzsPlovv8d3anYtcZ8Xm1PQldYq4N9R4zcLAcmJQmhFqNwvDrrUZM7SPpzuGIBIbssxKZK6yOaXf+1MeAj4aJ6yomEPjsqIpKmxDLmnj+dZwJpyebcGknR6PYN8rx/8Ia4NbuDNnXGvH3QQb9en3+MoO+v31lHJd3Zth+i1EXoiFGhjATGpx3jS2nOE5WA8t+b8C0vgYsud6IiWmSLoiacpv2mjmGJQiBc/b8eYcrhLPVK0p81pK4k+0OVksac83BWn2DAWO6iWYjwu4OBRkZMiIZfrrJiGCjI9m9qalytPzJQAMQZHR8r02Vowm1L4837xxoDevVXcQk04XVDhdW68SQHAY9Z6xRgWXmLu4VIFy61vYitGgCq4rrPQeviGs6s+rZy8R19M4Qg57H1xL2lokwXcFZ14Y7weX8m5u6SQg0ACsKRLiwZ6RYpjm9iv2051YB//xVRWk9sHGMEW9eITqKHKoQ1/jIRAm7x5lwSw8JBXeYsHe8CcFGholpEn78vREP9zNg7lBHBc8dasR7V4v7xMDEi/bZY8yV14v7IEByfVnQxMrGYiGwuoa6urDuHCxt8m5AiKanL5Gw7kYDTteJZ8n+cujHNr2/hG9yOayKoydn9vHz69XZpMDKz89HQkICjEZxghhjSElJQV5enst6eXl56Natm/65e/fuKCoqgizLDZaFh4cjIiIChYWFTW6/tLQUNpsNXbp0cdmutm93++zoZZ48RnecrLDCYrHo/+rrm3/1Om7h+MsWpU0Sxg+Vczz+s4Lf7DfMSqfeWn/qIyHYfkNrD7G0CIb9441444qmjdQAieFgOceKAhFqkpjjYfXWbyrW24VOeT3HH9fLuGudjNO1ohfKk78o2FSs4taVMl7cIZwplXP8mM+x0T6Uwr/2KNhYpGLzKY7uYcA9mQyPbFVw93oFVTbg7vWKnmyshW7GdpOwxwwcq2SYe1DFEz8ruDQWyIxiCDYyPNJPwt93qfoDorhGTJFx0woZY5bLeGWXikf6SVj2eyM6BzlcDc7FG+XCY00PBPnhIRXmeuC4PUq9ukDF7P3uRVmNzHGiCvjgoIqiGo6EEBGSONtJ+fyoOI9rC3kDB2tTMcehCmDZSY4D9ga8dxRD5yDgYIW4hrRk962nxJug1nCfruOICWToFy1CBpvt5/2PG0R5/5cr9rvMnoD8rj1krAsse+OefVwMDfDfqwwINACXRitIjWDIsrsDE1Il3JkhYV0Rx9jl4lw/uFFBuVOI0JnoQIacSkdS8/VdGWKC3DeEWh5WmMn1szPaPqZtVrC1hLtdJy6ocQcr+xhHUqjjGtPQBFFjCemciwanbzRDv2iGeYdU3LRCHP93Jxxh+RftAlDLf0oOFVPBlLbAoam0idBdiJMY0sJv7vSZNsBnY+g5WJIYO0tDCxFq4elZ+8Wx/GOX49r++LCKr53GmdMaVu285VdzfbJnTRgmhjBE20OajQmmvWUc/c4SWNEBrkN5tASt911RDbA4R/QcZKxpgaWhXUNamPGFHQr22MPqdTLHn7eI69m5zIDYz7/2OM6RuzAxIITt4Qrg4higdxTwQ744j9q5015EtJf1uGDgpZ0qMiOFU6U9u3eVchwsB/rFtOiwXEiPFHUzqivD0C7iZene9TKyVsvYa+a6W/T7ZIatJRw3rZDx6m5F3/efNiv49IiKftEMEQFMF6N5VcA99u1oL33bz4jOKj3CxTpZqRIGdGJIixDuZGQAkBkJXBIrIirlVmDUjwo+O6qiR7jo7LK+iRfl5jA2vwpxofD1qk34+tbx+ucnnngC06dP1z9vN0s4Xee40SNMwJpTBvznUCCYXIsZ/ayosAIVNoaU0OYvKs6BjacNqJaBzkEcX+Sa8HGOuEMZODgY/tKzHqmhHNZKG57ta8LG00aMT7DCbBY3UWcAlvKm9/O7WAOOl4nt3pRog9ks4+8Xm5AapuLlvYF4e5cNFwXWYeq2IHxfaISJAaXVViSHcMw5GoA393AkBnN8kyuhrq4WA2MUmOtDUGHlyD1lxlPbwnBlrIIqmWFgtIoZvepgtQaiXmG4N9WGCZuCcdc6GZdEq4iWK2E2A1eGAaHGMEzfYcC6UhlXxCp4ONNxXI+mAd/nhuCO1QqWj6jBO4cD8N2JAAyLE8sfTFfxdGY9DByIMYVge7ENewvq7SES0eK/vr0Kd3S3Ieysu7TCCizLDwPAsLvQAl6rYtzKUFTLwPUxFYgOAApqGPaUS7g8VrXndIRh8ymO0loFaWEqIsBRVGXE+uNVuCjKngNnDAZgxOZTHGlhKuoqywGE4XR5JZYWGgEEYEuxip/ya8EQiHhehhhjML48ZkCNwjA8pgr9oxTcuioURbUSqmpqkRqm4uucIPy1lxWWcisujgzGL0UceYl12HRKPPV2lMgwmy3YcDII3UIMuCxGQaSJo95SiUAWAnO1DaWldfj8cCj+L0EGq6nE8/1MiIcFZnMwepqAP6UH4q6uVsQFcdyaHIQqK0OplWHJCQOSglUMjxf7cOaOZCOiJBP+0MOKvRUGDI2TYTa7d0yui2HIzwjAnnIJG04bkWKqhtnsajPIKgCE44gFGNJJxqiY+gbbizGFIL/CCvNZiT0KB748FopxyTLKy1wnvwtTgZiAUCw9Vo+BIQ1b+8JahnJrGLqZqvGHFODzXBPq64FDlRKeKZdxXYKMLkEmjIiqxJ/SA3FnkhVmM0eEIgEIxW8FFegf3bRTVFJhQqgxEGVlIimmrKwMap0RQDBOW6phNrtmtAcgGGU1vME51zhdbgAQgtrKctQoHIC4Fqz1teCqCTYFACQMjLbhpEXC0jwJ4+ItiAzg+OuWMEQHcAyLqAZjwIFTohy9AioAhGF/cRVqrAHgNgXP9rIiwWRCUF0lWB0DEIa8M5XoaXJ9GTlexXDUEoaLQ13rNVAxobw+EGdKzZBappFw0izKwyHE6+hOlY1eVw2oE+flREkFTgB4cWcoqmtq8VRfKzafNuC/+0KQwepwR4AZCgcOlInnwEs7FSgcmJxUAQMDtuaLMnQOVGE2Owa12l8hQeGhSDFWISPUhEV5JoQZOe7rVo0YyYjqikpUA1g0xIDcagnBRo7vTppwWzcbysrEeekVEYIXt6uwqhL6BrXi2Jx4sk8AruokY1upAfPMQfjNzGFgHD8XKyiuY7i9m4z7062w2QJwwCxha7Fok4INEroFKUAQcGeyFb+UGgAE6tv92J4Hdm1sJcanyPh4XyDiAo2YO6gWPxQaEc8rUVYGPNvHiEoboHKG6ACOsjIZCQCmZgTiWKWEoZ05nuhtxX8OB4BzIL9GAmBq9XE2KbCSk5N1l8ZoNIJzjry8PKSkpLisl5KSgpUrV+qfc3NzddcmJSUFJ06c0JdVVlaioqICiYmJCAsLa3T7sbGxMBqNKC4u1h2e3Nxcfd/adhMSEvRlo0aNclk2ePDgRn/nXFbnZceOHWt0mTcdozvC+w3Dz0UVSLLnYgQGBiIwUFx8Jyo5Rq+VG/TOSQ4Vf2cdDsQzg0Lxxn4VKwpUHM1q/mJaX6Tilo2OB5Vzb6CJqRIOVXC8fU2o/vb29BXa0uBmt+3MrTHArb1df6tt64RNwYs7VRyVg5Cdp2DuNQbEBALjVomu4j3CgWqZYeNYE/6+W8E/9ztuRoUz/FgaCauqYtMZcStM7ReA7vEhWHCdY///4Soe+1nBZ9cGIjZaxCdjAGSlyvjocDCuTWRY/nsTDJLrcX12LceV38qYnRuJJUUqburOsPBaZytFnPyIIBlLCjj2V5rw8TADAHFOn/41CDZjCGZcZnDZ7pLDKmyqggAJKOFhmJMLmAwqVBlYVx6Fm7ozXPeDjFO1Ipz2+MUGAOLheNBiwMiuJqSEAcePqBi+OhTHs4zoEcGQV+toJIvrJMTHRgGQUaSG4ct8FVfEMfxcAvx4KhjpERxJnWOQGC5jq/0Ne29NGL4u4qhROCanM/zroDjXgzozvDQ4FIGGMFwSp2BDkYpqUzAAGXemM3xxzICA8GhsL5Pxp94SXhqo1VEoIoNkyAbguBqEEzUK7uoTjJiYUDx1OWA22xATI16hZ49wnM/Fo8Wvt59WMeh/CgpqJXQOC0JMTKjLeXw4Bnj4Msc11RQxMcB/k4F718vYcJpjcHI4YqLctbjiHK4YE4QQY8PtJoTJqFCNDcqypkBFSb2Cu/sGN1gGAONTFSw5KWHm0NAGbsj2kyoABYNTwpEWwfCHi8T3X+eoGLdKgcwMuDiWoXNsjMt56hfEAciwGCIQE9O0i6yYFIQHqPr5BoA4KQyAAhYQgpgY12s0KlhGtQzExLjvEhdYKcocHxuFziEMJskGmwqEhQRDklR9rIIfbwzBmTqOLgtkrCmPQLcwhnKbgnIbQ44ahYGdJZTlKogLVpGZEI3IABvKEAqFqYgIMeHirqH4d1exrRBZHK8tILzB8b57QkGoUUVWn3B9aAcA6FqugkOBISxad8Cag5eKYwOAjAhgeGpkix2sZC7KyEIisCyfA1BxRg1CTEwY8ooUACrylQjExIThcDlHvSru6ypZbL/CGI30SIbc42JdJkkudZZvtl8r3SKwp0bFojwVt/aQcFX3KFzV3VGO8U7O1LRLAed75PYMBTN2qK0+NmdeHGz/T5AK/KbgohggI0LC17kcE3owfPa7EAAhGJYK/Gevgum/qKjlIlH+31dpz9BgnNgljtOZrqFAri0UUdESlhTKmJAm4dq0KFyb5ljn7kact3eGO38KwdBU8b+/nWMqSpN3VVxcHC677DIsWLAAAPDVV1+ha9euSE9Pd1lv9OjR2LlzJw4ePAgAmD17Nm677TYAwIABA2Cz2bB27VoAwHvvvYcxY8YgKCio2e1PmDABc+bMAQBs27YNBQUFGDZsWINlOTk5WLduHW6++WZ92dy5c6EoCsxmM7Kzs5GVlaUvmz9/Pqqrq1FfX4+PPvpIL+u4ceOwZMkSFBcXg3OOOXPm6Mu87RjdEWJkGPRjMJ7cE4rw8HBdXAEilyHIAOTeZsSpO40ovsOIhBARv364r7gMvspRsaFYxTGL+55hnHNc94OMZXZb+YujIqRWfIcR43qI+QKv6cJgYMDHwwzYfrPxnG6+1jAxVUKtIsJ4kQHA5AyGW3tIuDNdlGfBCAMKbjeiWzjDe1cbcGSi6zvF3IPivEgQvdz+kNmwvPf2lFByp9Gl+zYAzB1qwMH/q8KKGwwwuHm9HdCZ4dlLJWsdESkAACAASURBVLyyS8Ues7Cn3aH1equWgWP2F37zH4y4vivDypMc1y6VMWufgt6LbMjItuGtPQqu6cKQGSnyaxblqLgrQ8KwLgwPbVHQY6EMmyqGwvj2hGPAvktixbYTgoG4YEd595hFT5mCamDmYEkvi5Z8/NAWEZr7+ncGGJhrmNd5O+/sV7HgKMd/rzLg0xFGnJ4srrUtYw16Ple/aJH7cNw+ZcxtaSKn4+PDKs7UQe/YoKGFCBcd54izD5vQUpzL5i5EeC50C2MIsnfSaAyJwaWRdi2TCBH+kKfi+h9kqJzjzT0Kxq5Q0CNciFF3ZKUy5FYBKV/IOFrhem/uLuUINjjCIBq/TxY5XwfK3Yc044LFS5G73JXXdivoPN+GJ38RDUuV7BiXTKOzPRcyxM1runNo1x3a7ABaGFoLE2o5WByO8aA6BTH8LonZ82FU9IwU+x6xVMGHB1WXwUGTQ8UzTUtydybYKOpOG3bhmW0KXtyhYNIaGS/tVDG2G2tQb1q+Z0a2jB/yVIz4Xm62c0mFletuV1Zay8ODgOM6rbBCH2T2mAW46ltZd2cOVIgbU+sk08VJx9+3UcGfNil6b11znXhuj/heRpcFNvzrNxVJoSI8fpH9mmjsudQY2vqtPTZ39HMqg/N2nYkMYPrk7Gdfg9r50s7375NFmHyvmeMne07jbWnn3wZd5Ob+aQnNhgjfe+893H333fjHP/6BiIgIzJs3DwAwY8YMJCYm4sEHH0R4eDg++OAD3HzzzZBlGf369cMnn3wCAJAkCQsWLMADDzyAuro6JCYmYv78+c1uHwBee+01TJ48GRkZGQgICMCCBQtgMokz/Pjjj+Pee+9FWloaDAYDZs2ahU6dOgEAJk+ejG3btiEjIwOMMTz66KO46CLxWjd8+HBkZWXpn7OysnDjjTcCAFJTU/Hiiy9iyJAh+roPPPAAAHjdMbpjySgjPi+U8O+9Kq7pwjAp3XFRLDyu4v9SGLqFO76b0EPCf/apuKkbw6FyhjkHVL1b7JZTHBPO6vlSWi9GwQ6UVFybxLA4R8V9vSTEhzB8ONSAuzI4rohj+KWEI6iRBqat6RHBcGc6w4KjHHdnMr0hnz3EgPE9OAbHMf0hwBhDeiSw4xYjZJVj3CoFu0pFN+nnLpXQO5q5DHrojNHN9xJj6BzEXXLCzubpSyUkhDDUKxxjurlfb+FII8atkhFuYjhWKXoyRQcyDEtgeHqbvZt0IUdquGiQ9pYB7wxhWHFS5FXJHMhKY7gnU8ISe5ft0V0lRASIHJZP7L3qpvUxYMpGBQkhTM9xAUQeR2akSBC+JJbhwAQjSmq5S/JxVqqExFCGe3syzD3I0TVUE1iOdU7ViiTxO+3XXSc3+Ux9oxlkDqwu4GAArktiSAkDnt6mItQIDO1ylsAyieFH1hVxXJfE3NZDY2gCAHAkZJ8vD/SWMDi+8XKsusGAzMjGyxgXzFBSq2Jpvsgp3HKK4997hTv40oDGG6zhiQzvDpEw/RcV84+qeHGAowK/PcExMpE1uA6DjQyLrjVgdylvMMAlIK7frqENe18pKse/9wnBu+Kkin9ebkCl1ZF/pnFNF4aFIw0Y16NhmUNNDNVyU4N6ir/O42dZbI5ehCoXQksjK1XCHzcoCDGKAWOHJjBM26xgab6KGtnhxCeHMZGDpbg66hrRTsMufHlcRXGtyNO6J5PhuUsNDda/Kp5hxmUSXtophprZdIrjRCXQowmBbbGK8dTeu9qAEYmtew5qOVCbikWOU+8o4KdTYioxjQMWUc6cSpGTOqATw1J7juj6Io5NxSKH8pJYMW3XmkKOdUUc0YEiJ2lUkijTqK4MC0YYMDq5dWXMjBLX1bVJ5/+MTwpl+PJaA0Z3ZQg2Ap8ON+Cms56T2r17qrbhNaj1Do4PFrmZ1yUxvLxL5OgtbCSn8VxoqhdoUzQrsHr27ImffvqpwfcvvfSSy+exY8di7NixbrcxePBg7Nmzp1XbB4D4+HisWLHC7bLQ0FBkZ2e7XWYwGPDOO++4XQYIcThjxgy3y6ZMmYIpU6a4XeZNx+iOXtEMM7sZcKic490DKialS6iVOWplYOcZ4C99XZ84D/SWsK9MDIdwXy8JE1eLp16YSRNYIrEywCAextqwA8tPcqw8KcaDuqW7uPAiA5guIG5sREi0F/+5yoCyegV/7ut4QIYHMNzU3X05RK8uhjvSORbnqPhDhoSRSe0z5q5JYri/d9Pno080w6gkCasLhXuYZhfB2lgyvaKAlFCGlwZKCDYwPLVNQVaqhIPlKmTOcXEMMLCTEJJ9zwrV9IoS84KZJBEuXHRcjKukDZtwpk4kSPePEXWbFs7QNYyhVxRzSbLXenW9dYUBJyoV3G4XUXF2EXNTN4YKKzDnakOTb7Wa8/XjSRVdQsRI1lmpEt7Yo+K2NIZQU0MH60ydaGzuyWxdHQUbGcJNIkFbexCfL11CGLqENL6ta5u5juKCxPhjWueHv21VcbIa+HyEhCFdGv+txBge7GPA1hLh4vypt4T4YNFgbjnFMX94Q3EAAKOTJYxObrw8miDhnCO3EogJEo5YUY0YdkKbJ7NK5gg/q24YY8hqxB1odpiGphwsiJw05y3f0p3hgU1im1lpEnpFMVzfVYwBZZIc5z05lGHbaRX1qmPbzmhJ6zWymH+PQyTUzxxsQISbayTQwPD0JaLDijaP4a9m4aYGGETeXbDTy2SNzGGuF87KLT1a/0zRxMSHh4RrfHemENUa3cOAnCqGOvvQFMmhQEoYAyCiCblV4twpCvBgbwkPblLx7gEVXYKBJ/pLeHSrqrtGJonhjvRzuy/Gt9L1aooJTtuanNF45xGVNxRYmiCNDADG2c9332iGN/eIOUDv7Sk1+QLcUs7VMKCR3H2QUV0Ztp0WIzqHzJNx2TfiSXf2KMJ9ohlW/Z8RIUaG8T2Y3o375m4MawvFTX3DMgX/t0yByrkevlI4MP0XBcEGx1hIniQ6kOH70UaXbvUt4Z+XG3A0y4R7enr+NggxijF7cp16vAzszBBiBO7rKWH5DUZcESfh4liGpaONiA1i+rQW84Y1HorNjBSh0thA4Sosv8GI3tFCJGwea8S1iRL2moXICjYAiU7pP85hTy3cFh4gtjE4XnL5fmw3CWtvNLqE5dwRG8SQFCrChFpYZ5I9JHBHWsN6CDUy7C0DZA5cFd/6etIctrYKEZ4vCSGi19OOMxzhJuCX0xzJocCQLi27dm9Pl3C4Auj6uYwZO1Rc/j/h6ow9x5ea5FDR++rdAypSs2Vc/JWMJSdEF/jxPSScqROiodKGBp0tmiIqQIya3lhP2HpFhNE0J1BzS92FCAEgKlCMv3VZJ6BXlBZuZjhqEVNudbf3BNW67TfmYMUEMpjrOA6UiX1EmIAxKcytuNIINIhwvMafNinou1jGtM0KRix15OZwznHZ1zLe+k3VG/7WYpAYQo2OoUDSIkS5Qo0iDPaHTAkqGA5WiNBuShhDzyjh1t7cXUJqODC6qxjo81L78/6rHI5be0i4LU2CSRKO14WE87k8W+Rr93WE0/facZdbxUulJ6FehD7IVfEiZq3F4U9UiQdXz8jGf8MYw65bjDhdJx76C44qWJ6vYq29i+q8QxyFNWK06otjGNYUinF3GgupEa0j2CimzamwckTZk59CjAz7xhvRtWHOMwAx9MXYbhK6hzdeB8INc4wy/v/t3Xt0VPXd7/HvngwJkJsSAoSYIbcJmAKhXHxA6knFohy6EKuC5fHRFJ+jdmHt6llV8ZT6UM5ja6uV2iVWK0dZ2j51gbda0a6WVguuo/VSYFmonCICiZiIBEwIl9zme/7YmZ2ZZCb3yfz25v1aixUmv2Rmzy87M5/8ft/9+3U1dYzIxn0ivzkQksWB7tNMYePifH84wBRnxm6P5asFPnl8X8h5Xl8ca8n+5f6YdU3hpQAyR9j1W/2VO9IeeR3oG95QuyzfrlE81SbyX5emyAXpIoWZ8fu9q4X5lrx1ZYp85dV2+eGukHxpvCVPVsYefemLggxLdtSF5Ff77dvVTZ3rQQU6QsvHTfY02rh+XJuy8AJL7vmbvfZQrGmy5i4ByBnB6vhc1ylCEZFNlSnO1KKIvailiv17898LOkewjp0V8Vvda7BEOhYObemsX9p1tT/u70akqedbzvIk4SUM/s8+ew2pfZ+rTDnPHu37fx3LI2SPGPjrYnaqfX58vcTn1Bx9aYIlv5ifIjkj7WUT9hxXqW4SmXa+PVJ1bZFPslNFVlfY61uFNHq9r7njLMkbbck/l/ud6VS3iBx97jaCNSI8g9L5uYocS/72NTvaJHsAIPl/umPIfTHHkrQUu14qrDSr92HOkX5LCjIsWdxRHPvvb9h/HU85T+Ttz0JyoFGlJMtyihGHYm4btlEdq06fauvcP03EfvONV+8zwmf1GK5EOouxc+Ks77S4wCepKSJ/76EIX0Tijkxd1FHIP7eXhRQjhdetilwYtzTbijkKt7zYJzcGLbn/Il/MCwl6Y9oIVrhgW8QuaP9veb6OKZ6+sSxL5o73yZJJds3cN8p8Euyh5qs3gY4RrL8eVbmlY8X5vx61R9XCI4w1p/o/gnVRriWFGRJ3kcaWLlN44Wm28BRhSLtvepydakluxHkYvuhk2hiRCzv+H16UtU3jjWDZNVh7TthTasVZPY9ehYWn1cKjP6k+O9yl+kQ2dyxkGflcBxPos1PFuaAjfG5MPd+S4ixLslMtuWC0vbZZTZNKQYZdd5qfbknGCHtk+vw0S3JGWs5K++HvF7FfTwbye5RM2VEjWLHbuvb3zLFW0sOVCAHLk1JTLJmRY0UFrFhXEcUzym/JDaU+OXLK3rJjwihLTrVKR32QyDVF9jTPV/tZHIn4wiNYXQPWYIWnGOL9lV6YacmGi1PkwvNEvhqI//PMjfP9o/yW/OfslH7VKISvBPxGH2qqZuRY8tSX/fLN8tg1Rr0Jj7wNVQ3WULh1ik9Ks/o36tfVzZN9MnF0Zw3kQH1xrCV+y35Dv61ji6fGVntkKzzCWHPKHlntzyiZZVmytNAXtSdppOb2LgGrSw2WSvcRrK6yUu16wm9e2HkeFUTs95caI0hckG7JPxtUdtRpv0oKLs2zZFKGyLe+4JMvnC/yHzN9UplnT1v+pbZzz8HwNl6DyTAzciy5ZUrH/pWj7JmHBRGjgBdmhWTXMZVPz0Q/367Oiwgd4fIPN4q8QKV7kXvHxyG6iGWoMUXoUReki7NSuYjItPP79xv/yHyfPDTPnrO/8o/t0tQmcrBJ5csTfZIz0pKP/9XQM9qlRqVY0twucrIl9mXvA1XaEbByeljDZ+Vkn3yjLPYIUlhu/5Yu61GKzxK9eXjOH3vkTYfsKsKh8LUi34AKoCMtyPfJkesH//fxv4zzyZmb7A2wI69UK0i3ZKTffoOvaVL57Gz8aeJ4SrPs/UJD2v1K2+Z2idqDcKQTsOyvizWCFcv/vTL6lyVyOj1WkfvSQkt+uNu+cCLehQGxXJLnk0Mr7AMO/2Gw5ot2PdbBk3YBfO1pkQ0X++Rbb4YGtU/qbxZ0PiefZcm+5dEn75SskDz8z84tgOKJHKkaNUxXdSfCSL/l7EfbtQYryxnBMvP5MYLlUXmjLGdLjl99OUW+PbV/P2rLsiQ1xX7TTffbNRjHz8YfycDghEPVmfbOuqOhMCnTHhXI6eXn1tt6NuHlL9zGtClCE/l99rRRWkrnZs2RG0IfaFQ50Rx/mjiegnT7AotYWwM1t0fXSHUtcg/pwEaBRvot5zUq1hTh7LGWFGfagW6gFwZEyk7tWLPqgEogQ5wLZvq6ifZATMnqLETraQTLS8K/v12nqUf4LBmVYu7vNyNYHpUXsYDylZP6VmcQT8YIkQ8b7Tf/rn9BYGiMitzjbQj/2hzhs+T2jp3tz0VfmeiTm8p0SEcFvawg3ZJPz6gEIhbu3NVxsUx/itxF7GlGEbuGq+vSFi2h6BGs8P9TfBFThAN5AmIvW/DZWY1Z5G5ZlvzHzBSpaerflGc82an2lOquenststF+e8pyKBa3jOeS3Hb50nhLMlN7XvBWRGTdLJ9cGHPHAXfJ6rgqNTNGkPrmhT5ZOARrciUCLzseldfxgua3uhcG9lfGCEtqT9u1FKZcjeU1kRveDmUNlojIz+YNrH7JC74wxpInKnmZ66tAhsh7x0QuCI9gZVjycvUAA1a4hqtJZE5udFvXGqwR4YDV8T7ZHuq8orC/CtJF/nYs9giWiEhVP9dT60nWCHsEq/6sytiR9v0++qXE/r7lj1Z548q+ndNdt9lyq3gjWCIi6w1+fWOK0KPCI1hjR/Y+/dObdL+9iq7I4MMaYosawaKPkSQFGZbkpHVu9VOQbq97JyIyLs6VqPGMHWlPxcXaiqe5XaOmnVO7FLmHZOAjWOGRs1g1WEMtO9WS1pBI7Wn7CkUkRtYI+2KM4fiZDiX+tPOo8AhWb7U3fZExovNF1qRiYS+JniJM3nF09afFKd2u3IF3ffNCn7ODgEhnWBHp/4UOVpyteETsldwjR5jsK/60c6HRPha5xxIeOYs3gjWUwiP6p9rsVeKRGNmp9vtQove2HWoGvZRjKHWOYA3+hIwclqUGKzFGRfw133W7mGTqbesXeMuU8yxnpXSRzrCS7o+/gXVPAh1b8XTV0mWKMLXLFGGshUb7KhwKY9VgDbXI4uoxPVypi8HJTnXn7Amvnh41dqRdf5UzBMPWkW/41GAlxmhDR7BwbgsvdNnf+quwgh5GsOLVYA12ijBc+J01DH+oRK6vdj5ThAmTO9IaktmY4UbA8iifZcn40YkYwRr03SEGU6cIcW7LG20vl9DfJRrCCjIsqY5Zg9VlBCtiqxxninCAL12zx9rbCV3Yz7X/BiKyZIIRrMT5XzN8suUy970wuu+I0WffneaT6f1YwT2ejB5W0sXQiLqKkD6GIfw+SyaO7v8io2EF6ZbUnhZpC2nUlk8t7SKpESM+4SlCnwx+mQZ7O6HhCTuRU4SMYCVOjktHsAhYHvY/pw1NEUI4VI32S9x98TA4jGDBVDNyouuy+qMgw66n+uS0OJtHi3SfIgwHrMjV5N3wSpMVVYOVvOOAmXgpR6/CC18yPZg4qR0LLI7wEWJhlhcWpgy4lsTZMLpJoza1trfK6bwdrsFqDXUGKzf8GoRXEj/bTn0quiNgoVfhESyWaEgcy7JklH94Li0H+mPEIJJOeMudmi578zW3q6TGWAerJdRZe+WWK/KzU0VGhaTbfosAAQu9CgesWNsUYOiM9rtvIT2gJ9mplmSN6L43X0u3KUI7nLR0brPniilCEXvkqj1xWw/CxQhY6FW4Jmg4Lns+l41Kia7FArygICPWCFb0XoThEazIKUK3vNpkD8GehvAmXs7Rq/BVbdRgJdYoPwXu8J6CdEsOdxnB6rpMQ5pTg6WunCJkZh+xcF6gVyN8lqSlUMSZaKNSOi8oALxidq4lO2pVWjrm0VRVGlqi/2C7psiSu6b7ZOXkzrckt/wmfKvcJ9/6Am+l6I6zAn2S7mebnEQb5bdYAwuec12xTz5vEfnjx3bAOtUmcqZdZPyoyCJ3S37yLyky2m91ThG65OVmaaFPlkzirRTdcVagT7JTRc5jBCuhMkdwpSa8Z+oYS75wvsg1f2qX+3a3y9Ez9ufjbb/jthosIB4qPtAn/3VpikzK4CUvkdbPTWGZBnjS01/2y7/vaJO/fKKyYKI9ktXb9ju82sDtCFjok3njeedPtKlDsK0RYKKZYy2pzPPJHz8OOSNYuXG2PnFbkTsQD++aAICEK0i3l2v4tCNgjY0XsDo+8uYEt+McBgAkXEG6JU2tIv9sUMlJ631LKEaw4HYELABAwoW3zfnbMY1b4C4SMUWY+EMCEoqABQBIuPBmzzuPaY8F7m5bpgGIh4AFAEi4CaNE/JbI5y0i4+LUX0UiX8HtCFgAgIRL8VkyMd3+f59GsBJ/SEBCEbAAAMPif0z2yfzxliwJ9BCwWKYBHsE6WACAYXHPzBS5Z2bfvpZ8BbdjBAsAYAyK3OEVBCwAgDFYpgFeQcACABiHgAW3I2ABAIxhdUSrXhZ6B4xHwAIAGIMaLHgFAQsAYBzyFdyOgAUAMAZF7vAKAhYAwBhMEcIrCFgAAOOQr+B2BCwAgDHYKgdeQcACABijc7NnEhbcjYAFADAO8QpuR8ACABiDInd4BQELAGCMcLBiJXe4HQELAGAMq8tHwK0IWAAA4xCw4HYELACAMajBglcQsAAAxmCrHHgFAQsAYBwCFtyOgAUAMAZThPAKAhYAwBhMEcIrCFgAAOMwggW3I2ABAIzBOljwCgIWAMAYBCx4BQELAGActsqB2xGwAADGcIrcCVhwOQIWAMAYTBHCKwhYAADjELDgdgQsAIAxmCKEVxCwAADGYIoQXkHAAgAYhxEsuB0BCwBgDEaw4BUELACAMdiLEF5BwAIAGIcpQrgdAQsAYIxwrmIld7gdAQsAYAymCOEVcQPW/v375eKLL5aysjKZM2eO7N27N+6dbN26VaZMmSLBYFCuvvpqaWxsdNrefvttqaiokLKyMlmwYIEcOXKkT49x9OhRWbRokQSDQZk6dars2LHDaTt9+rSsWLFCSktLpaysTJ577jmnLRQKye233y4lJSVSWloqGzZsiDrWe++9V0pKSqSkpETWrFkT1fbEE09IMBiUkpISufnmm6W1tTVpz/HJJ5+UadOmid/vl4ceeihu3wOAFxGw4Hoax6WXXqqbNm1SVdVnn31WZ8+eHfPrTp48qePGjdMPPvhAVVVvu+02veOOO1RVtb29XUtKSvS1115TVdUHHnhAr7322j49xsqVK3Xt2rWqqvrOO+9ofn6+trS0qKrqunXrtKqqSlVVP/roI83NzdVjx46pqupTTz2lCxYs0La2Nq2vr9dAIKB79uxRVdXt27dreXm5NjU16dmzZ3XWrFm6detW537y8vK0trZWQ6GQLlmyRDds2JC057h79279xz/+oTfccIP+7Gc/i/NTsjU0NKiIaENDQ49fh6FXX1+f7EM4Z9H3yZPIvl/8+1aVx1v0a39sTdhjuBnnvXvEDFiffvqpZmZmamurfYKHQiEdP3687t+/v9vXbtmyRa+44grn9t69ezU/P19V7dAwefJkp62xsVHT0tL0zJkzvT5Genq61tbWOt87Z84c3bZtm6qqlpeX61tvveW0LVu2TDdu3KiqqosXL9ZnnnnGabvzzjt1zZo1qqq6atUqve+++5y2Rx55RK+//npVVb3//vv11ltvddpeeeUVnT9/ftKeY1hVVRUBy2C82CUPfZ88iez7r3YErKsJWDFx3rtHzCnCmpoaycvLE7/fLyIilmVJIBCQ6urqbl9bXV0tkyZNcm4XFhZKbW2ttLW1dWvLzMyUrKws+eSTT3p8jPr6emltbZUJEyZE3W/48WM95nC3Jfo5DkRjY2PUv+bm5gHfFwAkE1cRwu38yT4ADJ2CgoKo23fddZesXr06SUdzbjhx4kSyD+GcRd8nTyL7vq11lIj4pbWlRY4fb+z16881nPfJMWbMmH5/jxOwnn76aVm/fr2IiKxYscIZofH7/aKqUl1dLYFAoNsdBAIB2bZtm3P70KFDzqhNIBCQw4cPO20nT56UhoYGmThxomRkZMR9jJycHPH7/VJXV+eM8Bw6dMh5/PD95uXlOW2XX355VNu8efPifl/ksUa2HThwIG7bcD/HgaipqZGsrCzndlpamqSlpQ34/tA3A/nFw9Cg75MnUX2fmtomIippqakyZszohDyG23Heu4MzRXjjjTfK7t27Zffu3bJ69WqZOXOm/PrXvxYRkeeff14uuOACKS0t7XYHixYtkp07d8q+fftEROQXv/iFfP3rXxcRkVmzZklra6u8/vrrIiLyy1/+UpYsWSIjR46UcePG9fgYy5Ytk8cee0xERN599105cuSIVFZWdms7ePCg/OUvf5GrrrrKadu4caO0t7fL8ePHZfPmzXLdddc5bb/61a/k1KlT0tzcLE8++aRzrNdcc4387ne/k7q6OlFVeeyxx5y2ZDzHgcjKyor6R7gC4FZMEcL14hVn7du3T+fOnavBYFBnzZql77//vtN2zz336KOPPurcfumll3Ty5MlaUlKiS5cu1c8//9xpe/PNN3XatGkaDAa1srJSq6ur+/QYdXV1unDhQi0tLdXy8nLnKj1V1aamJl2+fLkWFxdrMBjUzZs3O21tbW26atUqLSoq0uLiYn3ooYeinte6deu0qKhIi4qK9O67745qe/zxx7W4uFiLi4v1pptucq7oS8Zz3LRpk+bn5+vo0aM1Oztb8/PzdefOnTF/VhS5Jw8Fp8lD3ydPIvv+yj/YRe7X/Yki91g4793DUlVNdsjD4DQ2Nkp2drY0NDRETREi8Y4fP85wfZLQ98mTyL6/6o9t8tJhla+XWPLMAsqEu+K8dw9WcgcAGIc3J7gd5zAAwBjh0itqsOB2BCwAgDHYixBeQcACABjD6vIRcCsCFgDAOEwRwu0IWAAAYzBFCK8gYAEAjEGRO7yCgAUAMA75Cm5HwAIAGIMid3gFAQsAYAynBouEBZcjYAEAjOMjYMHlCFgAAGN0ThGSsOBuBCwAgDFYpgFeQcACABiHGiy4HQELAGAMriKEVxCwAADGYKFReAUBCwBgHPIV3I6ABQAwBkXu8AoCFgDAGEwRwisIWAAA45Cv4HYELACAMRjBglcQsAAAxggHK96c4HacwwAA4zCCBbcjYAEAjMFCo/AKAhYAwBjOMg0kLLgcAQsAYBzyFdyOgAUAMAZThPAKAhYAwBgs0wCvIGABAIxDvoLbEbAAAMagyB1eQcACABiDGix4BQELAGAcHwkLLkfAAgAYw5kiTO5hAINGwAIAGMPqiFbUYMHtCFgAAOOQr+B2BCwAgDEocodXELAAAMZgmQZ4mUS64AAADa9JREFUBQELAGAMRrDgFQQsAIBxCFhwOwIWAMAYTBHCKwhYAABjMEUIryBgAQCMw0rucDsCFgDAGIxgwSsIWAAAY1CDBa8gYAEAjEO+gtsRsAAAxnCmCElYcDkCFgDAGM4UYXIPAxg0AhYAwDgELLgdAQsAYAymCOEVBCwAgDFYpgFeQcACABiHESy4HQELAGAMitzhFQQsAIAxwsGKrXLgdgQsAIBxyFdwOwIWAMAYbJUDryBgAQCMwVWE8AoCFgDAOAQsuB0BCwBgDBYahVcQsAAAxuhcpoGEBXcjYAEAjMMIFtyOgAUAMAZF7vAKAhYAwBis5A6vIGABAIzDSu5wOwIWAMAYXEUIryBgAQCMQQ0WvIKABQAwDgELbkfAAgAYg70I4RUELACAMZgihFcQsAAAxmEEC24XN2Dt379fLr74YikrK5M5c+bI3r17497J1q1bZcqUKRIMBuXqq6+WxsZGp+3tt9+WiooKKSsrkwULFsiRI0f69BhHjx6VRYsWSTAYlKlTp8qOHTucttOnT8uKFSuktLRUysrK5LnnnnPaQqGQ3H777VJSUiKlpaWyYcOGqGO99957paSkREpKSmTNmjVRbU888YQEg0EpKSmRm2++WVpbW5P2HL/3ve/JlClTpKKiQmbPni1/+MMf4vY/AHgF62DBMzSOSy+9VDdt2qSqqs8++6zOnj075tedPHlSx40bpx988IGqqt522216xx13qKpqe3u7lpSU6Guvvaaqqg888IBee+21fXqMlStX6tq1a1VV9Z133tH8/HxtaWlRVdV169ZpVVWVqqp+9NFHmpubq8eOHVNV1aeeekoXLFigbW1tWl9fr4FAQPfs2aOqqtu3b9fy8nJtamrSs2fP6qxZs3Tr1q3O/eTl5Wltba2GQiFdsmSJbtiwIWnP8dVXX9XTp0+rquru3bs1KytLm5qaYv4MGhoaVES0oaEhZjsSp76+PtmHcM6i75MnkX2/9r02lcdb9Df72xP2GG7Gee8eMQPWp59+qpmZmdra2qqqqqFQSMePH6/79+/v9rVbtmzRK664wrm9d+9ezc/PV1U7NEyePNlpa2xs1LS0ND1z5kyvj5Genq61tbXO986ZM0e3bdumqqrl5eX61ltvOW3Lli3TjRs3qqrq4sWL9ZlnnnHa7rzzTl2zZo2qqq5atUrvu+8+p+2RRx7R66+/XlVV77//fr311ludtldeeUXnz5+ftOcYqb29XTMzM/XgwYPd2lQJWMnEi13y0PfJk8i+/0FHwHrmQwJWLJz37hFzirCmpkby8vLE7/eLiIhlWRIIBKS6urrb11ZXV8ukSZOc24WFhVJbWyttbW3d2jIzMyUrK0s++eSTHh+jvr5eWltbZcKECVH3G378WI853G2Jfo6RNm3aJMXFxVGPE0tjY2PUv+bm5h6/HgBMxRQh3M6f7ANAz/785z/LunXrZNu2bWL1UvVZUFAQdfuuu+6S1atXJ/LwznknTpxI9iGcs+j75Elk3589myoiaXL6VJMcP96WsMdxK8775BgzZky/v8cJWE8//bSsX79eRERWrFjhjND4/X5RVamurpZAINDtDgKBgGzbts25fejQIWfUJhAIyOHDh522kydPSkNDg0ycOFEyMjLiPkZOTo74/X6pq6tzRngOHTrkPH74fvPy8py2yy+/PKpt3rx5cb8v8lgj2w4cOBC3bbifo4jI9u3bZeXKlfLyyy/L5MmTe/5Jij3ymJWV5dxOS0uTtLS0Xr8PgzOQXzwMDfo+eRLV96NHtYtISDIzMmTMGC50j4Xz3iXizR1WVlZGFWfPmjUr5tc1NjZqbm5uVAH4d7/7XVW1a4eKi4ujCsCvueaaPj1GVVVVVAH4xIkTnQLwtWvXdity/+yzz1RVddOmTd2K3N9//31VVX399de7Fbm//PLLqqp64MCBbkXuDz/8cNKe4/bt27WgoEB37twZ5yfUiRqs5KEeInno++RJZN//77/ZNVjPfUQNViyc9+4RN2Dt27dP586dq8FgUGfNmuWEFFXVe+65Rx999FHn9ksvvaSTJ0/WkpISXbp0qX7++edO25tvvqnTpk3TYDColZWVWl1d3afHqKur04ULF2ppaamWl5c7AUZVtampSZcvX67FxcUaDAZ18+bNTltbW5uuWrVKi4qKtLi4WB966KGo57Vu3TotKirSoqIivfvuu6PaHn/8cS0uLtbi4mK96aabnLCTjOdYWlqq48aN04qKCudf5PdGImAlDy92yUPfJ08i+/4/OwLW8wSsmDjv3cNSVU32KBoGp7GxUbKzs6WhoSFqihCJd/z4cYbrk4S+T55E9v0Pd7XL998LyQtfSZGvFTFF2BXnvXtw9gIAjMNK7nA7AhYAwBjsRQivIGABAIzhbJVDwoLLEbAAAMYhX8HtCFgAAGMwRQivIGABAIwRDlY+EhZcjoAFADAONVhwOwIWAMAYTpF7cg8DGDQCFgDAGNRgwSsIWAAA4zBFCLcjYAEAjMEUIbyCgAUAMIYzRUjCgssRsAAAxiFfwe0IWAAAY1DkDq8gYAEAjMFehPAKAhYAwDjkK7gdAQsAYAy2yoFXELAAAMZgmQZ4BQELAGAcarDgdgQsAIAxuIoQXkHAAgAYg4VG4RUELACAcchXcDsCFgDAGBS5wysIWAAAYzBFCK8gYAEAjEO+gtsRsAAAxmCrHHgFAQsAYAxnJXfGsOByBCwAgDGowYJXELAAAMYhX8HtCFgAAGNQgwWvIGABAIxhdYxdka/gdgQsAIBxCFhwOwIWAMAYTBHCKwhYAABjWF0+Am5FwAIAGIeABbcjYAEAjME6WPAKAhYAwBhODVZyDwMYNAIWAMA4PhIWXI6ABQAwBkXu8AoCFgDAGCzTAK8gYAEAjEO+gtsRsAAAxuAqQngFAQsAYAxqsOAVBCwAgHEIWHA7AhYAwBgUucMrCFgAAGMwRQivIGABAIzDCBbcjoAFADBGOFjx5gS34xwGABiDZRrgFQQsAIBxyFdwOwIWAMAYjGDBKwhYAABjOMs0JPcwgEEjYAEAjEPAgtsRsIABam5ulp/85CfS3Nyc7EM559D3yZPovmeKMD7O++Robm6WH/zgB/3ud0tVNUHHhGHS2Ngo2dnZ0tDQIFlZWck+nHMG/Z489H3yJLrvtxwIyXWvtcvRf/NL7ihSViTO++QYaL8zggUAMA4jWHA7AhYAwBgUucMr/Mk+AAxeeJa3sbExyUdybgn3N/0+/Oj75El03585GRI50y4nG/0yooWYFYnzPjnC/d3fiipqsDzg448/loKCgmQfBgAAnnX06FHJzc3t89cTsDwgFArJJ598IpmZmWJRuAAAwJDr73ssAQsAAGCIUeQOAAAwxAhYAAAAQ4yABcTx7W9/WwoLC8WyLNm9e7fz+aNHj8qiRYskGAzK1KlTZceOHU7b6dOnZcWKFVJaWiplZWXy3HPPJePQXe3s2bNy1VVXSVlZmVRUVMjChQvlww8/FBH6fjhcfvnlMn36dJkxY4ZccsklsmvXLhGh74fLpk2bxLIs+e1vfysi9PtwKSwslMmTJ8uMGTNkxowZsnnzZhEZZP8rgJi2b9+uNTU1OmnSJN21a5fz+ZUrV+ratWtVVfWdd97R/Px8bWlpUVXVdevWaVVVlaqqfvTRR5qbm6vHjh0b7kN3tTNnzugrr7yioVBIVVUffvhhraysVFX6fjicOHHC+f8LL7yg06dPV1X6fjgcPHhQ582bp3PnztUXX3xRVen34dL1dT5sMP1PwAJ60fUXLz09XWtra53bc+bM0W3btqmqanl5ub711ltO27Jly3Tjxo3Dd7Ae9O677+qkSZNUlb4fbps2bdKKigpVpe8Trb29XS+77DJ97733tLKy0glY9PvwiBewBtP/LDQK9EN9fb20trbKhAkTnM8VFhZKdXW1iIhUV1fLpEmTYrZhYH7+85/L0qVL6fthdOONN8rrr78uIiKvvvoqfT8M1q9fL/Pnz5dZs2Y5n6Pfh9cNN9wgIiIXXXSR/PjHPxafzzeo/qcGC4CxfvSjH8mHH34o9913X7IP5Zzy9NNPS01Njdx7772yevXqZB+O5+3Zs0eef/55+f73v5/sQzln7dixQ/7+97/Lzp07ZezYsVJVVTXo+yRgAf2Qk5Mjfr9f6urqnM8dOnRIAoGAiIgEAgE5fPhwzDb0z09/+lN54YUX5Pe//72MHj2avk+CqqoqZySLvk+cN954Qw4dOiTBYFAKCwvlr3/9q9xyyy2yZcsW+n2YhPttxIgR8p3vfEfeeOONwb/mJHBKE/CErnPzVVVVUUWPEydOdIoe165d263o8bPPPhvuQ3a9Bx98UGfOnKnHjx+P+jx9n1gnTpzQI0eOOLdffPFFzc/P11AoRN8Po8gaLPo98ZqamqIu7njwwQf1kksuUdXB9T8BC4jjlltu0fz8fE1JSdFx48ZpSUmJqqrW1dXpwoULtbS0VMvLy/W1115zvqepqUmXL1+uxcXFGgwGdfPmzck6fNeqqalREdHi4mKtqKjQiooKveiii1SVvk+0Q4cO6Zw5c3Tq1Kk6ffp0veyyy5w/Luj74RMZsOj3xDtw4IDOmDFDp02bplOnTtUrr7xSDx48qKqD63+2ygEAABhi1GABAAAMMQIWAADAECNgAQAADLH/D7/kKpLO4JvAAAAAAElFTkSuQmCC\" />"
      ]
     },
     "execution_count": 11,
     "metadata": {},
     "output_type": "execute_result"
    }
   ],
   "source": [
    "plot(resid1,title = \"Residual\")"
   ]
  },
  {
   "cell_type": "markdown",
   "metadata": {
    "collapsed": true
   },
   "source": [
    "LQapprox部分の実装"
   ]
  },
  {
   "cell_type": "markdown",
   "metadata": {},
   "source": [
    "方法１"
   ]
  },
  {
   "cell_type": "code",
   "execution_count": 12,
   "metadata": {
    "scrolled": false
   },
   "outputs": [
    {
     "data": {
      "text/plain": [
       "([0.00491487 -0.444176; -0.444176 -11.1044], [-0.9 -3.04952e-15], 0.0)"
      ]
     },
     "execution_count": 12,
     "metadata": {},
     "output_type": "execute_result"
    }
   ],
   "source": [
    "GM::GrowthModel\n",
    "a,b,gamma,sigma,d = GM.alpha, GM.beta, GM.gamma, GM.sigma, GM.delta\n",
    "\n",
    "estar = 1 #教科書訂正\n",
    "xstar = ((1 - d*gamma)/(d*b))^(1/(b - 1))\n",
    "sstar = gamma*xstar + xstar^b\n",
    "cstar = sstar - xstar\n",
    "\n",
    "gx = gamma+b*((xstar)^(b-1))\n",
    "f = (cstar^(-a))/(1-a)\n",
    "fs = cstar^(-a)\n",
    "fss = -a*(cstar^(-a-1))\n",
    "\n",
    "A = [0 gamma*xstar+(xstar^b)-sstar;\n",
    "     0                 1]\n",
    "B = [gx;\n",
    "     0]\n",
    "C = zeros(2,1)\n",
    "\n",
    "R = [-1/2*fss -1/2*fs;\n",
    "     -1/2*fs  -f]\n",
    "Q = -1/2*fss\n",
    "N = [1/2*fss 1/2*fs]\n",
    "\n",
    "lq = LQ(Q,R,A,B,C,N; bet=d)\n",
    "\n",
    "P, F, d =  stationary_values(lq)"
   ]
  },
  {
   "cell_type": "markdown",
   "metadata": {},
   "source": [
    "※パッチ前は[0.0 -2.84217e-14; 0.0 -51.2464], [-1.0 9.0374], 0.0)"
   ]
  },
  {
   "cell_type": "markdown",
   "metadata": {},
   "source": [
    "方法２:transition functionをreward functionに入れ込む"
   ]
  },
  {
   "cell_type": "code",
   "execution_count": 13,
   "metadata": {},
   "outputs": [
    {
     "data": {
      "text/plain": [
       "([0.0209329 -0.200212; -0.200212 -7.38542], [-0.560922 9.80736], 0.0)"
      ]
     },
     "execution_count": 13,
     "metadata": {},
     "output_type": "execute_result"
    }
   ],
   "source": [
    "GM::GrowthModel\n",
    "a,b,gamma,sigma,d = GM.alpha, GM.beta, GM.gamma, GM.sigma, GM.delta\n",
    "\n",
    "estar = 1 #教科書訂正\n",
    "xstar = ((1 - d*gamma)/(d*b))^(1/(b - 1))\n",
    "sstar = gamma*xstar + xstar^b\n",
    "cstar = sstar - xstar\n",
    "\n",
    "m1 = gamma*sstar + sstar^b -xstar\n",
    "m2 = gamma+b*(sstar)^(b-1)\n",
    "\n",
    "u = (m1^(1-a))/(1-a)\n",
    "us = (m1^(-a))*m2\n",
    "ux = -(m1^(-a))\n",
    "uss = m1^(-a)*(b-1)*sstar^(b-2) + m2^2*(-a)*m1^(-a-1)\n",
    "uxx = -a*(m1^(-a-1))\n",
    "usx = a*(m1^(-a-1))*m2\n",
    "\n",
    "A = zeros(2,2)\n",
    "B = [1;\n",
    "     0]\n",
    "C = zeros(2,1)\n",
    "\n",
    "R = [-1/2*uss -1/2*us;\n",
    "     -1/2*us -u]\n",
    "Q = -1/2*uxx\n",
    "\n",
    "N = [-1/2*usx -1/2*ux]\n",
    "\n",
    "lq = LQ(Q,R,A,B,C,N; bet=d)\n",
    "\n",
    "P, F, d =  stationary_values(lq)"
   ]
  },
  {
   "cell_type": "code",
   "execution_count": 14,
   "metadata": {
    "scrolled": false
   },
   "outputs": [
    {
     "data": {
      "text/plain": [
       "([5.0 -7.00275 … -1.72873e-24 -9.69682e-25; 1.0 0.0 … 0.0 0.0], [-7.00275 -3.928 … -1.72873e-24 -9.69682e-25], [0.0 0.0 … 0.0 0.0; 0.0 0.0 … 0.0 0.0])"
      ]
     },
     "execution_count": 14,
     "metadata": {},
     "output_type": "execute_result"
    }
   ],
   "source": [
    "s0 = [5.0;1.0]\n",
    "s_path,x_path = compute_sequence(lq,s0)"
   ]
  },
  {
   "cell_type": "code",
   "execution_count": 15,
   "metadata": {
    "scrolled": true
   },
   "outputs": [
    {
     "data": {
      "text/plain": [
       "2×101 Array{Float64,2}:\n",
       " 5.0  -7.00275  -3.928  -2.2033  -1.23588  …  -1.72873e-24  -9.69682e-25\n",
       " 1.0   0.0       0.0     0.0      0.0          0.0           0.0        "
      ]
     },
     "execution_count": 15,
     "metadata": {},
     "output_type": "execute_result"
    }
   ],
   "source": [
    "s_path"
   ]
  },
  {
   "cell_type": "code",
   "execution_count": 16,
   "metadata": {
    "scrolled": true
   },
   "outputs": [
    {
     "data": {
      "text/plain": [
       "1×100 Array{Float64,2}:\n",
       " 7.00275  3.928  2.2033  1.23588  0.693233  …  1.72873e-24  9.69682e-25"
      ]
     },
     "execution_count": 16,
     "metadata": {},
     "output_type": "execute_result"
    }
   ],
   "source": [
    "-x_path"
   ]
  },
  {
   "cell_type": "code",
   "execution_count": 17,
   "metadata": {
    "collapsed": true,
    "scrolled": true
   },
   "outputs": [],
   "source": [
    "slq = reshape(x_path,100,1);"
   ]
  },
  {
   "cell_type": "code",
   "execution_count": 18,
   "metadata": {
    "scrolled": false
   },
   "outputs": [
    {
     "data": {
      "text/html": [
       "<img src=\"data:image/png;base64,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\" />"
      ]
     },
     "execution_count": 18,
     "metadata": {},
     "output_type": "execute_result"
    }
   ],
   "source": [
    "plot(slq)"
   ]
  },
  {
   "cell_type": "markdown",
   "metadata": {},
   "source": [
    "LQ Approximation with QuantEcon.jlより、`approx_lq`を以下のように設定する。"
   ]
  },
  {
   "cell_type": "code",
   "execution_count": 19,
   "metadata": {},
   "outputs": [
    {
     "data": {
      "text/plain": [
       "approx_lq (generic function with 1 method)"
      ]
     },
     "execution_count": 19,
     "metadata": {},
     "output_type": "execute_result"
    }
   ],
   "source": [
    "function approx_lq(s_star, x_star, f_star, Df_star, DDf_star, g_star, Dg_star, discount)\n",
    "    n = 2  # Dim of state variable (1, s)\n",
    "    k = 1  # Dim of control variable x\n",
    "    sx_star = [s_star, x_star]\n",
    "    \n",
    "    # (1, s)' R (1, s) + 2 x N (1, s) + x Q x\n",
    "    Q = Array{Float64}(k, k)\n",
    "    R = Array{Float64}(n, n)\n",
    "    N = Array{Float64}(k, n)\n",
    "    R[1, 1] = -(f_star - Df_star' * sx_star + (sx_star' * DDf_star * sx_star) / 2)\n",
    "    R[2, 2], N[1, 2], N[1, 2], Q[1, 1] = -DDf_star / 2\n",
    "    R[2, 1], N[1, 1] = -(Df_star - DDf_star * sx_star) / 2\n",
    "    R[1, 2] = R[2, 1]\n",
    "    \n",
    "    # A (1, s) + B x + C w\n",
    "    A = Array{Float64}(n, n)\n",
    "    B = Array{Float64}(n, k)\n",
    "    C = zeros(n, 1)\n",
    "    A[1, 1], A[1, 2], B[1, 1] = 1, 0, 0\n",
    "    A[2, 1] = g_star - Dg_star' * sx_star\n",
    "    A[2, 2], B[2, 1] = Dg_star\n",
    "    \n",
    "    lq = LQ(Q, R, A, B, C, N, bet=discount)\n",
    "    return lq\n",
    "end"
   ]
  },
  {
   "cell_type": "markdown",
   "metadata": {},
   "source": [
    "xstar,sstarについてreward function,state transition functionを展開し、以下のように設定する。"
   ]
  },
  {
   "cell_type": "code",
   "execution_count": 20,
   "metadata": {
    "collapsed": true
   },
   "outputs": [],
   "source": [
    "\n",
    "GM::GrowthModel\n",
    "a,b,gamma,sigma,d = GM.alpha, GM.beta, GM.gamma, GM.sigma, GM.delta\n",
    "\n",
    "x_star = ((1 - d*gamma)/(d*b))^(1/(b - 1))\n",
    "s_star = gamma*x_star + x_star^b\n",
    "\n",
    "\n",
    "f_star = (s_star-x_star)^(1-a)/(1-a)\n",
    "Df_star = [(s_star-x_star)^(-a), -(s_star-x_star)^(-a)]\n",
    "DDf_star = [(-a)*(s_star-x_star)^(-a-1) a*(s_star-x_star)^(-a-1);\n",
    "            a*(s_star-x_star)^(-a-1) a*(s_star-x_star)^(-a-1)]\n",
    "g_star = gamma*x_star + x_star^b\n",
    "Dg_star = [0, gamma+b*x_star^(b-1)]\n",
    "discount = d;"
   ]
  },
  {
   "cell_type": "code",
   "execution_count": 21,
   "metadata": {
    "scrolled": false
   },
   "outputs": [
    {
     "data": {
      "text/html": [
       "7.416897506925212"
      ],
      "text/plain": [
       "7.416897506925212"
      ]
     },
     "execution_count": 21,
     "metadata": {},
     "output_type": "execute_result"
    }
   ],
   "source": [
    "s_star"
   ]
  },
  {
   "cell_type": "code",
   "execution_count": 22,
   "metadata": {},
   "outputs": [
    {
     "data": {
      "text/html": [
       "2.0070983979777237"
      ],
      "text/plain": [
       "2.0070983979777237"
      ]
     },
     "execution_count": 22,
     "metadata": {},
     "output_type": "execute_result"
    }
   ],
   "source": [
    "f_star"
   ]
  },
  {
   "cell_type": "code",
   "execution_count": 23,
   "metadata": {
    "scrolled": false
   },
   "outputs": [
    {
     "data": {
      "text/plain": [
       "QuantEcon.LQ([-0.0491487], [-3.33384 -0.533012; -0.533012 0.0491487], [1.0 0.0; 1.18421 0.0], [0.0; 1.11111], [0.0; 0.0], [1.0844 -0.0491487], 0.9, nothing, [NaN NaN; NaN NaN], [NaN NaN; NaN NaN], 0.0, [0.0 0.0])"
      ]
     },
     "execution_count": 23,
     "metadata": {},
     "output_type": "execute_result"
    }
   ],
   "source": [
    "q = approx_lq(s_star, x_star, f_star, Df_star, DDf_star, g_star, Dg_star, discount)"
   ]
  },
  {
   "cell_type": "code",
   "execution_count": 24,
   "metadata": {
    "scrolled": false
   },
   "outputs": [
    {
     "data": {
      "text/plain": [
       "([0.0209329 -0.200212; -0.200212 -7.38542], [-0.560922 9.80736], 0.0)"
      ]
     },
     "execution_count": 24,
     "metadata": {},
     "output_type": "execute_result"
    }
   ],
   "source": [
    "P, F, d = stationary_values(lq)"
   ]
  },
  {
   "cell_type": "markdown",
   "metadata": {},
   "source": [
    "`compute_sequence`を用いてs_pathを導出する。"
   ]
  },
  {
   "cell_type": "code",
   "execution_count": 25,
   "metadata": {},
   "outputs": [
    {
     "data": {
      "text/plain": [
       "([5.0 -7.00275 … -1.04293e-74 -5.85e-75; 1.0 0.0 … 0.0 0.0], [-7.00275 -3.928 … -1.04293e-74 -5.85e-75], [0.0 0.0 … 0.0 0.0; 0.0 0.0 … 0.0 0.0])"
      ]
     },
     "execution_count": 25,
     "metadata": {},
     "output_type": "execute_result"
    }
   ],
   "source": [
    "ts_length = 300\n",
    "s0 = [5.0,1.0]\n",
    "s_path,x_path = compute_sequence(lq,s0, ts_length)"
   ]
  },
  {
   "cell_type": "code",
   "execution_count": 26,
   "metadata": {
    "scrolled": true
   },
   "outputs": [
    {
     "data": {
      "text/plain": [
       "2×301 Array{Float64,2}:\n",
       " 5.0  -7.00275  -3.928  -2.2033  -1.23588  …  -1.04293e-74  -5.85e-75\n",
       " 1.0   0.0       0.0     0.0      0.0          0.0           0.0     "
      ]
     },
     "execution_count": 26,
     "metadata": {},
     "output_type": "execute_result"
    }
   ],
   "source": [
    "s_path"
   ]
  },
  {
   "cell_type": "code",
   "execution_count": 27,
   "metadata": {
    "scrolled": false
   },
   "outputs": [
    {
     "data": {
      "text/html": [
       "<img src=\"data:image/png;base64,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\" />"
      ]
     },
     "execution_count": 27,
     "metadata": {},
     "output_type": "execute_result"
    }
   ],
   "source": [
    "plot(-s_path[1, :],xlim=(5,10))"
   ]
  },
  {
   "cell_type": "markdown",
   "metadata": {},
   "source": [
    "今までよりはまともな図が出たように見える。\n",
    "次にvalueを導出する。"
   ]
  },
  {
   "cell_type": "code",
   "execution_count": 28,
   "metadata": {
    "scrolled": false
   },
   "outputs": [
    {
     "data": {
      "text/plain": [
       "Vlq (generic function with 1 method)"
      ]
     },
     "execution_count": 28,
     "metadata": {},
     "output_type": "execute_result"
    }
   ],
   "source": [
    "Vlq(s) = [1, s]' * P * [1, s] + d"
   ]
  },
  {
   "cell_type": "code",
   "execution_count": 29,
   "metadata": {
    "scrolled": true
   },
   "outputs": [
    {
     "data": {
      "text/html": [
       "-409.2236593288569"
      ],
      "text/plain": [
       "-409.2236593288569"
      ]
     },
     "execution_count": 29,
     "metadata": {},
     "output_type": "execute_result"
    }
   ],
   "source": [
    "Vlq(s_star)"
   ]
  },
  {
   "cell_type": "markdown",
   "metadata": {},
   "source": [
    "s_starに対してのVlqが妙に大きい。先に`stationary_values`で求めたPに問題がある？\n",
    "\n",
    "\n",
    "とりあえずこのまま教科書通りに投資量(x)/資本(s)のグラフを描画する。"
   ]
  },
  {
   "cell_type": "code",
   "execution_count": 30,
   "metadata": {
    "scrolled": true
   },
   "outputs": [
    {
     "data": {
      "text/plain": [
       "X (generic function with 1 method)"
      ]
     },
     "execution_count": 30,
     "metadata": {},
     "output_type": "execute_result"
    }
   ],
   "source": [
    "X(s) = (- F * [1, s])[1]"
   ]
  },
  {
   "cell_type": "code",
   "execution_count": 31,
   "metadata": {
    "scrolled": true
   },
   "outputs": [
    {
     "data": {
      "text/html": [
       "-68.09059387873502"
      ],
      "text/plain": [
       "-68.09059387873502"
      ]
     },
     "execution_count": 31,
     "metadata": {},
     "output_type": "execute_result"
    }
   ],
   "source": [
    "X(7)"
   ]
  },
  {
   "cell_type": "code",
   "execution_count": 32,
   "metadata": {
    "scrolled": false
   },
   "outputs": [
    {
     "data": {
      "text/html": [
       "<img src=\"data:image/png;base64,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\" />"
      ]
     },
     "execution_count": 32,
     "metadata": {},
     "output_type": "execute_result"
    }
   ],
   "source": [
    "ss = linspace(5, 10, 100)\n",
    "plot(ss, X.(ss)./ss, title=\"Optimal value function by LQ\")"
   ]
  },
  {
   "cell_type": "markdown",
   "metadata": {},
   "source": [
    "投資量が多すぎる…。"
   ]
  },
  {
   "cell_type": "markdown",
   "metadata": {},
   "source": [
    "次に、value function iterationを試してみる。"
   ]
  },
  {
   "cell_type": "code",
   "execution_count": 33,
   "metadata": {},
   "outputs": [
    {
     "data": {
      "text/plain": [
       "riccati_rhs (generic function with 2 methods)"
      ]
     },
     "execution_count": 33,
     "metadata": {},
     "output_type": "execute_result"
    }
   ],
   "source": [
    "function riccati_rhs(P, lq)\n",
    "    Q, R, A, B, N, bet = lq.Q, lq.R, lq.A, lq.B, lq.N, lq.bet\n",
    "    A0, B0 = sqrt(bet) * A, sqrt(bet) * B\n",
    "    out = R - (B0' * P * A0 + N)' * inv(Q + B0' * P * B0) *\n",
    "        (B0' * P * A0 + N) + A0' * P * A0\n",
    "    return out\n",
    "end\n",
    "\n",
    "riccati_rhs(P) = riccati_rhs(P, lq)"
   ]
  },
  {
   "cell_type": "code",
   "execution_count": 34,
   "metadata": {},
   "outputs": [
    {
     "data": {
      "text/plain": [
       "compute_F (generic function with 1 method)"
      ]
     },
     "execution_count": 34,
     "metadata": {},
     "output_type": "execute_result"
    }
   ],
   "source": [
    "function compute_F(P, lq)\n",
    "    s1 = lq.Q + lq.bet * (lq.B' * P * lq.B)\n",
    "    s2 = lq.bet * (lq.B' * P * lq.A) + lq.N\n",
    "    F = s1 \\ s2\n",
    "    return F\n",
    "end"
   ]
  },
  {
   "cell_type": "code",
   "execution_count": 35,
   "metadata": {},
   "outputs": [
    {
     "name": "stdout",
     "output_type": "stream",
     "text": [
      "Converged in 30 steps\n"
     ]
    },
    {
     "data": {
      "text/plain": [
       "2×2 Array{Float64,2}:\n",
       "  0.0209329  -0.200212\n",
       " -0.200212   -7.38542 "
      ]
     },
     "execution_count": 35,
     "metadata": {},
     "output_type": "execute_result"
    }
   ],
   "source": [
    "max_iter = 500\n",
    "err_tol = 1e-15\n",
    "P_init = [1.0 2;\n",
    "          3 4]\n",
    "P_vi = compute_fixed_point(riccati_rhs, P_init, max_iter=max_iter,\n",
    "                           verbose=2, print_skip=50, err_tol=err_tol)"
   ]
  },
  {
   "cell_type": "markdown",
   "metadata": {},
   "source": [
    "Pは先ほどと変わらず、P_initを変更しても変化なし。\n",
    "\n",
    "ステップ数が妙に少ないのが原因？"
   ]
  },
  {
   "cell_type": "markdown",
   "metadata": {},
   "source": [
    "dpsimulの実装"
   ]
  },
  {
   "cell_type": "code",
   "execution_count": 36,
   "metadata": {},
   "outputs": [
    {
     "data": {
      "text/plain": [
       "GM_dpsimul (generic function with 1 method)"
      ]
     },
     "execution_count": 36,
     "metadata": {},
     "output_type": "execute_result"
    }
   ],
   "source": [
    "function GM_dpsimul(GM::GrowthModel,sinit,nyrs,sres,xres)\n",
    "    a,b,g,sigma,d = GM.alpha, GM.beta, GM.gamma, GM.sigma, GM.delta\n",
    "\n",
    "    nrep = length(sinit) #npath\n",
    "    nshocks = 3\n",
    "    e,w = qnwlogn(nshocks,-(sigma^2)/2,sigma^2)\n",
    "    ssim = zeros(nrep,nyrs+1)\n",
    "    xsim = zeros(nrep,nyrs+1)\n",
    "    \n",
    "    rv = DiscreteRV(w)\n",
    "    trans(x) = (g*x) + e[rand(rv)]*x^b #state transition function\n",
    "        \n",
    "    for t in 1:nyrs+1\n",
    "        li = LinInterp(sres, xres)\n",
    "        xx = Vector{Float64}(length(sinit))\n",
    "        for i in 1:nrep\n",
    "            xx[i]=li(sinit[i])\n",
    "        end\n",
    "        ssim[:,t] = sinit\n",
    "        xsim[:,t]= xx\n",
    "        for i in 1:length(sinit) -1\n",
    "            sinit[i+1] = trans(xx[i])\n",
    "        end\n",
    "    end\n",
    "        \n",
    "    return ssim,xsim\n",
    "end"
   ]
  },
  {
   "cell_type": "code",
   "execution_count": 37,
   "metadata": {
    "collapsed": true,
    "scrolled": true
   },
   "outputs": [],
   "source": [
    "nyrs = 20\n",
    "npath = 2000\n",
    "sinit = 5*ones(npath,1) \n",
    "\n",
    "spath,xpath = GM_dpsimul(GM,sinit,nyrs,snodes[1],x_opt);"
   ]
  },
  {
   "cell_type": "code",
   "execution_count": 38,
   "metadata": {
    "scrolled": false
   },
   "outputs": [
    {
     "data": {
      "text/plain": [
       "21-element Array{Float64,1}:\n",
       " 5.0    \n",
       " 5.60186\n",
       " 6.06287\n",
       " 6.42102\n",
       " 6.69162\n",
       " 6.88447\n",
       " 7.03205\n",
       " 7.13386\n",
       " 7.21052\n",
       " 7.25784\n",
       " 7.29858\n",
       " 7.32795\n",
       " 7.35068\n",
       " 7.3633 \n",
       " 7.37894\n",
       " 7.38365\n",
       " 7.39128\n",
       " 7.40442\n",
       " 7.41036\n",
       " 7.40761\n",
       " 7.40693"
      ]
     },
     "execution_count": 38,
     "metadata": {},
     "output_type": "execute_result"
    }
   ],
   "source": [
    "spath_x=vec(mean(spath,1))"
   ]
  },
  {
   "cell_type": "code",
   "execution_count": 39,
   "metadata": {
    "scrolled": false
   },
   "outputs": [
    {
     "data": {
      "text/html": [
       "<img src=\"data:image/png;base64,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\" />"
      ]
     },
     "execution_count": 39,
     "metadata": {},
     "output_type": "execute_result"
    }
   ],
   "source": [
    "plot(spath_x,ylim=(5.0,7.5),xlabel=\"Year\",ylabel=\"Wealth\",title=\"Expected Weath\")"
   ]
  },
  {
   "cell_type": "markdown",
   "metadata": {},
   "source": [
    "dpststの実装:nsmooth=5,nbins=80"
   ]
  },
  {
   "cell_type": "markdown",
   "metadata": {},
   "source": [
    "stateの初期状態を5から10の間でランダムに決定し、`GM_dpsim`を繰り返してみる。"
   ]
  },
  {
   "cell_type": "code",
   "execution_count": 40,
   "metadata": {
    "collapsed": true
   },
   "outputs": [],
   "source": [
    "nyrs = 20\n",
    "npath = 2000\n",
    "smin_stst = 5\n",
    "smax_stst = 10\n",
    "nsmooth = 5\n",
    "s_dist = Array{Float64}(npath*(nyrs+1),nsmooth)\n",
    "\n",
    "for i in 1:nsmooth\n",
    "    sinit = smin_stst + (smax_stst - smin_stst)*rand(npath)\n",
    "    spath,xpath = GM_dpsimul(GM,sinit,nyrs,snodes[1],x_opt)\n",
    "    s_dist[:,i] = reshape(spath,(length(spath),1))\n",
    "end"
   ]
  },
  {
   "cell_type": "code",
   "execution_count": 58,
   "metadata": {
    "scrolled": false
   },
   "outputs": [
    {
     "data": {
      "text/html": [
       "<img src=\"data:image/png;base64,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\" />"
      ]
     },
     "execution_count": 58,
     "metadata": {},
     "output_type": "execute_result"
    }
   ],
   "source": [
    "re_s_dist=reshape(s_dist,(length(s_dist)),1)\n",
    "histogram(re_s_dist,nbins=80,normed = true,xlabel = \"Wealth\",ylabel=\"Probability\",title=\"Steady-State Distribution\")"
   ]
  },
  {
   "cell_type": "markdown",
   "metadata": {},
   "source": [
    "1を超えているのが気になるが、とりあえず教科書に近い形になった。"
   ]
  }
 ],
 "metadata": {
  "kernelspec": {
   "display_name": "Julia 0.6.0",
   "language": "julia",
   "name": "julia-0.6"
  },
  "language_info": {
   "file_extension": ".jl",
   "mimetype": "application/julia",
   "name": "julia",
   "version": "0.6.0"
  }
 },
 "nbformat": 4,
 "nbformat_minor": 2
}
