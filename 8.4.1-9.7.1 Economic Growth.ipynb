{
 "cells": [
  {
   "cell_type": "markdown",
   "metadata": {},
   "source": [
    "# Economic Growth"
   ]
  },
  {
   "cell_type": "markdown",
   "metadata": {},
   "source": [
    "# 8.4.1 モデルについて"
   ]
  },
  {
   "cell_type": "markdown",
   "metadata": {},
   "source": [
    "あるcomposite goodを生産し、消費する経済を考える.\n",
    "\n",
    "・毎年、財は数量$s$で始まり、うち$x$が投資に、残り$(s-x)$が消費に充てられる.\n",
    "\n",
    "・また、social benefitとして$u(s-x)$が生じる.\n",
    "\n",
    "・毎年はじめに利用できる財の量はcontinuous-valued Markov processによって以下のようにコントロールされる\n",
    "\n",
    "$$s_{t+1} = \\gamma x_t + \\epsilon_{t+1}h(x_t)$$\n",
    "\n",
    "・$\\gamma$はcapital survival rate(1-減価償却率)、$h$は総生産関数、$\\epsilon$は正の生産ショック(平均が1)を表す.\n",
    "\n",
    "ここでは、現在、そして将来にわたるsocial benefitの総和を最大化するような消費と投資のpolicyについて考える."
   ]
  },
  {
   "cell_type": "markdown",
   "metadata": {},
   "source": [
    "・このモデルはinfinite horizonである.$ｘ$は投資量を決定するアクションである.\n",
    "\n",
    "$$s\\in[0,\\infty), x\\in[0,s]$$\n",
    "\n",
    "・状態遷移関数(state transition function)は次のように表される.\n",
    "\n",
    "$$g(s,x,\\epsilon)=\\gamma x + \\epsilon h(x)$$\n",
    "\n",
    "・reward functionは次のように表される.\n",
    "\n",
    "$$f(s,x)=u(s-x)$$"
   ]
  },
  {
   "cell_type": "markdown",
   "metadata": {},
   "source": [
    "ストック$s$が与えられたとき、現在と将来のsocial benefitの和はBellman equationを満たす.\n",
    "\n",
    "$$V(s)=\\max_{0\\leq x \\leq s}\\{u(s-x) + \\delta E_\\epsilon V(\\gamma x +\\epsilon h(x))\\}$$"
   ]
  },
  {
   "cell_type": "markdown",
   "metadata": {},
   "source": [
    "$u'(0)=\\infty$と$h(0)=0$を仮定すると、最適条件ではconstraintsは拘束力を持たない"
   ]
  },
  {
   "cell_type": "code",
   "execution_count": 1,
   "metadata": {
    "collapsed": true,
    "scrolled": true
   },
   "outputs": [],
   "source": [
    "using QuantEcon\n",
    "using BasisMatrices\n",
    "using Optim"
   ]
  },
  {
   "cell_type": "code",
   "execution_count": 2,
   "metadata": {
    "collapsed": true,
    "scrolled": false
   },
   "outputs": [],
   "source": [
    "using Interpolations"
   ]
  },
  {
   "cell_type": "code",
   "execution_count": 3,
   "metadata": {
    "collapsed": true,
    "scrolled": false
   },
   "outputs": [],
   "source": [
    "using Plots"
   ]
  },
  {
   "cell_type": "code",
   "execution_count": 4,
   "metadata": {
    "collapsed": true
   },
   "outputs": [],
   "source": [
    "struct GrowthModel\n",
    "    alpha::Float64\n",
    "    beta::Float64\n",
    "    gamma::Float64\n",
    "    sigma::Float64\n",
    "    delta::Float64 #discount factor\n",
    "    s_vec::Vector{Float64}\n",
    "end"
   ]
  },
  {
   "cell_type": "code",
   "execution_count": 5,
   "metadata": {
    "collapsed": true
   },
   "outputs": [],
   "source": [
    "n = 500 #ここを大きくするとdpsimulのspathが7.5に近づく\n",
    "smin = 0\n",
    "smax = 10\n",
    "fspace = Basis(ChebParams(n, smin, smax))\n",
    "\n",
    "snodes = nodes(fspace);"
   ]
  },
  {
   "cell_type": "code",
   "execution_count": 6,
   "metadata": {
    "scrolled": false
   },
   "outputs": [
    {
     "data": {
      "text/plain": [
       "GrowthModel(0.2, 0.5, 0.9, 0.1, 0.9, [2.4674e-5, 0.000222064, 0.000616838, 0.00120898, 0.00199846, 0.00298526, 0.00416933, 0.00555063, 0.00712909, 0.00890467  …  9.9911, 9.99287, 9.99445, 9.99583, 9.99701, 9.998, 9.99879, 9.99938, 9.99978, 9.99998])"
      ]
     },
     "execution_count": 6,
     "metadata": {},
     "output_type": "execute_result"
    }
   ],
   "source": [
    "GM = GrowthModel(0.2, 0.5, 0.9,0.1,0.9, snodes[1])"
   ]
  },
  {
   "cell_type": "code",
   "execution_count": 7,
   "metadata": {},
   "outputs": [
    {
     "data": {
      "text/plain": [
       "update_bellman! (generic function with 1 method)"
      ]
     },
     "execution_count": 7,
     "metadata": {},
     "output_type": "execute_result"
    }
   ],
   "source": [
    "function update_bellman!(GM::GrowthModel,V::Vector)\n",
    "    a,b,g,sigma,d = GM.alpha, GM.beta, GM.gamma, GM.sigma, GM.delta\n",
    "    V_func = LinInterp(GM.s_vec, V)\n",
    "    V_new = similar(V)\n",
    "    x_opt = similar(V)\n",
    "    \n",
    "    nshocks = 3\n",
    "    e,w = qnwlogn(nshocks,-(sigma^2)/2,sigma^2)\n",
    "    \n",
    "    for (s_idx,s) in enumerate(GM.s_vec)\n",
    "        objective(x) = -(((s - x)^(1 - a)/(1 - a)) + d * dot(V_func.(g*x + e*(x^b)), w))\n",
    "        opt = optimize(objective, 1e-10, s)\n",
    "        V_new[s_idx] = - opt.minimum\n",
    "        x_opt[s_idx] = opt.minimizer\n",
    "    end\n",
    "    return V_new,x_opt\n",
    "end"
   ]
  },
  {
   "cell_type": "code",
   "execution_count": 8,
   "metadata": {
    "collapsed": true,
    "scrolled": false
   },
   "outputs": [],
   "source": [
    "V = Vector{Float64}(length(GM.s_vec))\n",
    "for i in 1:length(GM.s_vec)\n",
    "V[i] = 5\n",
    "end"
   ]
  },
  {
   "cell_type": "code",
   "execution_count": 9,
   "metadata": {
    "collapsed": true
   },
   "outputs": [],
   "source": [
    "n = 500\n",
    "V_computed = similar(V)\n",
    "x_opt = similar(V)\n",
    "resid1 = Vector{Float64}(n)\n",
    "\n",
    "for i in 1:n\n",
    "    V_func =  LinInterp(snodes[1], V)\n",
    "    V_computed, x_opt = update_bellman!(GM,V)\n",
    "    for j in 1:length(V_computed)\n",
    "        resid1[j] =  V_computed[j] - V[j]\n",
    "    end\n",
    "    copy!(V, V_computed)\n",
    "end"
   ]
  },
  {
   "cell_type": "code",
   "execution_count": 10,
   "metadata": {
    "scrolled": false
   },
   "outputs": [
    {
     "data": {
      "text/html": [
       "<img src=\"data:image/png;base64,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\" />"
      ]
     },
     "execution_count": 10,
     "metadata": {},
     "output_type": "execute_result"
    }
   ],
   "source": [
    "x_per = similar(V)\n",
    "for i in 1:length(x_per)\n",
    "    x_per[i] = x_opt[i] / GM.s_vec[i]\n",
    "end\n",
    "\n",
    "plot(GM.s_vec, x_per,xlim=(5,10),ylim=(0.65,0.9))"
   ]
  },
  {
   "cell_type": "code",
   "execution_count": 11,
   "metadata": {
    "scrolled": false
   },
   "outputs": [
    {
     "data": {
      "text/html": [
       "<img src=\"data:image/png;base64,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\" />"
      ]
     },
     "execution_count": 11,
     "metadata": {},
     "output_type": "execute_result"
    }
   ],
   "source": [
    "plot(resid1)"
   ]
  },
  {
   "cell_type": "markdown",
   "metadata": {
    "collapsed": true
   },
   "source": [
    "LQapprox部分の実装"
   ]
  },
  {
   "cell_type": "code",
   "execution_count": 12,
   "metadata": {
    "scrolled": false
   },
   "outputs": [
    {
     "data": {
      "text/plain": [
       "([0.0 -2.84217e-14; 0.0 -51.2464], [-1.0 9.0374], 0.0)"
      ]
     },
     "execution_count": 12,
     "metadata": {},
     "output_type": "execute_result"
    }
   ],
   "source": [
    "GM::GrowthModel\n",
    "a,b,gamma,sigma,d = GM.alpha, GM.beta, GM.gamma, GM.sigma, GM.delta\n",
    "\n",
    "estar = 1 #教科書訂正\n",
    "xstar = ((1 - d*gamma)/(d*b))^(1/(b - 1))\n",
    "sstar = gamma*xstar + xstar^b\n",
    "cstar = sstar - xstar\n",
    "\n",
    "m = gamma+b*(xstar)^(b-1)\n",
    "f = (cstar^(-a))/(1-a)\n",
    "fs = cstar^(-a)\n",
    "fss = -a*(cstar^(-a-1))\n",
    "\n",
    "A = [0 gamma*xstar+(xstar^b)-sstar;\n",
    "     0                 1]\n",
    "B = [m;\n",
    "     0]\n",
    "C = zeros(2,1)\n",
    "\n",
    "R = [-1/2*fss -1/2*fs;\n",
    "     -1/2*fs  -f]\n",
    "Q = -1/2*fss\n",
    "N = [1/2*fss 1/2*fs]\n",
    "\n",
    "lq = LQ(Q,R,A,B,C,N; bet=d)\n",
    "\n",
    "P, F, d =  stationary_values(lq)"
   ]
  },
  {
   "cell_type": "code",
   "execution_count": 14,
   "metadata": {
    "scrolled": false
   },
   "outputs": [
    {
     "data": {
      "text/plain": [
       "([5.0 -4.486 … -2.8927e6 -3.21412e6; 1.0 1.0 … 1.0 1.0], [-4.0374 -13.5234 … -2.60343e6 -2.89271e6], [0.0 0.0 … 0.0 0.0; 0.0 0.0 … 0.0 0.0])"
      ]
     },
     "execution_count": 14,
     "metadata": {},
     "output_type": "execute_result"
    }
   ],
   "source": [
    "s0 = [5.0;1.0]\n",
    "s_path,x_path = compute_sequence(lq,s0)"
   ]
  },
  {
   "cell_type": "code",
   "execution_count": 16,
   "metadata": {
    "collapsed": true
   },
   "outputs": [],
   "source": [
    "slq = s_path[1] + sstar\n",
    "xlq = x_path[1] + xstar;"
   ]
  },
  {
   "cell_type": "code",
   "execution_count": 53,
   "metadata": {},
   "outputs": [
    {
     "ename": "LoadError",
     "evalue": "\u001b[91mMethodError: objects of type Float64 are not callable\u001b[39m",
     "output_type": "error",
     "traceback": [
      "\u001b[91mMethodError: objects of type Float64 are not callable\u001b[39m",
      "",
      "Stacktrace:",
      " [1] \u001b[1msimilar\u001b[22m\u001b[22m\u001b[1m(\u001b[22m\u001b[22m::Float64\u001b[1m)\u001b[22m\u001b[22m at \u001b[1m.\\abstractarray.jl:565\u001b[22m\u001b[22m",
      " [2] \u001b[1minclude_string\u001b[22m\u001b[22m\u001b[1m(\u001b[22m\u001b[22m::String, ::String\u001b[1m)\u001b[22m\u001b[22m at \u001b[1m.\\loading.jl:515\u001b[22m\u001b[22m"
     ]
    }
   ],
   "source": [
    "x_per = similar(xlq)\n",
    "for i in 1:length(x_per)\n",
    "    x_per[i] = xlq[i] / slq[i+1]\n",
    "end\n",
    "\n",
    "plot(slq, x_per,xlim=(5,10),ylim=(0.65,0.9))"
   ]
  },
  {
   "cell_type": "markdown",
   "metadata": {},
   "source": [
    "dpsimulの実装"
   ]
  },
  {
   "cell_type": "code",
   "execution_count": 22,
   "metadata": {},
   "outputs": [
    {
     "data": {
      "text/plain": [
       "GM_dpsimul (generic function with 1 method)"
      ]
     },
     "execution_count": 22,
     "metadata": {},
     "output_type": "execute_result"
    }
   ],
   "source": [
    "function GM_dpsimul(GM::GrowthModel,sinit,nyrs,sres,xres)\n",
    "    a,b,g,sigma,d = GM.alpha, GM.beta, GM.gamma, GM.sigma, GM.delta\n",
    "\n",
    "    nrep = length(sinit) #npath\n",
    "    nshocks = 3\n",
    "    e,w = qnwlogn(nshocks,-(sigma^2)/2,sigma^2)\n",
    "    ssim = zeros(nrep,nyrs+1)\n",
    "    xsim = zeros(nrep,nyrs+1)\n",
    "    \n",
    "    rv = DiscreteRV(w)\n",
    "    trans(x) = (g*x) + e[rand(rv)]*x^b #state transition function\n",
    "        \n",
    "    for t in 1:nyrs+1\n",
    "        li = LinInterp(sres, xres)\n",
    "        xx = Vector{Float64}(length(sinit))\n",
    "        for i in 1:length(sinit)\n",
    "            xx[i]=li(sinit[i])\n",
    "        end\n",
    "        ssim[:,t] = sinit\n",
    "        xsim[:,t]= xx\n",
    "        for i in 1:length(sinit) -1\n",
    "            sinit[i+1] = trans(xx[i])\n",
    "        end\n",
    "    end\n",
    "        \n",
    "    return ssim,xsim\n",
    "end"
   ]
  },
  {
   "cell_type": "code",
   "execution_count": 23,
   "metadata": {
    "scrolled": true
   },
   "outputs": [
    {
     "data": {
      "text/plain": [
       "5-element Array{Float64,1}:\n",
       " 0.995012\n",
       " 0.995012\n",
       " 0.995012\n",
       " 0.995012\n",
       " 0.836771"
      ]
     },
     "execution_count": 23,
     "metadata": {},
     "output_type": "execute_result"
    }
   ],
   "source": [
    "nshocks = 3\n",
    "    e,w = qnwlogn(nshocks,-(sigma^2)/2,sigma^2)\n",
    "d = DiscreteRV(w);\n",
    "\n",
    "e[rand(d, 5)]"
   ]
  },
  {
   "cell_type": "code",
   "execution_count": 24,
   "metadata": {
    "collapsed": true,
    "scrolled": true
   },
   "outputs": [],
   "source": [
    "nyrs = 20\n",
    "npath = 2000\n",
    "sinit = 5*ones(npath,1) \n",
    "\n",
    "spath,xpath = GM_dpsimul(GM,sinit,nyrs,snodes[1],x_opt);"
   ]
  },
  {
   "cell_type": "code",
   "execution_count": 25,
   "metadata": {},
   "outputs": [
    {
     "data": {
      "text/plain": [
       "21-element Array{Float64,1}:\n",
       " 5.0    \n",
       " 5.59785\n",
       " 6.06754\n",
       " 6.41796\n",
       " 6.67824\n",
       " 6.88066\n",
       " 7.02103\n",
       " 7.12468\n",
       " 7.2077 \n",
       " 7.26675\n",
       " 7.29472\n",
       " 7.33298\n",
       " 7.35845\n",
       " 7.3718 \n",
       " 7.38167\n",
       " 7.38661\n",
       " 7.39186\n",
       " 7.39504\n",
       " 7.40078\n",
       " 7.41476\n",
       " 7.42291"
      ]
     },
     "execution_count": 25,
     "metadata": {},
     "output_type": "execute_result"
    }
   ],
   "source": [
    "spath_x = vec(mean(spath,1))"
   ]
  },
  {
   "cell_type": "code",
   "execution_count": 26,
   "metadata": {
    "scrolled": false
   },
   "outputs": [
    {
     "data": {
      "text/html": [
       "<img src=\"data:image/png;base64,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\" />"
      ]
     },
     "execution_count": 26,
     "metadata": {},
     "output_type": "execute_result"
    }
   ],
   "source": [
    "plot(spath_x,ylim=(5.0,7.5))"
   ]
  },
  {
   "cell_type": "code",
   "execution_count": 92,
   "metadata": {},
   "outputs": [
    {
     "data": {
      "text/plain": [
       "dpstst (generic function with 1 method)"
      ]
     },
     "execution_count": 92,
     "metadata": {},
     "output_type": "execute_result"
    }
   ],
   "source": [
    "function dpstst(GM::GrowthModel,nsmooth,nnodes,scoord,x)\n",
    "    a,b,g,sigma,d = GM.alpha, GM.beta, GM.gamma, GM.sigma, GM.delta\n",
    "    smin = scoord[1]\n",
    "    smax = scoord[end]\n",
    "    swid = (smax - smin)/nnodes\n",
    "    smid = linspace(smin+swid/2,smax-swid/2,nnodes) \n",
    "    nshocks = 3\n",
    "    e,w = qnwlogn(nshocks,-(sigma^2)/2,sigma^2)\n",
    "    \n",
    "    m = length(w)\n",
    "    ss = gridmake(smid)\n",
    "    xx = similar(ss)\n",
    "    q = ones(length(ss))\n",
    "    li = LinInterp(scoord,x)\n",
    "    for t in 1:nsmooth\n",
    "        for k in 1:length(ss)\n",
    "            xx[k] = li(ss[k])\n",
    "        end\n",
    "        ss,xx,ee = gridmake([ss,xx],e)\n",
    "        ss = (g*xx) + dot(ee*(xx^b),w) #ここ\n",
    "        for l in 1:length(ss)\n",
    "        q[l] = q[l]*w\n",
    "        end\n",
    "    end\n",
    "    nobs = m^nsmooth\n",
    "    ss = reshape(ss,nnodes,nobs)\n",
    "    q = reshape(q,nnodes,nobs)\n",
    "        \n",
    "    p = zeros(nnodes,nnodes)\n",
    "    for j in 1:nobs\n",
    "        i = ceil((ss[:,j]-smin)/swid)\n",
    "        i = min(max(i,1),nnodes)\n",
    "        ind = (1:nnodes)'+(i-1)*nnodes\n",
    "        p[ind] = p[ind] + q[i,j]\n",
    "    end\n",
    "    mc = MarkovChain(p)\n",
    "    p = stationary_distributions(mc)\n",
    "    \n",
    "    return smid,p,xx\n",
    "end"
   ]
  },
  {
   "cell_type": "code",
   "execution_count": 93,
   "metadata": {},
   "outputs": [
    {
     "ename": "LoadError",
     "evalue": "\u001b[91mDimensionMismatch(\"matrix is not square: dimensions are (80, 1)\")\u001b[39m",
     "output_type": "error",
     "traceback": [
      "\u001b[91mDimensionMismatch(\"matrix is not square: dimensions are (80, 1)\")\u001b[39m",
      "",
      "Stacktrace:",
      " [1] \u001b[1mchecksquare\u001b[22m\u001b[22m\u001b[1m(\u001b[22m\u001b[22m::Array{Float64,2}\u001b[1m)\u001b[22m\u001b[22m at \u001b[1m.\\linalg\\linalg.jl:217\u001b[22m\u001b[22m",
      " [2] \u001b[1m^\u001b[22m\u001b[22m\u001b[1m(\u001b[22m\u001b[22m::Array{Float64,2}, ::Float64\u001b[1m)\u001b[22m\u001b[22m at \u001b[1m.\\linalg\\dense.jl:348\u001b[22m\u001b[22m",
      " [3] \u001b[1mdpstst\u001b[22m\u001b[22m\u001b[1m(\u001b[22m\u001b[22m::GrowthModel, ::Int64, ::Int64, ::Array{Float64,1}, ::Array{Float64,1}\u001b[1m)\u001b[22m\u001b[22m at \u001b[1m.\\In[92]:20\u001b[22m\u001b[22m",
      " [4] \u001b[1minclude_string\u001b[22m\u001b[22m\u001b[1m(\u001b[22m\u001b[22m::String, ::String\u001b[1m)\u001b[22m\u001b[22m at \u001b[1m.\\loading.jl:515\u001b[22m\u001b[22m"
     ]
    }
   ],
   "source": [
    "h = 5\n",
    "nbins = 80\n",
    "ss,pi,xx = dpstst(GM,h,nbins,GM.s_vec,x_opt)"
   ]
  }
 ],
 "metadata": {
  "kernelspec": {
   "display_name": "Julia 0.6.0",
   "language": "julia",
   "name": "julia-0.6"
  },
  "language_info": {
   "file_extension": ".jl",
   "mimetype": "application/julia",
   "name": "julia",
   "version": "0.6.0"
  }
 },
 "nbformat": 4,
 "nbformat_minor": 2
}
