{
 "cells": [
  {
   "cell_type": "markdown",
   "metadata": {},
   "source": [
    "# Economic Growth"
   ]
  },
  {
   "cell_type": "markdown",
   "metadata": {},
   "source": [
    "# 8.4.1 モデルについて"
   ]
  },
  {
   "cell_type": "markdown",
   "metadata": {},
   "source": [
    "あるcomposite goodを生産し、消費する経済を考える.\n",
    "\n",
    "・毎年、財は数量$s$で始まり、うち$x$が投資に、残り$(s-x)$が消費に充てられる.\n",
    "\n",
    "・また、social benefitとして$u(s-x)$が生じる.\n",
    "\n",
    "・毎年はじめに利用できる財の量はcontinuous-valued Markov processによって以下のようにコントロールされる\n",
    "\n",
    "$$s_{t+1} = \\gamma x_t + \\epsilon_{t+1}h(x_t)$$\n",
    "\n",
    "・$\\gamma$はcapital survival rate(1-減価償却率)、$h$は総生産関数、$\\epsilon$は正の生産ショック(平均が1)を表す.\n",
    "\n",
    "ここでは、現在、そして将来にわたるsocial benefitの総和を最大化するような消費と投資のpolicyについて考える."
   ]
  },
  {
   "cell_type": "markdown",
   "metadata": {},
   "source": [
    "・このモデルはinfinite horizonである.$ｘ$は投資量を決定するアクションである.\n",
    "\n",
    "$$s\\in[0,\\infty), x\\in[0,s]$$\n",
    "\n",
    "・状態遷移関数(state transition function)は次のように表される.\n",
    "\n",
    "$$g(s,x,\\epsilon)=\\gamma x + \\epsilon h(x)$$\n",
    "\n",
    "・reward functionは次のように表される.\n",
    "\n",
    "$$f(s,x)=u(s-x)$$"
   ]
  },
  {
   "cell_type": "markdown",
   "metadata": {},
   "source": [
    "ストック$s$が与えられたとき、現在と将来のsocial benefitの和はBellman equationを満たす.\n",
    "\n",
    "$$V(s)=\\max_{0\\leq x \\leq s}\\{u(s-x) + \\delta E_\\epsilon V(\\gamma x +\\epsilon h(x))\\}$$"
   ]
  },
  {
   "cell_type": "markdown",
   "metadata": {},
   "source": [
    "$u'(0)=\\infty$と$h(0)=0$を仮定すると、最適条件ではconstraintsは拘束力を持たない?"
   ]
  },
  {
   "cell_type": "code",
   "execution_count": 1,
   "metadata": {
    "scrolled": true
   },
   "outputs": [],
   "source": [
    "using QuantEcon\n",
    "using BasisMatrices\n",
    "using Optim"
   ]
  },
  {
   "cell_type": "code",
   "execution_count": 42,
   "metadata": {
    "collapsed": true
   },
   "outputs": [],
   "source": [
    "using CompEcon #要らない？"
   ]
  },
  {
   "cell_type": "code",
   "execution_count": 2,
   "metadata": {
    "scrolled": false
   },
   "outputs": [],
   "source": [
    "using Interpolations"
   ]
  },
  {
   "cell_type": "code",
   "execution_count": 3,
   "metadata": {
    "scrolled": false
   },
   "outputs": [],
   "source": [
    "using Plots"
   ]
  },
  {
   "cell_type": "code",
   "execution_count": 4,
   "metadata": {
    "collapsed": true
   },
   "outputs": [],
   "source": [
    "struct GrowthModel\n",
    "    alpha::Float64\n",
    "    beta::Float64\n",
    "    gamma::Float64\n",
    "    sigma::Float64\n",
    "    delta::Float64 #discount factor\n",
    "    s_vec::Vector{Float64}\n",
    "end"
   ]
  },
  {
   "cell_type": "code",
   "execution_count": 5,
   "metadata": {},
   "outputs": [],
   "source": [
    "n = 500 #ここを大きくするとdpsimulのspathが7.5に近づく\n",
    "smin = 0\n",
    "smax = 10\n",
    "fspace = Basis(ChebParams(n, smin, smax))\n",
    "\n",
    "snodes = nodes(fspace);"
   ]
  },
  {
   "cell_type": "code",
   "execution_count": 6,
   "metadata": {
    "scrolled": false
   },
   "outputs": [
    {
     "data": {
      "text/plain": [
       "GrowthModel(0.2, 0.5, 0.9, 0.1, 0.9, [2.4674e-5, 0.000222064, 0.000616838, 0.00120898, 0.00199846, 0.00298526, 0.00416933, 0.00555063, 0.00712909, 0.00890467  …  9.9911, 9.99287, 9.99445, 9.99583, 9.99701, 9.998, 9.99879, 9.99938, 9.99978, 9.99998])"
      ]
     },
     "execution_count": 6,
     "metadata": {},
     "output_type": "execute_result"
    }
   ],
   "source": [
    "GM = GrowthModel(0.2, 0.5, 0.9,0.1,0.9, snodes[1])"
   ]
  },
  {
   "cell_type": "code",
   "execution_count": 7,
   "metadata": {},
   "outputs": [
    {
     "data": {
      "text/plain": [
       "update_bellman! (generic function with 1 method)"
      ]
     },
     "execution_count": 7,
     "metadata": {},
     "output_type": "execute_result"
    }
   ],
   "source": [
    "function update_bellman!(GM::GrowthModel,V::Vector)\n",
    "    a,b,g,sigma,d = GM.alpha, GM.beta, GM.gamma, GM.sigma, GM.delta\n",
    "    V_func = LinInterp(GM.s_vec, V)\n",
    "    V_new = similar(V)\n",
    "    x_opt = similar(V)\n",
    "    \n",
    "    nshocks = 3\n",
    "    e,w = qnwlogn(nshocks,-(sigma^2)/2,sigma^2)\n",
    "    \n",
    "    for (s_idx,s) in enumerate(GM.s_vec)\n",
    "        objective(x) = -(((s - x)^(1 - a)/(1 - a)) + d * dot(V_func.(g*x + e*(x^b)), w))\n",
    "        opt = optimize(objective, 1e-10, s)\n",
    "        V_new[s_idx] = - opt.minimum\n",
    "        x_opt[s_idx] = opt.minimizer\n",
    "    end\n",
    "    return V_new,x_opt\n",
    "end"
   ]
  },
  {
   "cell_type": "code",
   "execution_count": 8,
   "metadata": {
    "collapsed": true,
    "scrolled": false
   },
   "outputs": [],
   "source": [
    "V = Vector{Float64}(length(GM.s_vec))\n",
    "for i in 1:length(GM.s_vec)\n",
    "V[i] = 5\n",
    "end"
   ]
  },
  {
   "cell_type": "code",
   "execution_count": 67,
   "metadata": {
    "scrolled": true
   },
   "outputs": [],
   "source": [
    "n = 500\n",
    "V_computed = similar(V)\n",
    "x_opt = similar(V)\n",
    "resid = Vector{Float64}(n)\n",
    "\n",
    "for i in 1:n\n",
    "    V_func =  LinInterp(snodes[1], V)\n",
    "    V_computed, x_opt = update_bellman!(GM,V)\n",
    "    for j in 1:length(V_computed)\n",
    "        resid[j] =  V_computed[j] - V_func(snodes[1][j])\n",
    "    end\n",
    "    copy!(V, V_computed)\n",
    "end"
   ]
  },
  {
   "cell_type": "code",
   "execution_count": 68,
   "metadata": {
    "scrolled": false
   },
   "outputs": [
    {
     "data": {
      "text/html": [
       "<img src=\"data:image/png;base64,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\" />"
      ]
     },
     "execution_count": 68,
     "metadata": {},
     "output_type": "execute_result"
    }
   ],
   "source": [
    "x_per = similar(V)\n",
    "for i in 1:length(x_per)\n",
    "    x_per[i] = x_opt[i] / GM.s_vec[i]\n",
    "end\n",
    "\n",
    "plot(GM.s_vec, x_per,xlim=(5,10),ylim=(0.65,0.9))"
   ]
  },
  {
   "cell_type": "code",
   "execution_count": 69,
   "metadata": {
    "scrolled": false
   },
   "outputs": [
    {
     "data": {
      "text/html": [
       "<img src=\"data:image/png;base64,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\" />"
      ]
     },
     "execution_count": 69,
     "metadata": {},
     "output_type": "execute_result"
    }
   ],
   "source": [
    "plot(resid)"
   ]
  },
  {
   "cell_type": "markdown",
   "metadata": {
    "collapsed": true
   },
   "source": [
    "LQapprox部分の実装"
   ]
  },
  {
   "cell_type": "code",
   "execution_count": 13,
   "metadata": {
    "collapsed": true,
    "scrolled": true
   },
   "outputs": [],
   "source": [
    "GM::GrowthModel\n",
    "a,b,gamma,sigma,d = GM.alpha, GM.beta, GM.gamma, GM.sigma, GM.delta\n",
    "\n",
    "estar = 1 #教科書訂正\n",
    "xstar = ((1 - d*gamma)/(d*b))^(1/(b - 1))\n",
    "sstar = gamma*xstar + xstar^b\n",
    "pstar = (sstar - xstar).^(- a); #λ=u'"
   ]
  },
  {
   "cell_type": "code",
   "execution_count": null,
   "metadata": {
    "collapsed": true
   },
   "outputs": [],
   "source": [
    "#derivatives of reward function\n",
    "f(s,x) = (s - x)^(1 - a)/(1 - a)\n",
    "fx(s,x) = (-s + x)^(-a)\n",
    "fxx(s,x) = (-a*(s - x))^(-a - 1)\n",
    "\n",
    "f_rep(s,x) = f(sstar,xstar) + fx(sstar,x)(x - xstar) + 1/2*((x - xstar)^2)*fxx(sstar,x)\n",
    "        + fx(s,xstar)(s - sstar) + 1/2*((s - sstar)^2)*fxx(s,xstar)\n",
    "\n",
    "g_rep(c) = g(xstar) + gx(xstar)(x - xstar)"
   ]
  },
  {
   "cell_type": "code",
   "execution_count": 78,
   "metadata": {
    "scrolled": false
   },
   "outputs": [
    {
     "data": {
      "text/plain": [
       "([5.0 23.5247 … 2.25029e45 6.3114e45; 1.0 1.0 … 1.0 1.0], [-0.0 -0.0 … -0.0 -0.0], [0.0 0.0 … 0.0 0.0; 0.0 0.0 … 0.0 0.0])"
      ]
     },
     "execution_count": 78,
     "metadata": {},
     "output_type": "execute_result"
    }
   ],
   "source": [
    "GM::GrowthModel\n",
    "a,b,gamma,sigma,d = GM.alpha, GM.beta, GM.gamma, GM.sigma, GM.delta\n",
    "\n",
    "nshocks = 3\n",
    "e,w = qnwlogn(nshocks,-(sigma^2)/2,sigma^2)\n",
    "\n",
    "A = [b*estar*(xstar) gamma*xstar+(1+b)*estar*(xstar^b)+gamma;\n",
    "     0                 1]\n",
    "B = [-(b*estar*(xstar));\n",
    "     0]\n",
    "C = zeros(2,1)\n",
    "\n",
    "R = zeros(2,2)\n",
    "Q = -1/2*a*((sstar -xstar)^(-a-1))\n",
    "\n",
    "lq = LQ(Q,R,A,B,C; bet=d)\n",
    "\n",
    "x0 = [5.0;1.0]\n",
    "\n",
    "slq,xlq = compute_sequence(lq, x0)"
   ]
  },
  {
   "cell_type": "code",
   "execution_count": 82,
   "metadata": {},
   "outputs": [
    {
     "data": {
      "text/plain": [
       "2×101 Array{Float64,2}:\n",
       " 5.0  23.5247  75.4809  221.203  …  8.02325e44  2.25029e45  6.3114e45\n",
       " 1.0   1.0      1.0       1.0       1.0         1.0         1.0      "
      ]
     },
     "execution_count": 82,
     "metadata": {},
     "output_type": "execute_result"
    }
   ],
   "source": [
    "slq"
   ]
  },
  {
   "cell_type": "markdown",
   "metadata": {},
   "source": [
    "dpsimulの実装"
   ]
  },
  {
   "cell_type": "code",
   "execution_count": 18,
   "metadata": {},
   "outputs": [
    {
     "data": {
      "text/plain": [
       "GM_dpsimul (generic function with 1 method)"
      ]
     },
     "execution_count": 18,
     "metadata": {},
     "output_type": "execute_result"
    }
   ],
   "source": [
    "function GM_dpsimul(GM::GrowthModel,sinit,nyrs,sres,xres)\n",
    "    a,b,g,sigma,d = GM.alpha, GM.beta, GM.gamma, GM.sigma, GM.delta\n",
    "\n",
    "    nrep = length(sinit) #npath\n",
    "    nshocks = 3\n",
    "    e,w = qnwlogn(nshocks,-(sigma^2)/2,sigma^2)\n",
    "    ssim = zeros(nrep,nyrs+1)\n",
    "    xsim = zeros(nrep,nyrs+1)\n",
    "    \n",
    "    trans(x) = (g*x) + dot(e*(x^b),w) #state transition function\n",
    "        \n",
    "    for t in 1:nyrs+1\n",
    "        li = LinInterp(sres, xres)\n",
    "        xx = Vector{Float64}(length(sinit))\n",
    "        for i in 1:length(sinit)\n",
    "            xx[i]=li(sinit[i])\n",
    "        end\n",
    "        ssim[:,t] = sinit\n",
    "        xsim[:,t]= xx\n",
    "        for i in 1:length(sinit) -1\n",
    "            sinit[i+1] = trans(xx[i])\n",
    "        end\n",
    "    end\n",
    "        \n",
    "    return ssim,xsim\n",
    "end"
   ]
  },
  {
   "cell_type": "code",
   "execution_count": 19,
   "metadata": {
    "collapsed": true,
    "scrolled": true
   },
   "outputs": [],
   "source": [
    "nyrs = 20\n",
    "npath = 2000\n",
    "sinit = 5*ones(npath,1) \n",
    "\n",
    "spath,xpath = GM_dpsimul(GM,sinit,nyrs,snodes[1],x_opt);"
   ]
  },
  {
   "cell_type": "code",
   "execution_count": 20,
   "metadata": {
    "collapsed": true
   },
   "outputs": [],
   "source": [
    "spath_x = spath[end,:];"
   ]
  },
  {
   "cell_type": "code",
   "execution_count": 21,
   "metadata": {
    "scrolled": true
   },
   "outputs": [
    {
     "data": {
      "text/html": [
       "<img src=\"data:image/png;base64,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\" />"
      ]
     },
     "execution_count": 21,
     "metadata": {},
     "output_type": "execute_result"
    }
   ],
   "source": [
    "plot(spath_x,xlim=(1,21),ylim = (5,7.5))"
   ]
  },
  {
   "cell_type": "code",
   "execution_count": null,
   "metadata": {
    "collapsed": true
   },
   "outputs": [],
   "source": [
    "function dpstst(GM::GrowthModel,nsmooth,nnodes,scoord,x)\n",
    "    smin = scoord[1]\n",
    "    smax = scoord[end]\n",
    "    swid = (smax - smin)/nnodes\n",
    "    smid = linspace(smin+swid/2,smax-swid/2,nnodes)\n",
    "    xmid = Array{Float64}(length(smid))\n",
    "    nshocks = 3\n",
    "    e,w = qnwlogn(nshocks,-(sigma^2)/2,sigma^2)\n",
    "    \n",
    "    trans(x) = (g*x) + dot(e*(x^b),w) #state transition function\n",
    "    \n",
    "    m = length(w)\n",
    "    q = ones(size(smid))\n",
    "    for t in 1:nsmooth\n",
    "        li = LinInterp(scoord,x)\n",
    "        for i in 1:length(smid)\n",
    "            xmid[i] = li(smid[i])\n",
    "            smid[i] = trans(xmid[i])\n",
    "        end"
   ]
  }
 ],
 "metadata": {
  "kernelspec": {
   "display_name": "Julia 0.6.0",
   "language": "julia",
   "name": "julia-0.6"
  },
  "language_info": {
   "file_extension": ".jl",
   "mimetype": "application/julia",
   "name": "julia",
   "version": "0.6.0"
  }
 },
 "nbformat": 4,
 "nbformat_minor": 2
}
