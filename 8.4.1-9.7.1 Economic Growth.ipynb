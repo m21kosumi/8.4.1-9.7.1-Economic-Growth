{
 "cells": [
  {
   "cell_type": "markdown",
   "metadata": {},
   "source": [
    "# Economic Growth"
   ]
  },
  {
   "cell_type": "markdown",
   "metadata": {},
   "source": [
    "# 8.4.1 モデルについて"
   ]
  },
  {
   "cell_type": "markdown",
   "metadata": {},
   "source": [
    "あるcomposite goodを生産し、消費する経済を考える.\n",
    "\n",
    "・毎年、財は数量$s$で始まり、うち$x$が投資に、残り$(s-x)$が消費に充てられる.\n",
    "\n",
    "・また、social benefitとして$u(s-x)$が生じる.\n",
    "\n",
    "・毎年はじめに利用できる財の量はcontinuous-valued Markov processによって以下のようにコントロールされる\n",
    "\n",
    "$$s_{t+1} = \\gamma x_t + \\epsilon_{t+1}h(x_t)$$\n",
    "\n",
    "・$\\gamma$はcapital survival rate(1-減価償却率)、$h$は総生産関数、$\\epsilon$は正の生産ショック(平均が1)を表す.\n",
    "\n",
    "ここでは、現在、そして将来にわたるsocial benefitの総和を最大化するような消費と投資のpolicyについて考える."
   ]
  },
  {
   "cell_type": "markdown",
   "metadata": {},
   "source": [
    "・このモデルはinfinite horizonである.$ｘ$は投資量を決定するアクションである.\n",
    "\n",
    "$$s\\in[0,\\infty), x\\in[0,s]$$\n",
    "\n",
    "・状態遷移関数(state transition function)は次のように表される.\n",
    "\n",
    "$$g(s,x,\\epsilon)=\\gamma x + \\epsilon h(x)$$\n",
    "\n",
    "・reward functionは次のように表される.\n",
    "\n",
    "$$f(s,x)=u(s-x)$$"
   ]
  },
  {
   "cell_type": "markdown",
   "metadata": {},
   "source": [
    "ストック$s$が与えられたとき、現在と将来のsocial benefitの和はBellman equationを満たす.\n",
    "\n",
    "$$V(s)=\\max_{0\\leq x \\leq s}\\{u(s-x) + \\delta E_\\epsilon V(\\gamma x +\\epsilon h(x))\\}$$"
   ]
  },
  {
   "cell_type": "markdown",
   "metadata": {},
   "source": [
    "$u'(0)=\\infty$と$h(0)=0$を仮定すると、最適条件ではconstraintsは拘束力を持たない"
   ]
  },
  {
   "cell_type": "code",
   "execution_count": 1,
   "metadata": {
    "collapsed": true,
    "scrolled": true
   },
   "outputs": [],
   "source": [
    "using QuantEcon\n",
    "using BasisMatrices\n",
    "using Optim"
   ]
  },
  {
   "cell_type": "code",
   "execution_count": 2,
   "metadata": {
    "collapsed": true,
    "scrolled": false
   },
   "outputs": [],
   "source": [
    "using Interpolations"
   ]
  },
  {
   "cell_type": "code",
   "execution_count": 3,
   "metadata": {
    "collapsed": true,
    "scrolled": false
   },
   "outputs": [],
   "source": [
    "using Plots"
   ]
  },
  {
   "cell_type": "code",
   "execution_count": 4,
   "metadata": {
    "collapsed": true
   },
   "outputs": [],
   "source": [
    "struct GrowthModel\n",
    "    alpha::Float64\n",
    "    beta::Float64\n",
    "    gamma::Float64\n",
    "    sigma::Float64\n",
    "    delta::Float64 #discount factor\n",
    "    s_vec::Vector{Float64}\n",
    "end"
   ]
  },
  {
   "cell_type": "code",
   "execution_count": 5,
   "metadata": {
    "collapsed": true
   },
   "outputs": [],
   "source": [
    "n = 500 #ここを大きくするとdpsimulのspathが7.5に近づく\n",
    "smin = 0\n",
    "smax = 10\n",
    "fspace = Basis(ChebParams(n, smin, smax))\n",
    "\n",
    "snodes = nodes(fspace);"
   ]
  },
  {
   "cell_type": "code",
   "execution_count": 6,
   "metadata": {
    "scrolled": false
   },
   "outputs": [
    {
     "data": {
      "text/plain": [
       "GrowthModel(0.2, 0.5, 0.9, 0.1, 0.9, [2.4674e-5, 0.000222064, 0.000616838, 0.00120898, 0.00199846, 0.00298526, 0.00416933, 0.00555063, 0.00712909, 0.00890467  …  9.9911, 9.99287, 9.99445, 9.99583, 9.99701, 9.998, 9.99879, 9.99938, 9.99978, 9.99998])"
      ]
     },
     "execution_count": 6,
     "metadata": {},
     "output_type": "execute_result"
    }
   ],
   "source": [
    "GM = GrowthModel(0.2, 0.5, 0.9,0.1,0.9, snodes[1])"
   ]
  },
  {
   "cell_type": "code",
   "execution_count": 7,
   "metadata": {},
   "outputs": [
    {
     "data": {
      "text/plain": [
       "update_bellman! (generic function with 1 method)"
      ]
     },
     "execution_count": 7,
     "metadata": {},
     "output_type": "execute_result"
    }
   ],
   "source": [
    "function update_bellman!(GM::GrowthModel,V::Vector)\n",
    "    a,b,g,sigma,d = GM.alpha, GM.beta, GM.gamma, GM.sigma, GM.delta\n",
    "    V_func = LinInterp(GM.s_vec, V)\n",
    "    V_new = similar(V)\n",
    "    x_opt = similar(V)\n",
    "    \n",
    "    nshocks = 3\n",
    "    e,w = qnwlogn(nshocks,-(sigma^2)/2,sigma^2)\n",
    "    \n",
    "    for (s_idx,s) in enumerate(GM.s_vec)\n",
    "        objective(x) = -(((s - x)^(1 - a)/(1 - a)) + d * dot(V_func.(g*x + e*(x^b)), w))\n",
    "        opt = optimize(objective, 1e-10, s)\n",
    "        V_new[s_idx] = - opt.minimum\n",
    "        x_opt[s_idx] = opt.minimizer\n",
    "    end\n",
    "    return V_new,x_opt\n",
    "end"
   ]
  },
  {
   "cell_type": "code",
   "execution_count": 8,
   "metadata": {
    "collapsed": true,
    "scrolled": false
   },
   "outputs": [],
   "source": [
    "V = Vector{Float64}(length(GM.s_vec))\n",
    "for i in 1:length(GM.s_vec)\n",
    "V[i] = 5\n",
    "end"
   ]
  },
  {
   "cell_type": "code",
   "execution_count": 9,
   "metadata": {
    "collapsed": true
   },
   "outputs": [],
   "source": [
    "n = 500\n",
    "V_computed = similar(V)\n",
    "x_opt = similar(V)\n",
    "resid1 = Vector{Float64}(n)\n",
    "\n",
    "for i in 1:n\n",
    "    V_func =  LinInterp(snodes[1], V)\n",
    "    V_computed, x_opt = update_bellman!(GM,V)\n",
    "    for j in 1:length(V_computed)\n",
    "        resid1[j] =  V_computed[j] - V[j]\n",
    "    end\n",
    "    copy!(V, V_computed)\n",
    "end"
   ]
  },
  {
   "cell_type": "code",
   "execution_count": 10,
   "metadata": {
    "scrolled": false
   },
   "outputs": [
    {
     "data": {
      "text/html": [
       "<img src=\"data:image/png;base64,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\" />"
      ]
     },
     "execution_count": 10,
     "metadata": {},
     "output_type": "execute_result"
    }
   ],
   "source": [
    "x_per = similar(V)\n",
    "for i in 1:length(x_per)\n",
    "    x_per[i] = x_opt[i] / GM.s_vec[i]\n",
    "end\n",
    "\n",
    "plot(GM.s_vec, x_per,xlim=(5,10),ylim=(0.65,0.9))"
   ]
  },
  {
   "cell_type": "code",
   "execution_count": 11,
   "metadata": {
    "scrolled": false
   },
   "outputs": [
    {
     "data": {
      "text/html": [
       "<img src=\"data:image/png;base64,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\" />"
      ]
     },
     "execution_count": 11,
     "metadata": {},
     "output_type": "execute_result"
    }
   ],
   "source": [
    "plot(resid1)"
   ]
  },
  {
   "cell_type": "markdown",
   "metadata": {
    "collapsed": true
   },
   "source": [
    "LQapprox部分の実装"
   ]
  },
  {
   "cell_type": "markdown",
   "metadata": {},
   "source": [
    "方法１"
   ]
  },
  {
   "cell_type": "code",
   "execution_count": 12,
   "metadata": {
    "scrolled": false
   },
   "outputs": [
    {
     "data": {
      "text/plain": [
       "([0.0 -2.84217e-14; 0.0 -51.2464], [-1.0 9.0374], 0.0)"
      ]
     },
     "execution_count": 12,
     "metadata": {},
     "output_type": "execute_result"
    }
   ],
   "source": [
    "GM::GrowthModel\n",
    "a,b,gamma,sigma,d = GM.alpha, GM.beta, GM.gamma, GM.sigma, GM.delta\n",
    "\n",
    "estar = 1 #教科書訂正\n",
    "xstar = ((1 - d*gamma)/(d*b))^(1/(b - 1))\n",
    "sstar = gamma*xstar + xstar^b\n",
    "cstar = sstar - xstar\n",
    "\n",
    "gx = gamma+b*((xstar)^(b-1))\n",
    "f = (cstar^(-a))/(1-a)\n",
    "fs = cstar^(-a)\n",
    "fss = -a*(cstar^(-a-1))\n",
    "\n",
    "A = [0 gamma*xstar+(xstar^b)-sstar;\n",
    "     0                 1]\n",
    "B = [gx;\n",
    "     0]\n",
    "C = zeros(2,1)\n",
    "\n",
    "R = [-1/2*fss -1/2*fs;\n",
    "     -1/2*fs  -f]\n",
    "Q = -1/2*fss\n",
    "N = [1/2*fss 1/2*fs]\n",
    "\n",
    "lq = LQ(Q,R,A,B,C,N; bet=d)\n",
    "\n",
    "P, F, d =  stationary_values(lq)"
   ]
  },
  {
   "cell_type": "markdown",
   "metadata": {},
   "source": [
    "方法２:transition functionをreward functionに入れ込む"
   ]
  },
  {
   "cell_type": "code",
   "execution_count": 13,
   "metadata": {},
   "outputs": [
    {
     "data": {
      "text/plain": [
       "([0.0209329 -0.200212; -0.200212 -7.38542], [-0.560922 9.80736], 0.0)"
      ]
     },
     "execution_count": 13,
     "metadata": {},
     "output_type": "execute_result"
    }
   ],
   "source": [
    "GM::GrowthModel\n",
    "a,b,gamma,sigma,d = GM.alpha, GM.beta, GM.gamma, GM.sigma, GM.delta\n",
    "\n",
    "estar = 1 #教科書訂正\n",
    "xstar = ((1 - d*gamma)/(d*b))^(1/(b - 1))\n",
    "sstar = gamma*xstar + xstar^b\n",
    "cstar = sstar - xstar\n",
    "\n",
    "m1 = gamma*sstar + sstar^b -xstar\n",
    "m2 = gamma+b*(sstar)^(b-1)\n",
    "\n",
    "u = (m1^(1-a))/(1-a)\n",
    "us = (m1^(-a))*m2\n",
    "ux = -(m1^(-a))\n",
    "uss = m1^(-a)*(b-1)*sstar^(b-2) + m2^2*(-a)*m1^(-a-1)\n",
    "uxx = -a*(m1^(-a-1))\n",
    "usx = a*(m1^(-a-1))*m2\n",
    "\n",
    "A = zeros(2,2)\n",
    "B = [1;\n",
    "     0]\n",
    "C = zeros(2,1)\n",
    "\n",
    "R = [-1/2*uss -1/2*us;\n",
    "     -1/2*us -u]\n",
    "Q = -1/2*uxx\n",
    "\n",
    "N = [-1/2*usx -1/2*ux]\n",
    "\n",
    "lq = LQ(Q,R,A,B,C,N; bet=d)\n",
    "\n",
    "P, F, d =  stationary_values(lq)"
   ]
  },
  {
   "cell_type": "code",
   "execution_count": 14,
   "metadata": {
    "scrolled": false
   },
   "outputs": [
    {
     "data": {
      "text/plain": [
       "([5.0 -7.00275 … -1.72873e-24 -9.69682e-25; 1.0 0.0 … 0.0 0.0], [-7.00275 -3.928 … -1.72873e-24 -9.69682e-25], [0.0 0.0 … 0.0 0.0; 0.0 0.0 … 0.0 0.0])"
      ]
     },
     "execution_count": 14,
     "metadata": {},
     "output_type": "execute_result"
    }
   ],
   "source": [
    "s0 = [5.0;1.0]\n",
    "s_path,x_path = compute_sequence(lq,s0)"
   ]
  },
  {
   "cell_type": "code",
   "execution_count": 15,
   "metadata": {
    "scrolled": true
   },
   "outputs": [
    {
     "data": {
      "text/plain": [
       "2×101 Array{Float64,2}:\n",
       " 5.0  -7.00275  -3.928  -2.2033  -1.23588  …  -1.72873e-24  -9.69682e-25\n",
       " 1.0   0.0       0.0     0.0      0.0          0.0           0.0        "
      ]
     },
     "execution_count": 15,
     "metadata": {},
     "output_type": "execute_result"
    }
   ],
   "source": [
    "s_path"
   ]
  },
  {
   "cell_type": "code",
   "execution_count": 16,
   "metadata": {
    "scrolled": true
   },
   "outputs": [
    {
     "data": {
      "text/plain": [
       "1×100 Array{Float64,2}:\n",
       " 7.00275  3.928  2.2033  1.23588  0.693233  …  1.72873e-24  9.69682e-25"
      ]
     },
     "execution_count": 16,
     "metadata": {},
     "output_type": "execute_result"
    }
   ],
   "source": [
    "-x_path"
   ]
  },
  {
   "cell_type": "code",
   "execution_count": 17,
   "metadata": {
    "collapsed": true,
    "scrolled": true
   },
   "outputs": [],
   "source": [
    "slq = reshape(x_path,100,1);"
   ]
  },
  {
   "cell_type": "code",
   "execution_count": 18,
   "metadata": {
    "scrolled": false
   },
   "outputs": [
    {
     "data": {
      "text/html": [
       "<img src=\"data:image/png;base64,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\" />"
      ]
     },
     "execution_count": 18,
     "metadata": {},
     "output_type": "execute_result"
    }
   ],
   "source": [
    "plot(slq)"
   ]
  },
  {
   "cell_type": "markdown",
   "metadata": {},
   "source": [
    "LQ Approximation with QuantEcon.jlより、`approx_lq`を以下のように設定する。"
   ]
  },
  {
   "cell_type": "code",
   "execution_count": 19,
   "metadata": {},
   "outputs": [
    {
     "data": {
      "text/plain": [
       "approx_lq (generic function with 1 method)"
      ]
     },
     "execution_count": 19,
     "metadata": {},
     "output_type": "execute_result"
    }
   ],
   "source": [
    "function approx_lq(s_star, x_star, f_star, Df_star, DDf_star, g_star, Dg_star, discount)\n",
    "    n = 2  # Dim of state variable (1, s)\n",
    "    k = 1  # Dim of control variable x\n",
    "    sx_star = [s_star, x_star]\n",
    "    \n",
    "    # (1, s)' R (1, s) + 2 x N (1, s) + x Q x\n",
    "    Q = Array{Float64}(k, k)\n",
    "    R = Array{Float64}(n, n)\n",
    "    N = Array{Float64}(k, n)\n",
    "    R[1, 1] = -(f_star - Df_star' * sx_star + (sx_star' * DDf_star * sx_star) / 2)\n",
    "    R[2, 2], N[1, 2], N[1, 2], Q[1, 1] = -DDf_star / 2\n",
    "    R[2, 1], N[1, 1] = -(Df_star - DDf_star * sx_star) / 2\n",
    "    R[1, 2] = R[2, 1]\n",
    "    \n",
    "    # A (1, s) + B x + C w\n",
    "    A = Array{Float64}(n, n)\n",
    "    B = Array{Float64}(n, k)\n",
    "    C = zeros(n, 1)\n",
    "    A[1, 1], A[1, 2], B[1, 1] = 1, 0, 0\n",
    "    A[2, 1] = g_star - Dg_star' * sx_star\n",
    "    A[2, 2], B[2, 1] = Dg_star\n",
    "    \n",
    "    lq = LQ(Q, R, A, B, C, N, bet=discount)\n",
    "    return lq\n",
    "end"
   ]
  },
  {
   "cell_type": "markdown",
   "metadata": {},
   "source": [
    "xstar,sstarについてreward function,state transition functionを展開し、以下のように設定する。"
   ]
  },
  {
   "cell_type": "code",
   "execution_count": 20,
   "metadata": {
    "collapsed": true
   },
   "outputs": [],
   "source": [
    "\n",
    "GM::GrowthModel\n",
    "a,b,gamma,sigma,d = GM.alpha, GM.beta, GM.gamma, GM.sigma, GM.delta\n",
    "\n",
    "x_star = ((1 - d*gamma)/(d*b))^(1/(b - 1))\n",
    "s_star = gamma*x_star + x_star^b\n",
    "\n",
    "\n",
    "f_star = (s_star-x_star)^(1-a)/(1-a)\n",
    "Df_star = [(s_star-x_star)^(-a), -(s_star-x_star)^(-a)]\n",
    "DDf_star = [(-a)*(s_star-x_star)^(-a-1) a*(s_star-x_star)^(-a-1);\n",
    "            a*(s_star-x_star)^(-a-1) a*(s_star-x_star)^(-a-1)]\n",
    "g_star = gamma*x_star + x_star^b\n",
    "Dg_star = [0, gamma+b*x_star^(b-1)]\n",
    "discount = d;"
   ]
  },
  {
   "cell_type": "code",
   "execution_count": 21,
   "metadata": {
    "scrolled": false
   },
   "outputs": [
    {
     "data": {
      "text/html": [
       "7.416897506925212"
      ],
      "text/plain": [
       "7.416897506925212"
      ]
     },
     "execution_count": 21,
     "metadata": {},
     "output_type": "execute_result"
    }
   ],
   "source": [
    "s_star"
   ]
  },
  {
   "cell_type": "code",
   "execution_count": 22,
   "metadata": {},
   "outputs": [
    {
     "data": {
      "text/html": [
       "2.0070983979777237"
      ],
      "text/plain": [
       "2.0070983979777237"
      ]
     },
     "execution_count": 22,
     "metadata": {},
     "output_type": "execute_result"
    }
   ],
   "source": [
    "f_star"
   ]
  },
  {
   "cell_type": "code",
   "execution_count": 23,
   "metadata": {
    "scrolled": false
   },
   "outputs": [
    {
     "data": {
      "text/plain": [
       "QuantEcon.LQ([-0.0491487], [-3.33384 -0.533012; -0.533012 0.0491487], [1.0 0.0; 1.18421 0.0], [0.0; 1.11111], [0.0; 0.0], [1.0844 -0.0491487], 0.9, nothing, [NaN NaN; NaN NaN], [NaN NaN; NaN NaN], 0.0, [0.0 0.0])"
      ]
     },
     "execution_count": 23,
     "metadata": {},
     "output_type": "execute_result"
    }
   ],
   "source": [
    "q = approx_lq(s_star, x_star, f_star, Df_star, DDf_star, g_star, Dg_star, discount)"
   ]
  },
  {
   "cell_type": "code",
   "execution_count": 24,
   "metadata": {
    "scrolled": false
   },
   "outputs": [
    {
     "data": {
      "text/plain": [
       "([0.0209329 -0.200212; -0.200212 -7.38542], [-0.560922 9.80736], 0.0)"
      ]
     },
     "execution_count": 24,
     "metadata": {},
     "output_type": "execute_result"
    }
   ],
   "source": [
    "P, F, d = stationary_values(lq)"
   ]
  },
  {
   "cell_type": "markdown",
   "metadata": {},
   "source": [
    "`compute_sequence`を用いてs_pathを導出する。"
   ]
  },
  {
   "cell_type": "code",
   "execution_count": 25,
   "metadata": {},
   "outputs": [
    {
     "data": {
      "text/plain": [
       "([5.0 -7.00275 … -1.04293e-74 -5.85e-75; 1.0 0.0 … 0.0 0.0], [-7.00275 -3.928 … -1.04293e-74 -5.85e-75], [0.0 0.0 … 0.0 0.0; 0.0 0.0 … 0.0 0.0])"
      ]
     },
     "execution_count": 25,
     "metadata": {},
     "output_type": "execute_result"
    }
   ],
   "source": [
    "ts_length = 300\n",
    "s0 = [5.0,1.0]\n",
    "s_path,x_path = compute_sequence(lq,s0, ts_length)"
   ]
  },
  {
   "cell_type": "code",
   "execution_count": 26,
   "metadata": {
    "scrolled": true
   },
   "outputs": [
    {
     "data": {
      "text/plain": [
       "2×301 Array{Float64,2}:\n",
       " 5.0  -7.00275  -3.928  -2.2033  -1.23588  …  -1.04293e-74  -5.85e-75\n",
       " 1.0   0.0       0.0     0.0      0.0          0.0           0.0     "
      ]
     },
     "execution_count": 26,
     "metadata": {},
     "output_type": "execute_result"
    }
   ],
   "source": [
    "s_path"
   ]
  },
  {
   "cell_type": "code",
   "execution_count": 27,
   "metadata": {
    "scrolled": true
   },
   "outputs": [
    {
     "data": {
      "text/html": [
       "<img src=\"data:image/png;base64,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\" />"
      ]
     },
     "execution_count": 27,
     "metadata": {},
     "output_type": "execute_result"
    }
   ],
   "source": [
    "plot(-s_path[1, :],xlim=(5,10))"
   ]
  },
  {
   "cell_type": "markdown",
   "metadata": {},
   "source": [
    "今までよりはまともな図が出たように見える。\n",
    "次にvalueを導出する。"
   ]
  },
  {
   "cell_type": "code",
   "execution_count": 28,
   "metadata": {
    "scrolled": false
   },
   "outputs": [
    {
     "data": {
      "text/plain": [
       "Vlq (generic function with 1 method)"
      ]
     },
     "execution_count": 28,
     "metadata": {},
     "output_type": "execute_result"
    }
   ],
   "source": [
    "Vlq(s) = [1, s]' * P * [1, s] + d"
   ]
  },
  {
   "cell_type": "code",
   "execution_count": 29,
   "metadata": {
    "scrolled": true
   },
   "outputs": [
    {
     "data": {
      "text/html": [
       "-409.223659328857"
      ],
      "text/plain": [
       "-409.223659328857"
      ]
     },
     "execution_count": 29,
     "metadata": {},
     "output_type": "execute_result"
    }
   ],
   "source": [
    "Vlq(s_star)"
   ]
  },
  {
   "cell_type": "markdown",
   "metadata": {},
   "source": [
    "s_starに対してのVlqが妙に大きい。先に`stationary_values`で求めたPに問題がある？\n",
    "\n",
    "\n",
    "とりあえずこのまま教科書通りに投資量(x)/資本(s)のグラフを描画する。"
   ]
  },
  {
   "cell_type": "code",
   "execution_count": 30,
   "metadata": {
    "scrolled": true
   },
   "outputs": [
    {
     "data": {
      "text/plain": [
       "X (generic function with 1 method)"
      ]
     },
     "execution_count": 30,
     "metadata": {},
     "output_type": "execute_result"
    }
   ],
   "source": [
    "X(s) = (- F * [1, s])[1]"
   ]
  },
  {
   "cell_type": "code",
   "execution_count": 31,
   "metadata": {
    "scrolled": true
   },
   "outputs": [
    {
     "data": {
      "text/html": [
       "-68.09059387873502"
      ],
      "text/plain": [
       "-68.09059387873502"
      ]
     },
     "execution_count": 31,
     "metadata": {},
     "output_type": "execute_result"
    }
   ],
   "source": [
    "X(7)"
   ]
  },
  {
   "cell_type": "code",
   "execution_count": 32,
   "metadata": {
    "scrolled": false
   },
   "outputs": [
    {
     "data": {
      "text/html": [
       "<img src=\"data:image/png;base64,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\" />"
      ]
     },
     "execution_count": 32,
     "metadata": {},
     "output_type": "execute_result"
    }
   ],
   "source": [
    "ss = linspace(5, 10, 100)\n",
    "plot(ss, X.(ss)./ss, title=\"Optimal value function by LQ\")"
   ]
  },
  {
   "cell_type": "markdown",
   "metadata": {},
   "source": [
    "投資量が多すぎる…。"
   ]
  },
  {
   "cell_type": "markdown",
   "metadata": {},
   "source": [
    "次に、value function iterationを試してみる。"
   ]
  },
  {
   "cell_type": "code",
   "execution_count": 33,
   "metadata": {},
   "outputs": [
    {
     "data": {
      "text/plain": [
       "riccati_rhs (generic function with 2 methods)"
      ]
     },
     "execution_count": 33,
     "metadata": {},
     "output_type": "execute_result"
    }
   ],
   "source": [
    "function riccati_rhs(P, lq)\n",
    "    Q, R, A, B, N, bet = lq.Q, lq.R, lq.A, lq.B, lq.N, lq.bet\n",
    "    A0, B0 = sqrt(bet) * A, sqrt(bet) * B\n",
    "    out = R - (B0' * P * A0 + N)' * inv(Q + B0' * P * B0) *\n",
    "        (B0' * P * A0 + N) + A0' * P * A0\n",
    "    return out\n",
    "end\n",
    "\n",
    "riccati_rhs(P) = riccati_rhs(P, lq)"
   ]
  },
  {
   "cell_type": "code",
   "execution_count": 34,
   "metadata": {},
   "outputs": [
    {
     "data": {
      "text/plain": [
       "compute_F (generic function with 1 method)"
      ]
     },
     "execution_count": 34,
     "metadata": {},
     "output_type": "execute_result"
    }
   ],
   "source": [
    "function compute_F(P, lq)\n",
    "    s1 = lq.Q + lq.bet * (lq.B' * P * lq.B)\n",
    "    s2 = lq.bet * (lq.B' * P * lq.A) + lq.N\n",
    "    F = s1 \\ s2\n",
    "    return F\n",
    "end"
   ]
  },
  {
   "cell_type": "code",
   "execution_count": 35,
   "metadata": {},
   "outputs": [
    {
     "name": "stdout",
     "output_type": "stream",
     "text": [
      "Converged in 30 steps\n"
     ]
    },
    {
     "data": {
      "text/plain": [
       "2×2 Array{Float64,2}:\n",
       "  0.0209329  -0.200212\n",
       " -0.200212   -7.38542 "
      ]
     },
     "execution_count": 35,
     "metadata": {},
     "output_type": "execute_result"
    }
   ],
   "source": [
    "max_iter = 500\n",
    "err_tol = 1e-15\n",
    "P_init = [1.0 2;\n",
    "          3 4]\n",
    "P_vi = compute_fixed_point(riccati_rhs, P_init, max_iter=max_iter,\n",
    "                           verbose=2, print_skip=50, err_tol=err_tol)"
   ]
  },
  {
   "cell_type": "markdown",
   "metadata": {},
   "source": [
    "Pは先ほどと変わらず、P_initを変更しても変化なし。\n",
    "\n",
    "ステップ数が妙に少ないのが原因？"
   ]
  },
  {
   "cell_type": "markdown",
   "metadata": {},
   "source": [
    "dpsimulの実装"
   ]
  },
  {
   "cell_type": "code",
   "execution_count": 36,
   "metadata": {},
   "outputs": [
    {
     "data": {
      "text/plain": [
       "GM_dpsimul (generic function with 1 method)"
      ]
     },
     "execution_count": 36,
     "metadata": {},
     "output_type": "execute_result"
    }
   ],
   "source": [
    "function GM_dpsimul(GM::GrowthModel,sinit,nyrs,sres,xres)\n",
    "    a,b,g,sigma,d = GM.alpha, GM.beta, GM.gamma, GM.sigma, GM.delta\n",
    "\n",
    "    nrep = length(sinit) #npath\n",
    "    nshocks = 3\n",
    "    e,w = qnwlogn(nshocks,-(sigma^2)/2,sigma^2)\n",
    "    ssim = zeros(nrep,nyrs+1)\n",
    "    xsim = zeros(nrep,nyrs+1)\n",
    "    \n",
    "    rv = DiscreteRV(w)\n",
    "    trans(x) = (g*x) + e[rand(rv)]*x^b #state transition function\n",
    "        \n",
    "    for t in 1:nyrs+1\n",
    "        li = LinInterp(sres, xres)\n",
    "        xx = Vector{Float64}(length(sinit))\n",
    "        for i in 1:length(sinit)\n",
    "            xx[i]=li(sinit[i])\n",
    "        end\n",
    "        ssim[:,t] = sinit\n",
    "        xsim[:,t]= xx\n",
    "        for i in 1:length(sinit) -1\n",
    "            sinit[i+1] = trans(xx[i])\n",
    "        end\n",
    "    end\n",
    "        \n",
    "    return ssim,xsim\n",
    "end"
   ]
  },
  {
   "cell_type": "code",
   "execution_count": 37,
   "metadata": {
    "scrolled": true
   },
   "outputs": [
    {
     "data": {
      "text/plain": [
       "5-element Array{Float64,1}:\n",
       " 0.995012\n",
       " 0.836771\n",
       " 0.995012\n",
       " 0.995012\n",
       " 1.18318 "
      ]
     },
     "execution_count": 37,
     "metadata": {},
     "output_type": "execute_result"
    }
   ],
   "source": [
    "nshocks = 3\n",
    "e,w = qnwlogn(nshocks,-(sigma^2)/2,sigma^2)\n",
    "d = DiscreteRV(w);\n",
    "\n",
    "e[rand(d, 5)]"
   ]
  },
  {
   "cell_type": "code",
   "execution_count": 38,
   "metadata": {
    "scrolled": true
   },
   "outputs": [],
   "source": [
    "nyrs = 20\n",
    "npath = 2000\n",
    "sinit = 5*ones(npath,1) \n",
    "\n",
    "spath,xpath = GM_dpsimul(GM,sinit,nyrs,snodes[1],x_opt);"
   ]
  },
  {
   "cell_type": "code",
   "execution_count": 39,
   "metadata": {},
   "outputs": [
    {
     "data": {
      "text/plain": [
       "21-element Array{Float64,1}:\n",
       " 5.0    \n",
       " 5.60056\n",
       " 6.06433\n",
       " 6.41118\n",
       " 6.68572\n",
       " 6.88189\n",
       " 7.02402\n",
       " 7.13094\n",
       " 7.21008\n",
       " 7.26494\n",
       " 7.29836\n",
       " 7.32986\n",
       " 7.34923\n",
       " 7.36797\n",
       " 7.38488\n",
       " 7.39418\n",
       " 7.39084\n",
       " 7.39763\n",
       " 7.40521\n",
       " 7.39678\n",
       " 7.40227"
      ]
     },
     "execution_count": 39,
     "metadata": {},
     "output_type": "execute_result"
    }
   ],
   "source": [
    "spath_x = vec(mean(spath,1))"
   ]
  },
  {
   "cell_type": "code",
   "execution_count": 40,
   "metadata": {
    "scrolled": false
   },
   "outputs": [
    {
     "data": {
      "text/html": [
       "<img src=\"data:image/png;base64,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\" />"
      ]
     },
     "execution_count": 40,
     "metadata": {},
     "output_type": "execute_result"
    }
   ],
   "source": [
    "plot(spath_x,ylim=(5.0,7.5))"
   ]
  },
  {
   "cell_type": "markdown",
   "metadata": {},
   "source": [
    "dpststの実装"
   ]
  },
  {
   "cell_type": "code",
   "execution_count": 41,
   "metadata": {},
   "outputs": [
    {
     "data": {
      "text/plain": [
       "dpstst (generic function with 1 method)"
      ]
     },
     "execution_count": 41,
     "metadata": {},
     "output_type": "execute_result"
    }
   ],
   "source": [
    "function dpstst(GM::GrowthModel,nsmooth,nnodes,scoord,x)\n",
    "    a,b,g,sigma,d = GM.alpha, GM.beta, GM.gamma, GM.sigma, GM.delta\n",
    "    smin = scoord[1]\n",
    "    smax = scoord[end]\n",
    "    swid = (smax - smin)/nnodes\n",
    "    smid = linspace(smin+swid/2,smax-swid/2,nnodes) \n",
    "    nshocks = 3\n",
    "    e,w = qnwlogn(nshocks,-(sigma^2)/2,sigma^2)\n",
    "    \n",
    "    m = length(w)\n",
    "    ss = gridmake(smid)\n",
    "    xx = similar(ss)\n",
    "    q = ones(length(ss))\n",
    "    for t in 1:nsmooth\n",
    "        li = LinInterp(scoord,x)\n",
    "        for k in 1:length(ss)\n",
    "            xx[k] = li(ss[k])\n",
    "        end\n",
    "        ss,xx,ee = gridmake([ss,xx],e)\n",
    "        for r in 1:length(ss)\n",
    "            ss[r] = g*xx[r] + xx[r]^b\n",
    "        end\n",
    "        for l in 1:length(ss)\n",
    "            @show q\n",
    "            @show w\n",
    "            @show q[l]\n",
    "            q[l] = q[l]*w' #?\n",
    "        end\n",
    "    end\n",
    "    nobs = m^nsmooth\n",
    "    ss = reshape(ss,nnodes,nobs)\n",
    "    q = reshape(q,nnodes,nobs)\n",
    "        \n",
    "    p = zeros(nnodes,nnodes)\n",
    "    for j in 1:nobs\n",
    "        i = ceil((ss[:,j]-smin)/swid)\n",
    "        i = min(max(i,1),nnodes)\n",
    "        ind = (1:nnodes)'+(i-1)*nnodes\n",
    "        p[ind] = p[ind] + q[i,j]\n",
    "    end\n",
    "    mc = MarkovChain(p)\n",
    "    p = stationary_distributions(mc)\n",
    "    \n",
    "    return smid,p,xx\n",
    "end"
   ]
  },
  {
   "cell_type": "code",
   "execution_count": 89,
   "metadata": {},
   "outputs": [],
   "source": [
    "nnodes = 20\n",
    "nyrs = 20\n",
    "s_dist = Array{Float64}(nyrs,nyrs)\n",
    "\n",
    "for i in 1:nnodes\n",
    "    npath = 1000\n",
    "    sinit = 5*ones(npath,1) \n",
    "    spath,xpath = GM_dpsimul(GM,sinit,nyrs,snodes[1],x_opt)\n",
    "    spath_x = vec(mean(spath,1))\n",
    "    s_dist[i,:] = spath_x[2:end]\n",
    "end"
   ]
  },
  {
   "cell_type": "code",
   "execution_count": 90,
   "metadata": {
    "scrolled": true
   },
   "outputs": [
    {
     "data": {
      "text/plain": [
       "20×20 Array{Float64,2}:\n",
       " 5.60311  6.07503  6.42076  6.67578  …  7.38859  7.39462  7.3882   7.38588\n",
       " 5.60137  6.06484  6.42085  6.67157     7.39801  7.40721  7.40508  7.40774\n",
       " 5.59688  6.05381  6.41467  6.68439     7.40806  7.41257  7.41233  7.41755\n",
       " 5.59361  6.06244  6.41557  6.69063     7.41645  7.41388  7.41799  7.40924\n",
       " 5.60606  6.07285  6.42105  6.67986     7.40517  7.4032   7.39605  7.40684\n",
       " 5.58495  6.06125  6.43257  6.69002  …  7.39819  7.40137  7.40942  7.41074\n",
       " 5.60618  6.06818  6.41945  6.68927     7.38604  7.37658  7.39057  7.39653\n",
       " 5.59328  6.05679  6.41382  6.68543     7.40564  7.41341  7.41797  7.42025\n",
       " 5.60143  6.07631  6.41816  6.68172     7.38092  7.39267  7.39966  7.3985 \n",
       " 5.59773  6.05613  6.4201   6.67617     7.38744  7.40159  7.39328  7.38301\n",
       " 5.59755  6.0536   6.42085  6.67542  …  7.39506  7.39098  7.40313  7.39972\n",
       " 5.60462  6.06199  6.4097   6.68445     7.3798   7.3792   7.38793  7.38491\n",
       " 5.60654  6.06675  6.43538  6.69122     7.41463  7.41131  7.40655  7.41628\n",
       " 5.60535  6.07301  6.42153  6.6754      7.3927   7.40255  7.39828  7.40886\n",
       " 5.59549  6.05668  6.40053  6.67086     7.39644  7.4007   7.40457  7.41275\n",
       " 5.59624  6.05864  6.41203  6.6838   …  7.3926   7.40099  7.41739  7.40212\n",
       " 5.60096  6.07641  6.42503  6.69458     7.39458  7.39304  7.395    7.39938\n",
       " 5.59207  6.04958  6.41737  6.69611     7.36783  7.37242  7.36573  7.38578\n",
       " 5.60341  6.06488  6.42539  6.6852      7.38358  7.38754  7.38058  7.39232\n",
       " 5.59477  6.06784  6.42667  6.70065     7.40907  7.40605  7.41848  7.42058"
      ]
     },
     "execution_count": 90,
     "metadata": {},
     "output_type": "execute_result"
    }
   ],
   "source": [
    "s_dist"
   ]
  },
  {
   "cell_type": "code",
   "execution_count": 91,
   "metadata": {},
   "outputs": [
    {
     "data": {
      "text/plain": [
       "400×1 Array{Float64,2}:\n",
       " 5.60311\n",
       " 5.60137\n",
       " 5.59688\n",
       " 5.59361\n",
       " 5.60606\n",
       " 5.58495\n",
       " 5.60618\n",
       " 5.59328\n",
       " 5.60143\n",
       " 5.59773\n",
       " 5.59755\n",
       " 5.60462\n",
       " 5.60654\n",
       " ⋮      \n",
       " 7.3985 \n",
       " 7.38301\n",
       " 7.39972\n",
       " 7.38491\n",
       " 7.41628\n",
       " 7.40886\n",
       " 7.41275\n",
       " 7.40212\n",
       " 7.39938\n",
       " 7.38578\n",
       " 7.39232\n",
       " 7.42058"
      ]
     },
     "execution_count": 91,
     "metadata": {},
     "output_type": "execute_result"
    }
   ],
   "source": [
    "re_s_dist=reshape(s_dist,(length(s_dist)),1)"
   ]
  },
  {
   "cell_type": "code",
   "execution_count": 92,
   "metadata": {
    "scrolled": false
   },
   "outputs": [
    {
     "data": {
      "text/html": [
       "<img src=\"data:image/png;base64,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\" />"
      ]
     },
     "execution_count": 92,
     "metadata": {},
     "output_type": "execute_result"
    }
   ],
   "source": [
    "histogram(re_s_dist, nbins=80)"
   ]
  },
  {
   "cell_type": "code",
   "execution_count": null,
   "metadata": {
    "collapsed": true
   },
   "outputs": [],
   "source": []
  }
 ],
 "metadata": {
  "kernelspec": {
   "display_name": "Julia 0.6.0",
   "language": "julia",
   "name": "julia-0.6"
  },
  "language_info": {
   "file_extension": ".jl",
   "mimetype": "application/julia",
   "name": "julia",
   "version": "0.6.0"
  }
 },
 "nbformat": 4,
 "nbformat_minor": 2
}
